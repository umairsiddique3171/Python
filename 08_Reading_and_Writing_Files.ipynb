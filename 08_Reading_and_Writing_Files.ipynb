{
 "cells": [
  {
   "cell_type": "code",
   "execution_count": null,
   "id": "6c0ccaef",
   "metadata": {},
   "outputs": [],
   "source": []
  },
  {
   "cell_type": "code",
   "execution_count": null,
   "id": "b30cc829",
   "metadata": {},
   "outputs": [],
   "source": []
  },
  {
   "cell_type": "code",
   "execution_count": 1,
   "id": "36689790",
   "metadata": {},
   "outputs": [
    {
     "name": "stdout",
     "output_type": "stream",
     "text": [
      "Overwriting mynewfile1.txt\n"
     ]
    }
   ],
   "source": [
    "%%writefile mynewfile1.txt\n",
    "Hello I am Umair Siddique\n",
    "I am Mechanical Engineer\n",
    "And I am AI programmer as well"
   ]
  },
  {
   "cell_type": "code",
   "execution_count": null,
   "id": "01efecf5",
   "metadata": {},
   "outputs": [],
   "source": []
  },
  {
   "cell_type": "code",
   "execution_count": null,
   "id": "9aae66da",
   "metadata": {},
   "outputs": [],
   "source": []
  },
  {
   "cell_type": "code",
   "execution_count": 2,
   "id": "acb8f5e2",
   "metadata": {},
   "outputs": [],
   "source": [
    "myfile = open(\"mynewfile1.txt\")"
   ]
  },
  {
   "cell_type": "code",
   "execution_count": null,
   "id": "f2fce08e",
   "metadata": {},
   "outputs": [],
   "source": []
  },
  {
   "cell_type": "code",
   "execution_count": 3,
   "id": "cb097783",
   "metadata": {},
   "outputs": [
    {
     "data": {
      "text/plain": [
       "'C:\\\\Users\\\\US593\\\\AI\\\\02_ML\\\\01_Python'"
      ]
     },
     "execution_count": 3,
     "metadata": {},
     "output_type": "execute_result"
    }
   ],
   "source": [
    "pwd"
   ]
  },
  {
   "cell_type": "code",
   "execution_count": null,
   "id": "60082384",
   "metadata": {},
   "outputs": [],
   "source": []
  },
  {
   "cell_type": "code",
   "execution_count": null,
   "id": "4778695d",
   "metadata": {},
   "outputs": [],
   "source": []
  },
  {
   "cell_type": "code",
   "execution_count": 4,
   "id": "3d2d4f35",
   "metadata": {},
   "outputs": [
    {
     "data": {
      "text/plain": [
       "'Hello I am Umair Siddique\\nI am Mechanical Engineer\\nAnd I am AI programmer as well\\n'"
      ]
     },
     "execution_count": 4,
     "metadata": {},
     "output_type": "execute_result"
    }
   ],
   "source": [
    "myfile.read()"
   ]
  },
  {
   "cell_type": "code",
   "execution_count": 5,
   "id": "77f2ec96",
   "metadata": {},
   "outputs": [
    {
     "data": {
      "text/plain": [
       "0"
      ]
     },
     "execution_count": 5,
     "metadata": {},
     "output_type": "execute_result"
    }
   ],
   "source": [
    "myfile.seek(0)"
   ]
  },
  {
   "cell_type": "code",
   "execution_count": 6,
   "id": "b4938759",
   "metadata": {},
   "outputs": [
    {
     "data": {
      "text/plain": [
       "'Hello I am Umair Siddique\\nI am Mechanical Engineer\\nAnd I am AI programmer as well\\n'"
      ]
     },
     "execution_count": 6,
     "metadata": {},
     "output_type": "execute_result"
    }
   ],
   "source": [
    "myfile.read()"
   ]
  },
  {
   "cell_type": "code",
   "execution_count": 7,
   "id": "832c880a",
   "metadata": {},
   "outputs": [
    {
     "data": {
      "text/plain": [
       "''"
      ]
     },
     "execution_count": 7,
     "metadata": {},
     "output_type": "execute_result"
    }
   ],
   "source": [
    "myfile.read()"
   ]
  },
  {
   "cell_type": "code",
   "execution_count": 8,
   "id": "e845fa2b",
   "metadata": {},
   "outputs": [
    {
     "data": {
      "text/plain": [
       "0"
      ]
     },
     "execution_count": 8,
     "metadata": {},
     "output_type": "execute_result"
    }
   ],
   "source": [
    "myfile.seek(0)"
   ]
  },
  {
   "cell_type": "code",
   "execution_count": 9,
   "id": "65cd1801",
   "metadata": {},
   "outputs": [
    {
     "data": {
      "text/plain": [
       "['Hello I am Umair Siddique\\n',\n",
       " 'I am Mechanical Engineer\\n',\n",
       " 'And I am AI programmer as well\\n']"
      ]
     },
     "execution_count": 9,
     "metadata": {},
     "output_type": "execute_result"
    }
   ],
   "source": [
    "myfile.readlines()"
   ]
  },
  {
   "cell_type": "code",
   "execution_count": 10,
   "id": "a5b7ef45",
   "metadata": {},
   "outputs": [],
   "source": [
    "myfile.close()"
   ]
  },
  {
   "cell_type": "code",
   "execution_count": null,
   "id": "47942826",
   "metadata": {},
   "outputs": [],
   "source": []
  },
  {
   "cell_type": "code",
   "execution_count": null,
   "id": "4daba9cc",
   "metadata": {},
   "outputs": [],
   "source": []
  },
  {
   "cell_type": "code",
   "execution_count": 11,
   "id": "d52ff8ea",
   "metadata": {},
   "outputs": [],
   "source": [
    "with open('mynewfile1.txt') as my_new_file:\n",
    "    contents = my_new_file.read()\n",
    "    my_new_file.seek(0)\n",
    "    \n",
    "    list1 = my_new_file.readlines()"
   ]
  },
  {
   "cell_type": "code",
   "execution_count": 12,
   "id": "338a993f",
   "metadata": {},
   "outputs": [
    {
     "data": {
      "text/plain": [
       "'Hello I am Umair Siddique\\nI am Mechanical Engineer\\nAnd I am AI programmer as well\\n'"
      ]
     },
     "execution_count": 12,
     "metadata": {},
     "output_type": "execute_result"
    }
   ],
   "source": [
    "contents"
   ]
  },
  {
   "cell_type": "code",
   "execution_count": 13,
   "id": "75c3867b",
   "metadata": {},
   "outputs": [
    {
     "data": {
      "text/plain": [
       "['Hello I am Umair Siddique\\n',\n",
       " 'I am Mechanical Engineer\\n',\n",
       " 'And I am AI programmer as well\\n']"
      ]
     },
     "execution_count": 13,
     "metadata": {},
     "output_type": "execute_result"
    }
   ],
   "source": [
    "list1"
   ]
  },
  {
   "cell_type": "code",
   "execution_count": null,
   "id": "a0c11016",
   "metadata": {},
   "outputs": [],
   "source": []
  },
  {
   "cell_type": "code",
   "execution_count": null,
   "id": "bbfb15e7",
   "metadata": {},
   "outputs": [],
   "source": []
  },
  {
   "cell_type": "code",
   "execution_count": null,
   "id": "13782952",
   "metadata": {},
   "outputs": [],
   "source": []
  },
  {
   "cell_type": "code",
   "execution_count": 14,
   "id": "8ef7ff90",
   "metadata": {},
   "outputs": [],
   "source": [
    "with open(\"mynewfile1.txt\",mode = 'r') as ndox :\n",
    "    ctnt = ndox.read()"
   ]
  },
  {
   "cell_type": "code",
   "execution_count": 15,
   "id": "438a1bb2",
   "metadata": {},
   "outputs": [
    {
     "data": {
      "text/plain": [
       "'Hello I am Umair Siddique\\nI am Mechanical Engineer\\nAnd I am AI programmer as well\\n'"
      ]
     },
     "execution_count": 15,
     "metadata": {},
     "output_type": "execute_result"
    }
   ],
   "source": [
    "ctnt"
   ]
  },
  {
   "cell_type": "code",
   "execution_count": null,
   "id": "65abd8b8",
   "metadata": {},
   "outputs": [],
   "source": []
  },
  {
   "cell_type": "code",
   "execution_count": null,
   "id": "838dcca2",
   "metadata": {},
   "outputs": [],
   "source": []
  },
  {
   "cell_type": "code",
   "execution_count": null,
   "id": "846c8bea",
   "metadata": {},
   "outputs": [],
   "source": []
  },
  {
   "cell_type": "code",
   "execution_count": null,
   "id": "0af9aecc",
   "metadata": {},
   "outputs": [],
   "source": []
  },
  {
   "cell_type": "code",
   "execution_count": null,
   "id": "0d54e816",
   "metadata": {},
   "outputs": [],
   "source": []
  },
  {
   "cell_type": "code",
   "execution_count": 16,
   "id": "dca7044f",
   "metadata": {},
   "outputs": [
    {
     "name": "stdout",
     "output_type": "stream",
     "text": [
      "Overwriting cvt.txt\n"
     ]
    }
   ],
   "source": [
    "%%writefile cvt.txt\n",
    "I don't understand cvt"
   ]
  },
  {
   "cell_type": "code",
   "execution_count": 17,
   "id": "4ffd9123",
   "metadata": {},
   "outputs": [
    {
     "name": "stdout",
     "output_type": "stream",
     "text": [
      "I don't understand cvt\n",
      "\n"
     ]
    }
   ],
   "source": [
    "with open('cvt.txt', mode = 'r') as x:\n",
    "    print(x.read())"
   ]
  },
  {
   "cell_type": "code",
   "execution_count": 18,
   "id": "4de0ec2a",
   "metadata": {},
   "outputs": [],
   "source": [
    "with open('cvt.txt', mode = 'a') as x:\n",
    "    x.write(\"I don't like it as well\")"
   ]
  },
  {
   "cell_type": "code",
   "execution_count": 19,
   "id": "3b757c61",
   "metadata": {},
   "outputs": [],
   "source": [
    "with open('cvt.txt',mode = 'w') as y:\n",
    "    y.write(\"I don't understant it\")"
   ]
  },
  {
   "cell_type": "code",
   "execution_count": null,
   "id": "1f26f2be",
   "metadata": {},
   "outputs": [],
   "source": []
  },
  {
   "cell_type": "code",
   "execution_count": null,
   "id": "663922ac",
   "metadata": {},
   "outputs": [],
   "source": []
  },
  {
   "cell_type": "code",
   "execution_count": null,
   "id": "99ec245d",
   "metadata": {},
   "outputs": [],
   "source": []
  },
  {
   "cell_type": "code",
   "execution_count": null,
   "id": "761486a1",
   "metadata": {},
   "outputs": [],
   "source": []
  },
  {
   "cell_type": "code",
   "execution_count": null,
   "id": "efb32fb2",
   "metadata": {},
   "outputs": [],
   "source": []
  },
  {
   "cell_type": "code",
   "execution_count": null,
   "id": "f71a1ab1",
   "metadata": {},
   "outputs": [],
   "source": []
  },
  {
   "cell_type": "code",
   "execution_count": 39,
   "id": "a809507b",
   "metadata": {},
   "outputs": [
    {
     "name": "stdout",
     "output_type": "stream",
     "text": [
      "Overwriting newfile1.txt\n"
     ]
    }
   ],
   "source": [
    "%%writefile newfile1.txt\n",
    "I am programmer who want to master programming as soon as possible\n",
    "I also want to become specialist in solving problems\n",
    "I wasted so much of my time, but now I am committed to not waste any more time"
   ]
  },
  {
   "cell_type": "code",
   "execution_count": 40,
   "id": "43561c3b",
   "metadata": {},
   "outputs": [],
   "source": [
    "file = open('newfile1.txt','r')"
   ]
  },
  {
   "cell_type": "code",
   "execution_count": 41,
   "id": "4c8ea0dc",
   "metadata": {},
   "outputs": [
    {
     "data": {
      "text/plain": [
       "<_io.TextIOWrapper name='newfile1.txt' mode='r' encoding='cp1252'>"
      ]
     },
     "execution_count": 41,
     "metadata": {},
     "output_type": "execute_result"
    }
   ],
   "source": [
    "file"
   ]
  },
  {
   "cell_type": "code",
   "execution_count": 42,
   "id": "0de3db3f",
   "metadata": {},
   "outputs": [
    {
     "data": {
      "text/plain": [
       "_io.TextIOWrapper"
      ]
     },
     "execution_count": 42,
     "metadata": {},
     "output_type": "execute_result"
    }
   ],
   "source": [
    "type(file)"
   ]
  },
  {
   "cell_type": "code",
   "execution_count": 43,
   "id": "5aafba4c",
   "metadata": {},
   "outputs": [
    {
     "data": {
      "text/plain": [
       "'I am programmer who want to master programming as soon as possible\\nI also want to become specialist in solving problems\\nI wasted so much of my time, but now I am committed to not waste any more time\\n'"
      ]
     },
     "execution_count": 43,
     "metadata": {},
     "output_type": "execute_result"
    }
   ],
   "source": [
    "file.read()"
   ]
  },
  {
   "cell_type": "code",
   "execution_count": 44,
   "id": "4bfe5f9e",
   "metadata": {},
   "outputs": [
    {
     "data": {
      "text/plain": [
       "''"
      ]
     },
     "execution_count": 44,
     "metadata": {},
     "output_type": "execute_result"
    }
   ],
   "source": [
    "file.read()"
   ]
  },
  {
   "cell_type": "code",
   "execution_count": 45,
   "id": "97bc91b2",
   "metadata": {},
   "outputs": [
    {
     "data": {
      "text/plain": [
       "0"
      ]
     },
     "execution_count": 45,
     "metadata": {},
     "output_type": "execute_result"
    }
   ],
   "source": [
    "file.seek(0)"
   ]
  },
  {
   "cell_type": "code",
   "execution_count": 46,
   "id": "fba8a263",
   "metadata": {},
   "outputs": [
    {
     "data": {
      "text/plain": [
       "'I am programmer who want to master programming as soon as possible\\nI also want to become specialist in solving problems\\nI wasted so much of my time, but now I am committed to not waste any more time\\n'"
      ]
     },
     "execution_count": 46,
     "metadata": {},
     "output_type": "execute_result"
    }
   ],
   "source": [
    "file.read()"
   ]
  },
  {
   "cell_type": "code",
   "execution_count": 47,
   "id": "4d121fa6",
   "metadata": {},
   "outputs": [
    {
     "data": {
      "text/plain": [
       "0"
      ]
     },
     "execution_count": 47,
     "metadata": {},
     "output_type": "execute_result"
    }
   ],
   "source": [
    "file.seek(0)"
   ]
  },
  {
   "cell_type": "code",
   "execution_count": 48,
   "id": "7c1e258a",
   "metadata": {},
   "outputs": [
    {
     "name": "stdout",
     "output_type": "stream",
     "text": [
      "I am programmer who want to master programming as soon as possible\n",
      "\n",
      "I also want to become specialist in solving problems\n",
      "\n",
      "I wasted so much of my time, but now I am committed to not waste any more time\n",
      "\n"
     ]
    }
   ],
   "source": [
    "for line in file:\n",
    "    print(line)"
   ]
  },
  {
   "cell_type": "code",
   "execution_count": 52,
   "id": "c681d238",
   "metadata": {},
   "outputs": [
    {
     "name": "stdout",
     "output_type": "stream",
     "text": [
      "I am programmer who want to master programming as soon as possible\n",
      "\n"
     ]
    }
   ],
   "source": [
    "file.seek(0)\n",
    "for line in file:\n",
    "    if 'programmer' in line.lower():\n",
    "        print(line)"
   ]
  },
  {
   "cell_type": "code",
   "execution_count": 54,
   "id": "f23bf3bf",
   "metadata": {},
   "outputs": [],
   "source": [
    "file.close()"
   ]
  },
  {
   "cell_type": "code",
   "execution_count": 56,
   "id": "6a700a38",
   "metadata": {},
   "outputs": [
    {
     "name": "stdout",
     "output_type": "stream",
     "text": [
      "I am programmer who want to master programming as soon as possible\n",
      "\n"
     ]
    }
   ],
   "source": [
    "with open('newfile1.txt','r') as file:\n",
    "    for line in file:\n",
    "        if 'programmer' in line.lower():\n",
    "            print(line)"
   ]
  },
  {
   "cell_type": "code",
   "execution_count": 10,
   "id": "b0cd9e74",
   "metadata": {},
   "outputs": [
    {
     "name": "stdout",
     "output_type": "stream",
     "text": [
      "I am programmer who want to master programming as soon as possible\n",
      "I also want to become specialist in solving problems\n",
      "I wasted so much of my time, but now I am committed to not waste any more time\n"
     ]
    }
   ],
   "source": [
    "with open('newfile1.txt','r') as file:\n",
    "    line = file.readline() # only read one line\n",
    "    while line:\n",
    "        print(line,end = '')\n",
    "        line = file.readline()"
   ]
  },
  {
   "cell_type": "code",
   "execution_count": 13,
   "id": "ef0a08c1",
   "metadata": {},
   "outputs": [
    {
     "name": "stdout",
     "output_type": "stream",
     "text": [
      "I am programmer who want to master programming as soon as possible\n",
      "I also want to become specialist in solving problems\n",
      "I wasted so much of my time, but now I am committed to not waste any more time\n"
     ]
    }
   ],
   "source": [
    "with open('newfile1.txt','r') as file:\n",
    "    line = file.readlines() # only read one line\n",
    "    for x in line:\n",
    "        print(x,end = '')"
   ]
  },
  {
   "cell_type": "code",
   "execution_count": 15,
   "id": "5effbd5f",
   "metadata": {},
   "outputs": [
    {
     "name": "stdout",
     "output_type": "stream",
     "text": [
      "I wasted so much of my time, but now I am committed to not waste any more time\n",
      "I also want to become specialist in solving problems\n",
      "I am programmer who want to master programming as soon as possible\n"
     ]
    }
   ],
   "source": [
    "with open('newfile1.txt','r') as file:\n",
    "    line = file.readlines() \n",
    "    for x in line[::-1]:\n",
    "        print(x,end = '')"
   ]
  },
  {
   "cell_type": "code",
   "execution_count": 18,
   "id": "ef225ff1",
   "metadata": {},
   "outputs": [
    {
     "name": "stdout",
     "output_type": "stream",
     "text": [
      "\n",
      "emit erom yna etsaw ton ot dettimmoc ma I won tub ,emit ym fo hcum os detsaw I\n",
      "smelborp gnivlos ni tsilaiceps emoceb ot tnaw osla I\n",
      "elbissop sa noos sa gnimmargorp retsam ot tnaw ohw remmargorp ma I"
     ]
    }
   ],
   "source": [
    "with open('newfile1.txt','r') as file:\n",
    "    line = file.read() \n",
    "    for char in line[::-1]:\n",
    "        print(char,end = '')"
   ]
  },
  {
   "cell_type": "code",
   "execution_count": 22,
   "id": "174562e9",
   "metadata": {},
   "outputs": [],
   "source": [
    "syllabus = ['Laodes','statics','materials']\n",
    "with open('syllabus.txt','w') as file:\n",
    "    for subjects in syllabus:\n",
    "        print(subjects,file = file)"
   ]
  },
  {
   "cell_type": "code",
   "execution_count": 23,
   "id": "c387017c",
   "metadata": {},
   "outputs": [
    {
     "name": "stdout",
     "output_type": "stream",
     "text": [
      "Laodes\n",
      "statics\n",
      "materials\n",
      "\n"
     ]
    }
   ],
   "source": [
    "with open('syllabus.txt','r') as file:\n",
    "    print(file.read())"
   ]
  },
  {
   "cell_type": "code",
   "execution_count": null,
   "id": "2e77af54",
   "metadata": {},
   "outputs": [],
   "source": []
  }
 ],
 "metadata": {
  "kernelspec": {
   "display_name": "Python 3 (ipykernel)",
   "language": "python",
   "name": "python3"
  },
  "language_info": {
   "codemirror_mode": {
    "name": "ipython",
    "version": 3
   },
   "file_extension": ".py",
   "mimetype": "text/x-python",
   "name": "python",
   "nbconvert_exporter": "python",
   "pygments_lexer": "ipython3",
   "version": "3.9.17"
  }
 },
 "nbformat": 4,
 "nbformat_minor": 5
}
