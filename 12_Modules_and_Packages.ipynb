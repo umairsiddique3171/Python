{
 "cells": [
  {
   "cell_type": "code",
   "execution_count": 1,
   "id": "37974967",
   "metadata": {},
   "outputs": [],
   "source": [
    "# if you want to do something on anything specific\n",
    "# search for python package for that specific task\n",
    "# suppose if you want to work with pdf files\n",
    "# then just search python package for pdf\n",
    "# just check the name of package availabe\n",
    "# then just enter your command prompt or jupyter notebook\n",
    "# type pip install package name and it will download that package\n",
    "# you should be able to import that package then\n",
    "# you can also check the documentation on google to work with it"
   ]
  },
  {
   "cell_type": "code",
   "execution_count": null,
   "id": "452720d9",
   "metadata": {},
   "outputs": [],
   "source": []
  },
  {
   "cell_type": "code",
   "execution_count": null,
   "id": "8587127a",
   "metadata": {},
   "outputs": [],
   "source": []
  },
  {
   "cell_type": "code",
   "execution_count": null,
   "id": "1c56b8bb",
   "metadata": {},
   "outputs": [],
   "source": []
  },
  {
   "cell_type": "code",
   "execution_count": 2,
   "id": "e99a370a",
   "metadata": {},
   "outputs": [],
   "source": [
    "# how to create your own modules and packages:"
   ]
  },
  {
   "cell_type": "code",
   "execution_count": 3,
   "id": "92caf0a4",
   "metadata": {},
   "outputs": [],
   "source": [
    "# modules are just .py scripts that you call in another .py script"
   ]
  },
  {
   "cell_type": "code",
   "execution_count": 4,
   "id": "46afd0ef",
   "metadata": {},
   "outputs": [],
   "source": [
    "# packages are a collection of modules"
   ]
  },
  {
   "cell_type": "code",
   "execution_count": null,
   "id": "f273df2c",
   "metadata": {},
   "outputs": [],
   "source": []
  },
  {
   "cell_type": "code",
   "execution_count": null,
   "id": "159d9181",
   "metadata": {},
   "outputs": [],
   "source": []
  },
  {
   "cell_type": "code",
   "execution_count": null,
   "id": "9f7214a4",
   "metadata": {},
   "outputs": [],
   "source": []
  },
  {
   "cell_type": "code",
   "execution_count": 5,
   "id": "76a1bf3c",
   "metadata": {},
   "outputs": [],
   "source": [
    "# for making any folder as a package you must include empty __init__.py file in that folder to show that it's a package"
   ]
  },
  {
   "cell_type": "code",
   "execution_count": null,
   "id": "180151c0",
   "metadata": {},
   "outputs": [],
   "source": []
  },
  {
   "cell_type": "code",
   "execution_count": null,
   "id": "38d50a29",
   "metadata": {},
   "outputs": [],
   "source": []
  },
  {
   "cell_type": "code",
   "execution_count": null,
   "id": "44c09905",
   "metadata": {},
   "outputs": [],
   "source": []
  },
  {
   "cell_type": "code",
   "execution_count": 6,
   "id": "876cd300",
   "metadata": {},
   "outputs": [],
   "source": [
    "# if __name__ == '__main__':"
   ]
  },
  {
   "cell_type": "code",
   "execution_count": null,
   "id": "655e5dfb",
   "metadata": {},
   "outputs": [],
   "source": []
  },
  {
   "cell_type": "code",
   "execution_count": null,
   "id": "cc0e936b",
   "metadata": {},
   "outputs": [],
   "source": []
  },
  {
   "cell_type": "code",
   "execution_count": null,
   "id": "24e27951",
   "metadata": {},
   "outputs": [],
   "source": []
  },
  {
   "cell_type": "code",
   "execution_count": 1,
   "id": "c5c2a85e",
   "metadata": {},
   "outputs": [],
   "source": [
    "# modules are combined to form a library"
   ]
  },
  {
   "cell_type": "code",
   "execution_count": 32,
   "id": "09b78035",
   "metadata": {},
   "outputs": [],
   "source": [
    "# from module import *\n",
    "# from module import specific function\n",
    "# from module import specific class\n",
    "# from module import specific variable"
   ]
  },
  {
   "cell_type": "code",
   "execution_count": 33,
   "id": "da38bc46",
   "metadata": {},
   "outputs": [],
   "source": [
    "# some built-in python modules\n",
    "\n",
    "# import random\n",
    "# import os \n",
    "# import sys\n",
    "# import datetime"
   ]
  },
  {
   "cell_type": "code",
   "execution_count": null,
   "id": "cb8c12e9",
   "metadata": {},
   "outputs": [],
   "source": []
  },
  {
   "cell_type": "code",
   "execution_count": null,
   "id": "1644799c",
   "metadata": {},
   "outputs": [],
   "source": []
  },
  {
   "cell_type": "code",
   "execution_count": null,
   "id": "21d7fa08",
   "metadata": {},
   "outputs": [],
   "source": []
  },
  {
   "cell_type": "code",
   "execution_count": 34,
   "id": "e76b86c8",
   "metadata": {},
   "outputs": [
    {
     "name": "stdout",
     "output_type": "stream",
     "text": [
      "2\n"
     ]
    }
   ],
   "source": [
    "import random\n",
    "print(random.randint(1,3))"
   ]
  },
  {
   "cell_type": "code",
   "execution_count": null,
   "id": "c11097fa",
   "metadata": {},
   "outputs": [],
   "source": []
  },
  {
   "cell_type": "code",
   "execution_count": null,
   "id": "61f2b290",
   "metadata": {},
   "outputs": [],
   "source": []
  },
  {
   "cell_type": "code",
   "execution_count": null,
   "id": "98632666",
   "metadata": {},
   "outputs": [],
   "source": []
  },
  {
   "cell_type": "code",
   "execution_count": 35,
   "id": "fefd44b5",
   "metadata": {},
   "outputs": [
    {
     "name": "stdout",
     "output_type": "stream",
     "text": [
      "2023-10-03 22:25:21.495109\n"
     ]
    }
   ],
   "source": [
    "import datetime\n",
    "date = datetime.datetime.now()\n",
    "print(date)"
   ]
  },
  {
   "cell_type": "code",
   "execution_count": 36,
   "id": "d0877f3c",
   "metadata": {},
   "outputs": [
    {
     "data": {
      "text/plain": [
       "datetime.datetime"
      ]
     },
     "execution_count": 36,
     "metadata": {},
     "output_type": "execute_result"
    }
   ],
   "source": [
    "type(date)"
   ]
  },
  {
   "cell_type": "code",
   "execution_count": 37,
   "id": "508e6488",
   "metadata": {},
   "outputs": [
    {
     "name": "stdout",
     "output_type": "stream",
     "text": [
      "7375 days, 0:00:00\n"
     ]
    }
   ],
   "source": [
    "dob = datetime.date(2003,7,25)\n",
    "current = datetime.date.today()\n",
    "age = current - dob\n",
    "print(age)"
   ]
  },
  {
   "cell_type": "code",
   "execution_count": null,
   "id": "935283be",
   "metadata": {},
   "outputs": [],
   "source": []
  },
  {
   "cell_type": "code",
   "execution_count": null,
   "id": "9114356d",
   "metadata": {},
   "outputs": [],
   "source": []
  },
  {
   "cell_type": "code",
   "execution_count": 38,
   "id": "a7c1209d",
   "metadata": {},
   "outputs": [],
   "source": [
    "import time"
   ]
  },
  {
   "cell_type": "code",
   "execution_count": 39,
   "id": "febb2a1c",
   "metadata": {},
   "outputs": [
    {
     "name": "stdout",
     "output_type": "stream",
     "text": [
      "0.0\n"
     ]
    }
   ],
   "source": [
    "tic = time.time()\n",
    "tac = time.time()\n",
    "x = (tac - tic)*1000\n",
    "print(x)"
   ]
  },
  {
   "cell_type": "code",
   "execution_count": null,
   "id": "b86f2f5e",
   "metadata": {},
   "outputs": [],
   "source": []
  }
 ],
 "metadata": {
  "kernelspec": {
   "display_name": "Python 3 (ipykernel)",
   "language": "python",
   "name": "python3"
  },
  "language_info": {
   "codemirror_mode": {
    "name": "ipython",
    "version": 3
   },
   "file_extension": ".py",
   "mimetype": "text/x-python",
   "name": "python",
   "nbconvert_exporter": "python",
   "pygments_lexer": "ipython3",
   "version": "3.9.17"
  }
 },
 "nbformat": 4,
 "nbformat_minor": 5
}
