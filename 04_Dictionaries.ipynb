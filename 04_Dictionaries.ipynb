{
 "cells": [
  {
   "cell_type": "code",
   "execution_count": null,
   "id": "af0fd8da",
   "metadata": {},
   "outputs": [],
   "source": [
    "# unordered sequence of datatypes"
   ]
  },
  {
   "cell_type": "code",
   "execution_count": 1,
   "id": "f437f2ce",
   "metadata": {},
   "outputs": [],
   "source": [
    "employee = {\n",
    "    'Name' : 'Ali Asif',\n",
    "    'Education' : 'Graduate',\n",
    "    'Age' : 21\n",
    "}"
   ]
  },
  {
   "cell_type": "code",
   "execution_count": 2,
   "id": "c49767a0",
   "metadata": {},
   "outputs": [
    {
     "data": {
      "text/plain": [
       "'Ali Asif'"
      ]
     },
     "execution_count": 2,
     "metadata": {},
     "output_type": "execute_result"
    }
   ],
   "source": [
    "employee['Name']"
   ]
  },
  {
   "cell_type": "code",
   "execution_count": null,
   "id": "71f1644d",
   "metadata": {},
   "outputs": [],
   "source": []
  },
  {
   "cell_type": "code",
   "execution_count": 3,
   "id": "a170e999",
   "metadata": {},
   "outputs": [
    {
     "data": {
      "text/plain": [
       "dict_items([('Name', 'Ali Asif'), ('Education', 'Graduate'), ('Age', 21)])"
      ]
     },
     "execution_count": 3,
     "metadata": {},
     "output_type": "execute_result"
    }
   ],
   "source": [
    "employee.items()"
   ]
  },
  {
   "cell_type": "code",
   "execution_count": 4,
   "id": "253e57e1",
   "metadata": {},
   "outputs": [
    {
     "data": {
      "text/plain": [
       "dict_keys(['Name', 'Education', 'Age'])"
      ]
     },
     "execution_count": 4,
     "metadata": {},
     "output_type": "execute_result"
    }
   ],
   "source": [
    "employee.keys()"
   ]
  },
  {
   "cell_type": "code",
   "execution_count": 5,
   "id": "09f76952",
   "metadata": {},
   "outputs": [
    {
     "data": {
      "text/plain": [
       "dict_values(['Ali Asif', 'Graduate', 21])"
      ]
     },
     "execution_count": 5,
     "metadata": {},
     "output_type": "execute_result"
    }
   ],
   "source": [
    "employee.values()"
   ]
  },
  {
   "cell_type": "code",
   "execution_count": null,
   "id": "0391bbc4",
   "metadata": {},
   "outputs": [],
   "source": []
  },
  {
   "cell_type": "code",
   "execution_count": 6,
   "id": "ce1e0d11",
   "metadata": {},
   "outputs": [
    {
     "name": "stdout",
     "output_type": "stream",
     "text": [
      "Not Found\n"
     ]
    }
   ],
   "source": [
    "print(employee.get('Gender','Not Found'))"
   ]
  },
  {
   "cell_type": "code",
   "execution_count": null,
   "id": "9e31c6ee",
   "metadata": {},
   "outputs": [],
   "source": []
  },
  {
   "cell_type": "code",
   "execution_count": 7,
   "id": "51b4faf3",
   "metadata": {},
   "outputs": [],
   "source": [
    "employee.update({'Name':'Ammar','Age':20,'Phone No.': 3454323445})"
   ]
  },
  {
   "cell_type": "code",
   "execution_count": 8,
   "id": "c1b157bf",
   "metadata": {},
   "outputs": [
    {
     "data": {
      "text/plain": [
       "{'Name': 'Ammar', 'Education': 'Graduate', 'Age': 20, 'Phone No.': 3454323445}"
      ]
     },
     "execution_count": 8,
     "metadata": {},
     "output_type": "execute_result"
    }
   ],
   "source": [
    "employee"
   ]
  },
  {
   "cell_type": "code",
   "execution_count": null,
   "id": "a68ac67d",
   "metadata": {},
   "outputs": [],
   "source": []
  },
  {
   "cell_type": "code",
   "execution_count": 9,
   "id": "6db590ab",
   "metadata": {},
   "outputs": [],
   "source": [
    "del employee['Phone No.']"
   ]
  },
  {
   "cell_type": "code",
   "execution_count": 10,
   "id": "f384a36b",
   "metadata": {},
   "outputs": [
    {
     "data": {
      "text/plain": [
       "{'Name': 'Ammar', 'Education': 'Graduate', 'Age': 20}"
      ]
     },
     "execution_count": 10,
     "metadata": {},
     "output_type": "execute_result"
    }
   ],
   "source": [
    "employee"
   ]
  },
  {
   "cell_type": "code",
   "execution_count": null,
   "id": "ead3b56a",
   "metadata": {},
   "outputs": [],
   "source": []
  },
  {
   "cell_type": "code",
   "execution_count": 11,
   "id": "f2f4f2c7",
   "metadata": {},
   "outputs": [],
   "source": [
    "education = employee.pop('Education')"
   ]
  },
  {
   "cell_type": "code",
   "execution_count": 12,
   "id": "78310694",
   "metadata": {},
   "outputs": [
    {
     "data": {
      "text/plain": [
       "{'Name': 'Ammar', 'Age': 20}"
      ]
     },
     "execution_count": 12,
     "metadata": {},
     "output_type": "execute_result"
    }
   ],
   "source": [
    "employee"
   ]
  },
  {
   "cell_type": "code",
   "execution_count": 13,
   "id": "6009cd99",
   "metadata": {},
   "outputs": [
    {
     "data": {
      "text/plain": [
       "'Graduate'"
      ]
     },
     "execution_count": 13,
     "metadata": {},
     "output_type": "execute_result"
    }
   ],
   "source": [
    "education"
   ]
  },
  {
   "cell_type": "code",
   "execution_count": null,
   "id": "251d6855",
   "metadata": {},
   "outputs": [],
   "source": []
  },
  {
   "cell_type": "code",
   "execution_count": 14,
   "id": "089b62c6",
   "metadata": {},
   "outputs": [
    {
     "data": {
      "text/plain": [
       "2"
      ]
     },
     "execution_count": 14,
     "metadata": {},
     "output_type": "execute_result"
    }
   ],
   "source": [
    "len(employee)"
   ]
  },
  {
   "cell_type": "code",
   "execution_count": null,
   "id": "34c81200",
   "metadata": {},
   "outputs": [],
   "source": []
  },
  {
   "cell_type": "code",
   "execution_count": 15,
   "id": "c43dc4c1",
   "metadata": {},
   "outputs": [],
   "source": [
    "prices = dict([('orange',2),('banana',5),('grapes',7)])"
   ]
  },
  {
   "cell_type": "code",
   "execution_count": 16,
   "id": "bbe06dc3",
   "metadata": {},
   "outputs": [
    {
     "data": {
      "text/plain": [
       "{'orange': 2, 'banana': 5, 'grapes': 7}"
      ]
     },
     "execution_count": 16,
     "metadata": {},
     "output_type": "execute_result"
    }
   ],
   "source": [
    "prices"
   ]
  },
  {
   "cell_type": "code",
   "execution_count": 17,
   "id": "6379c985",
   "metadata": {},
   "outputs": [],
   "source": [
    "prices1 = dict(orange=2,banana= 5,grape=7)"
   ]
  },
  {
   "cell_type": "code",
   "execution_count": 18,
   "id": "ac86cd1d",
   "metadata": {},
   "outputs": [
    {
     "data": {
      "text/plain": [
       "{'orange': 2, 'banana': 5, 'grape': 7}"
      ]
     },
     "execution_count": 18,
     "metadata": {},
     "output_type": "execute_result"
    }
   ],
   "source": [
    "prices1"
   ]
  },
  {
   "cell_type": "code",
   "execution_count": null,
   "id": "1e20e0a6",
   "metadata": {},
   "outputs": [],
   "source": []
  },
  {
   "cell_type": "code",
   "execution_count": null,
   "id": "5abb8076",
   "metadata": {},
   "outputs": [],
   "source": []
  },
  {
   "cell_type": "code",
   "execution_count": 1,
   "id": "d5f5010d",
   "metadata": {},
   "outputs": [],
   "source": [
    "car = {\n",
    "    'model' : 'Suzuki',\n",
    "    'year' : [2003,2005,2006],\n",
    "    'condition' : {'good':'yes','bad':'no'}, \n",
    "}"
   ]
  },
  {
   "cell_type": "code",
   "execution_count": 4,
   "id": "6188bf8e",
   "metadata": {},
   "outputs": [
    {
     "data": {
      "text/plain": [
       "'Suzuki'"
      ]
     },
     "execution_count": 4,
     "metadata": {},
     "output_type": "execute_result"
    }
   ],
   "source": [
    "car['model']"
   ]
  },
  {
   "cell_type": "code",
   "execution_count": 6,
   "id": "1907d87b",
   "metadata": {},
   "outputs": [
    {
     "data": {
      "text/plain": [
       "2005"
      ]
     },
     "execution_count": 6,
     "metadata": {},
     "output_type": "execute_result"
    }
   ],
   "source": [
    "car['year'][1]"
   ]
  },
  {
   "cell_type": "code",
   "execution_count": 7,
   "id": "c2315d73",
   "metadata": {},
   "outputs": [
    {
     "data": {
      "text/plain": [
       "'no'"
      ]
     },
     "execution_count": 7,
     "metadata": {},
     "output_type": "execute_result"
    }
   ],
   "source": [
    "car['condition']['bad']"
   ]
  },
  {
   "cell_type": "code",
   "execution_count": 8,
   "id": "d35beb04",
   "metadata": {},
   "outputs": [],
   "source": [
    "# key must be immutable, whether you put string or tuple it's upto you"
   ]
  },
  {
   "cell_type": "code",
   "execution_count": null,
   "id": "ade0bc9c",
   "metadata": {},
   "outputs": [],
   "source": []
  },
  {
   "cell_type": "code",
   "execution_count": null,
   "id": "654a4bc7",
   "metadata": {},
   "outputs": [],
   "source": []
  },
  {
   "cell_type": "code",
   "execution_count": 9,
   "id": "618c6628",
   "metadata": {},
   "outputs": [],
   "source": [
    "#dictionery.popitem()"
   ]
  },
  {
   "cell_type": "code",
   "execution_count": null,
   "id": "2ef24139",
   "metadata": {},
   "outputs": [],
   "source": []
  },
  {
   "cell_type": "code",
   "execution_count": null,
   "id": "c6e4e8c4",
   "metadata": {},
   "outputs": [],
   "source": []
  },
  {
   "cell_type": "code",
   "execution_count": null,
   "id": "4bad86c2",
   "metadata": {},
   "outputs": [],
   "source": []
  },
  {
   "cell_type": "code",
   "execution_count": null,
   "id": "22aee22f",
   "metadata": {},
   "outputs": [],
   "source": []
  },
  {
   "cell_type": "code",
   "execution_count": null,
   "id": "caafae15",
   "metadata": {},
   "outputs": [],
   "source": []
  },
  {
   "cell_type": "code",
   "execution_count": 15,
   "id": "5d244fb2",
   "metadata": {},
   "outputs": [],
   "source": [
    "# sets"
   ]
  },
  {
   "cell_type": "code",
   "execution_count": 16,
   "id": "82a7f021",
   "metadata": {},
   "outputs": [],
   "source": [
    "a = {1,3,5,6,2,5}\n",
    "b = {1,36,2,6,2,6,7}"
   ]
  },
  {
   "cell_type": "code",
   "execution_count": 17,
   "id": "a0e8e65a",
   "metadata": {},
   "outputs": [
    {
     "name": "stdout",
     "output_type": "stream",
     "text": [
      "{1, 2, 3, 5, 6}\n"
     ]
    }
   ],
   "source": [
    "print(a)"
   ]
  },
  {
   "cell_type": "code",
   "execution_count": 18,
   "id": "c0aa967b",
   "metadata": {},
   "outputs": [
    {
     "name": "stdout",
     "output_type": "stream",
     "text": [
      "{1, 2, 36, 6, 7}\n"
     ]
    }
   ],
   "source": [
    "print(b)"
   ]
  },
  {
   "cell_type": "code",
   "execution_count": 19,
   "id": "ecd5e2fd",
   "metadata": {},
   "outputs": [
    {
     "data": {
      "text/plain": [
       "{1, 2, 6}"
      ]
     },
     "execution_count": 19,
     "metadata": {},
     "output_type": "execute_result"
    }
   ],
   "source": [
    "a.intersection(b)"
   ]
  },
  {
   "cell_type": "code",
   "execution_count": 20,
   "id": "f0fd986d",
   "metadata": {},
   "outputs": [
    {
     "data": {
      "text/plain": [
       "{1, 2, 3, 5, 6, 7, 36}"
      ]
     },
     "execution_count": 20,
     "metadata": {},
     "output_type": "execute_result"
    }
   ],
   "source": [
    "a.union(b)"
   ]
  },
  {
   "cell_type": "code",
   "execution_count": 21,
   "id": "04aa83ce",
   "metadata": {},
   "outputs": [],
   "source": [
    "a.add('john')"
   ]
  },
  {
   "cell_type": "code",
   "execution_count": 22,
   "id": "1de60786",
   "metadata": {},
   "outputs": [
    {
     "data": {
      "text/plain": [
       "{1, 2, 3, 5, 6, 'john'}"
      ]
     },
     "execution_count": 22,
     "metadata": {},
     "output_type": "execute_result"
    }
   ],
   "source": [
    "a"
   ]
  },
  {
   "cell_type": "code",
   "execution_count": 23,
   "id": "b5473ef7",
   "metadata": {},
   "outputs": [],
   "source": [
    "# set is also unordered sequence of datatypes"
   ]
  },
  {
   "cell_type": "code",
   "execution_count": 24,
   "id": "6067a3d3",
   "metadata": {},
   "outputs": [],
   "source": [
    "a.update(['jack'])"
   ]
  },
  {
   "cell_type": "code",
   "execution_count": 25,
   "id": "a4b29b15",
   "metadata": {},
   "outputs": [
    {
     "data": {
      "text/plain": [
       "{1, 2, 3, 5, 6, 'jack', 'john'}"
      ]
     },
     "execution_count": 25,
     "metadata": {},
     "output_type": "execute_result"
    }
   ],
   "source": [
    "a"
   ]
  },
  {
   "cell_type": "code",
   "execution_count": 26,
   "id": "c9690c81",
   "metadata": {},
   "outputs": [],
   "source": [
    "a.remove('john')"
   ]
  },
  {
   "cell_type": "code",
   "execution_count": 27,
   "id": "0943b873",
   "metadata": {},
   "outputs": [
    {
     "data": {
      "text/plain": [
       "{1, 2, 3, 5, 6, 'jack'}"
      ]
     },
     "execution_count": 27,
     "metadata": {},
     "output_type": "execute_result"
    }
   ],
   "source": [
    "a"
   ]
  },
  {
   "cell_type": "code",
   "execution_count": 28,
   "id": "01d09488",
   "metadata": {},
   "outputs": [
    {
     "data": {
      "text/plain": [
       "6"
      ]
     },
     "execution_count": 28,
     "metadata": {},
     "output_type": "execute_result"
    }
   ],
   "source": [
    "len(a)"
   ]
  },
  {
   "cell_type": "code",
   "execution_count": 29,
   "id": "52526707",
   "metadata": {},
   "outputs": [],
   "source": [
    "del a"
   ]
  },
  {
   "cell_type": "code",
   "execution_count": null,
   "id": "123ed822",
   "metadata": {},
   "outputs": [],
   "source": []
  }
 ],
 "metadata": {
  "kernelspec": {
   "display_name": "Python 3 (ipykernel)",
   "language": "python",
   "name": "python3"
  },
  "language_info": {
   "codemirror_mode": {
    "name": "ipython",
    "version": 3
   },
   "file_extension": ".py",
   "mimetype": "text/x-python",
   "name": "python",
   "nbconvert_exporter": "python",
   "pygments_lexer": "ipython3",
   "version": "3.9.17"
  }
 },
 "nbformat": 4,
 "nbformat_minor": 5
}
