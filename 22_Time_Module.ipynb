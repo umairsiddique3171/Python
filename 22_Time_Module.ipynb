{
 "cells": [
  {
   "cell_type": "code",
   "execution_count": 1,
   "id": "e8e32d58",
   "metadata": {},
   "outputs": [],
   "source": [
    "import time"
   ]
  },
  {
   "cell_type": "code",
   "execution_count": 16,
   "id": "486c5956",
   "metadata": {},
   "outputs": [],
   "source": [
    "# time.time() returns value in seconds"
   ]
  },
  {
   "cell_type": "code",
   "execution_count": null,
   "id": "5f355d98",
   "metadata": {},
   "outputs": [],
   "source": []
  },
  {
   "cell_type": "code",
   "execution_count": null,
   "id": "d70d0ed6",
   "metadata": {
    "collapsed": true
   },
   "outputs": [],
   "source": []
  },
  {
   "cell_type": "code",
   "execution_count": 7,
   "id": "4baa14ff",
   "metadata": {},
   "outputs": [],
   "source": [
    "def usingWhile():\n",
    "    i = 0\n",
    "    while i < 5000:\n",
    "        if i%500 == 0 :\n",
    "            print(i)\n",
    "        i = i+1\n",
    "def usingFor():\n",
    "    for i in range(5000):\n",
    "        if i%500 == 0:\n",
    "            print(i)"
   ]
  },
  {
   "cell_type": "code",
   "execution_count": 12,
   "id": "1f3503ab",
   "metadata": {},
   "outputs": [
    {
     "name": "stdout",
     "output_type": "stream",
     "text": [
      "0\n",
      "500\n",
      "1000\n",
      "1500\n",
      "2000\n",
      "2500\n",
      "3000\n",
      "3500\n",
      "4000\n",
      "4500\n"
     ]
    },
    {
     "data": {
      "text/plain": [
       "0.9984970092773438"
      ]
     },
     "execution_count": 12,
     "metadata": {},
     "output_type": "execute_result"
    }
   ],
   "source": [
    "t1 = time.time()\n",
    "usingWhile()\n",
    "t2 = time.time()\n",
    "(t2-t1)*1000"
   ]
  },
  {
   "cell_type": "code",
   "execution_count": 13,
   "id": "8b2dade7",
   "metadata": {},
   "outputs": [
    {
     "name": "stdout",
     "output_type": "stream",
     "text": [
      "0\n",
      "500\n",
      "1000\n",
      "1500\n",
      "2000\n",
      "2500\n",
      "3000\n",
      "3500\n",
      "4000\n",
      "4500\n"
     ]
    },
    {
     "data": {
      "text/plain": [
       "1.0023117065429688"
      ]
     },
     "execution_count": 13,
     "metadata": {},
     "output_type": "execute_result"
    }
   ],
   "source": [
    "t1 = time.time()\n",
    "usingFor()\n",
    "t2 = time.time()\n",
    "(t2-t1)*1000"
   ]
  },
  {
   "cell_type": "code",
   "execution_count": null,
   "id": "2d40ef61",
   "metadata": {},
   "outputs": [],
   "source": []
  },
  {
   "cell_type": "code",
   "execution_count": null,
   "id": "5b37bd0c",
   "metadata": {},
   "outputs": [],
   "source": []
  },
  {
   "cell_type": "code",
   "execution_count": 14,
   "id": "ccd3dd18",
   "metadata": {},
   "outputs": [],
   "source": [
    "def wait():\n",
    "    time.sleep(2)"
   ]
  },
  {
   "cell_type": "code",
   "execution_count": 15,
   "id": "702a3a06",
   "metadata": {},
   "outputs": [
    {
     "name": "stdout",
     "output_type": "stream",
     "text": [
      "2.0012123584747314\n"
     ]
    }
   ],
   "source": [
    "t1 = time.time()\n",
    "wait()\n",
    "t2 = time.time()\n",
    "print(t2-t1)"
   ]
  },
  {
   "cell_type": "code",
   "execution_count": null,
   "id": "e2f61bf9",
   "metadata": {},
   "outputs": [],
   "source": []
  },
  {
   "cell_type": "code",
   "execution_count": null,
   "id": "cb71ba06",
   "metadata": {},
   "outputs": [],
   "source": []
  },
  {
   "cell_type": "code",
   "execution_count": 18,
   "id": "44bc18e2",
   "metadata": {},
   "outputs": [],
   "source": [
    "# taking time as a string in your own format using time.strftime() method"
   ]
  },
  {
   "cell_type": "code",
   "execution_count": 24,
   "id": "c2cdf012",
   "metadata": {},
   "outputs": [
    {
     "name": "stdout",
     "output_type": "stream",
     "text": [
      "23-10-2023 07:26:46\n"
     ]
    }
   ],
   "source": [
    "t = time.localtime()\n",
    "formatted_time = time.strftime(\"%d-%m-%Y %H:%M:%S\",t)\n",
    "print(formatted_time)"
   ]
  },
  {
   "cell_type": "code",
   "execution_count": null,
   "id": "180fe36d",
   "metadata": {},
   "outputs": [],
   "source": []
  }
 ],
 "metadata": {
  "kernelspec": {
   "display_name": "Python 3 (ipykernel)",
   "language": "python",
   "name": "python3"
  },
  "language_info": {
   "codemirror_mode": {
    "name": "ipython",
    "version": 3
   },
   "file_extension": ".py",
   "mimetype": "text/x-python",
   "name": "python",
   "nbconvert_exporter": "python",
   "pygments_lexer": "ipython3",
   "version": "3.11.5"
  }
 },
 "nbformat": 4,
 "nbformat_minor": 5
}
