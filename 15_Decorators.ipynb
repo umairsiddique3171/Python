{
 "cells": [
  {
   "cell_type": "code",
   "execution_count": 2,
   "id": "8b601b01",
   "metadata": {},
   "outputs": [],
   "source": [
    "# Decorators allow you to add an extra functionality to an already existing function."
   ]
  },
  {
   "cell_type": "code",
   "execution_count": 3,
   "id": "5e62baf1",
   "metadata": {},
   "outputs": [],
   "source": [
    "# Decorators are those function which changes other functions and return them."
   ]
  },
  {
   "cell_type": "code",
   "execution_count": null,
   "id": "4457e520",
   "metadata": {},
   "outputs": [],
   "source": []
  },
  {
   "cell_type": "code",
   "execution_count": 10,
   "id": "f12e86ac",
   "metadata": {},
   "outputs": [],
   "source": [
    "def greet(fx):\n",
    "    def mfx():\n",
    "        print('Hello, I am Jarvis...')\n",
    "        print('')\n",
    "        fx()\n",
    "        print('You can take help from me')\n",
    "    return mfx"
   ]
  },
  {
   "cell_type": "code",
   "execution_count": 23,
   "id": "ca04f21c",
   "metadata": {},
   "outputs": [],
   "source": [
    "@greet\n",
    "def hello():\n",
    "    print('hello')"
   ]
  },
  {
   "cell_type": "code",
   "execution_count": 24,
   "id": "f91f07c1",
   "metadata": {},
   "outputs": [
    {
     "name": "stdout",
     "output_type": "stream",
     "text": [
      "Hello, I am Jarvis...\n",
      "\n",
      "hello\n",
      "You can take help from me\n"
     ]
    }
   ],
   "source": [
    "hello()"
   ]
  },
  {
   "cell_type": "code",
   "execution_count": 25,
   "id": "b500e32f",
   "metadata": {},
   "outputs": [],
   "source": [
    "def intro():\n",
    "    print('Hi I am your client')"
   ]
  },
  {
   "cell_type": "code",
   "execution_count": 26,
   "id": "72533698",
   "metadata": {},
   "outputs": [
    {
     "name": "stdout",
     "output_type": "stream",
     "text": [
      "Hello, I am Jarvis...\n",
      "\n",
      "Hi I am your client\n",
      "You can take help from me\n"
     ]
    }
   ],
   "source": [
    "greet(intro)()"
   ]
  },
  {
   "cell_type": "code",
   "execution_count": 29,
   "id": "acc6d3fb",
   "metadata": {},
   "outputs": [],
   "source": [
    "def greet1(fx):\n",
    "    def mfx(*args,**kwargs):\n",
    "        print('Hello, I am Jarvis...')\n",
    "        print('')\n",
    "        fx(*args,**kwargs)\n",
    "        print('You can take help from me')\n",
    "    return mfx"
   ]
  },
  {
   "cell_type": "code",
   "execution_count": 33,
   "id": "628f055a",
   "metadata": {},
   "outputs": [],
   "source": [
    "@greet1\n",
    "def add(x,y):\n",
    "    a = x + y\n",
    "    print(a)\n",
    "    return a"
   ]
  },
  {
   "cell_type": "code",
   "execution_count": 34,
   "id": "471b49e9",
   "metadata": {},
   "outputs": [
    {
     "name": "stdout",
     "output_type": "stream",
     "text": [
      "Hello, I am Jarvis...\n",
      "\n",
      "5\n",
      "You can take help from me\n"
     ]
    }
   ],
   "source": [
    "add(3,2)"
   ]
  },
  {
   "cell_type": "code",
   "execution_count": 35,
   "id": "d35c737b",
   "metadata": {},
   "outputs": [],
   "source": [
    "def subtract(x,y):\n",
    "    a = x - y\n",
    "    print(a)\n",
    "    return a"
   ]
  },
  {
   "cell_type": "code",
   "execution_count": 38,
   "id": "5ae5f1da",
   "metadata": {},
   "outputs": [
    {
     "name": "stdout",
     "output_type": "stream",
     "text": [
      "Hello, I am Jarvis...\n",
      "\n",
      "1\n",
      "You can take help from me\n"
     ]
    }
   ],
   "source": [
    "greet1(subtract)(3,2)"
   ]
  },
  {
   "cell_type": "code",
   "execution_count": null,
   "id": "d44bd52d",
   "metadata": {},
   "outputs": [],
   "source": []
  }
 ],
 "metadata": {
  "kernelspec": {
   "display_name": "Python 3 (ipykernel)",
   "language": "python",
   "name": "python3"
  },
  "language_info": {
   "codemirror_mode": {
    "name": "ipython",
    "version": 3
   },
   "file_extension": ".py",
   "mimetype": "text/x-python",
   "name": "python",
   "nbconvert_exporter": "python",
   "pygments_lexer": "ipython3",
   "version": "3.9.17"
  }
 },
 "nbformat": 4,
 "nbformat_minor": 5
}
