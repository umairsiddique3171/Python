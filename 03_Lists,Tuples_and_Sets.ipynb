{
 "cells": [
  {
   "cell_type": "code",
   "execution_count": 2,
   "id": "2c9d8d26",
   "metadata": {},
   "outputs": [],
   "source": [
    "# Lists"
   ]
  },
  {
   "cell_type": "code",
   "execution_count": null,
   "id": "16e07685",
   "metadata": {},
   "outputs": [],
   "source": [
    "# list is an ordered sequence of element which mean indexing and knowing address is possible"
   ]
  },
  {
   "cell_type": "code",
   "execution_count": 1,
   "id": "ae35d54d",
   "metadata": {},
   "outputs": [],
   "source": [
    "fruits = ['Apples','Oranges','Banana']"
   ]
  },
  {
   "cell_type": "code",
   "execution_count": 2,
   "id": "6c33b622",
   "metadata": {},
   "outputs": [],
   "source": [
    "fruits.append('grapes')"
   ]
  },
  {
   "cell_type": "code",
   "execution_count": 3,
   "id": "d4fc9001",
   "metadata": {},
   "outputs": [
    {
     "data": {
      "text/plain": [
       "['Apples', 'Oranges', 'Banana', 'grapes']"
      ]
     },
     "execution_count": 3,
     "metadata": {},
     "output_type": "execute_result"
    }
   ],
   "source": [
    "fruits"
   ]
  },
  {
   "cell_type": "code",
   "execution_count": null,
   "id": "fec7f01d",
   "metadata": {},
   "outputs": [],
   "source": []
  },
  {
   "cell_type": "code",
   "execution_count": 4,
   "id": "09df0f32",
   "metadata": {},
   "outputs": [],
   "source": [
    "fruits.insert(1,'Guava')"
   ]
  },
  {
   "cell_type": "code",
   "execution_count": 5,
   "id": "e5377e15",
   "metadata": {},
   "outputs": [
    {
     "data": {
      "text/plain": [
       "['Apples', 'Guava', 'Oranges', 'Banana', 'grapes']"
      ]
     },
     "execution_count": 5,
     "metadata": {},
     "output_type": "execute_result"
    }
   ],
   "source": [
    "fruits"
   ]
  },
  {
   "cell_type": "code",
   "execution_count": null,
   "id": "aca4b99a",
   "metadata": {},
   "outputs": [],
   "source": []
  },
  {
   "cell_type": "code",
   "execution_count": 6,
   "id": "4fb922ca",
   "metadata": {},
   "outputs": [],
   "source": [
    "veggies = ['Mushroom','Carrot']"
   ]
  },
  {
   "cell_type": "code",
   "execution_count": 7,
   "id": "f795497e",
   "metadata": {},
   "outputs": [],
   "source": [
    "fruits.extend(veggies)"
   ]
  },
  {
   "cell_type": "code",
   "execution_count": 8,
   "id": "0df764f1",
   "metadata": {},
   "outputs": [
    {
     "data": {
      "text/plain": [
       "['Apples', 'Guava', 'Oranges', 'Banana', 'grapes', 'Mushroom', 'Carrot']"
      ]
     },
     "execution_count": 8,
     "metadata": {},
     "output_type": "execute_result"
    }
   ],
   "source": [
    "fruits"
   ]
  },
  {
   "cell_type": "code",
   "execution_count": null,
   "id": "9497392c",
   "metadata": {},
   "outputs": [],
   "source": []
  },
  {
   "cell_type": "code",
   "execution_count": 9,
   "id": "9346f505",
   "metadata": {},
   "outputs": [],
   "source": [
    "fruits.remove('grapes')"
   ]
  },
  {
   "cell_type": "code",
   "execution_count": 10,
   "id": "62e76030",
   "metadata": {},
   "outputs": [
    {
     "data": {
      "text/plain": [
       "['Apples', 'Guava', 'Oranges', 'Banana', 'Mushroom', 'Carrot']"
      ]
     },
     "execution_count": 10,
     "metadata": {},
     "output_type": "execute_result"
    }
   ],
   "source": [
    "fruits"
   ]
  },
  {
   "cell_type": "code",
   "execution_count": null,
   "id": "6248213c",
   "metadata": {},
   "outputs": [],
   "source": []
  },
  {
   "cell_type": "code",
   "execution_count": 11,
   "id": "8adeeb2a",
   "metadata": {},
   "outputs": [
    {
     "data": {
      "text/plain": [
       "'Carrot'"
      ]
     },
     "execution_count": 11,
     "metadata": {},
     "output_type": "execute_result"
    }
   ],
   "source": [
    "x = fruits.pop()\n",
    "x"
   ]
  },
  {
   "cell_type": "code",
   "execution_count": 12,
   "id": "e81eb7db",
   "metadata": {},
   "outputs": [
    {
     "data": {
      "text/plain": [
       "['Apples', 'Guava', 'Oranges', 'Banana', 'Mushroom']"
      ]
     },
     "execution_count": 12,
     "metadata": {},
     "output_type": "execute_result"
    }
   ],
   "source": [
    "fruits"
   ]
  },
  {
   "cell_type": "code",
   "execution_count": null,
   "id": "d1763d45",
   "metadata": {},
   "outputs": [],
   "source": []
  },
  {
   "cell_type": "code",
   "execution_count": 13,
   "id": "86af7ab5",
   "metadata": {},
   "outputs": [],
   "source": [
    "fruits.reverse()"
   ]
  },
  {
   "cell_type": "code",
   "execution_count": 14,
   "id": "416dba4f",
   "metadata": {},
   "outputs": [
    {
     "data": {
      "text/plain": [
       "['Mushroom', 'Banana', 'Oranges', 'Guava', 'Apples']"
      ]
     },
     "execution_count": 14,
     "metadata": {},
     "output_type": "execute_result"
    }
   ],
   "source": [
    "fruits"
   ]
  },
  {
   "cell_type": "code",
   "execution_count": null,
   "id": "88c9a7b4",
   "metadata": {},
   "outputs": [],
   "source": []
  },
  {
   "cell_type": "code",
   "execution_count": 15,
   "id": "aad7e689",
   "metadata": {},
   "outputs": [],
   "source": [
    "fruits.sort()"
   ]
  },
  {
   "cell_type": "code",
   "execution_count": 16,
   "id": "9380b118",
   "metadata": {},
   "outputs": [
    {
     "data": {
      "text/plain": [
       "['Apples', 'Banana', 'Guava', 'Mushroom', 'Oranges']"
      ]
     },
     "execution_count": 16,
     "metadata": {},
     "output_type": "execute_result"
    }
   ],
   "source": [
    "fruits"
   ]
  },
  {
   "cell_type": "code",
   "execution_count": 56,
   "id": "fc091a2b",
   "metadata": {},
   "outputs": [],
   "source": [
    "numbers = [2,3,1,5,4]"
   ]
  },
  {
   "cell_type": "code",
   "execution_count": 57,
   "id": "0dd5f121",
   "metadata": {},
   "outputs": [],
   "source": [
    "numbers.sort()"
   ]
  },
  {
   "cell_type": "code",
   "execution_count": 58,
   "id": "c9a19795",
   "metadata": {},
   "outputs": [
    {
     "data": {
      "text/plain": [
       "[1, 2, 3, 4, 5]"
      ]
     },
     "execution_count": 58,
     "metadata": {},
     "output_type": "execute_result"
    }
   ],
   "source": [
    "numbers"
   ]
  },
  {
   "cell_type": "code",
   "execution_count": 59,
   "id": "37287213",
   "metadata": {},
   "outputs": [],
   "source": [
    "numbers.sort(reverse = True)"
   ]
  },
  {
   "cell_type": "code",
   "execution_count": 61,
   "id": "427a3671",
   "metadata": {},
   "outputs": [
    {
     "data": {
      "text/plain": [
       "[5, 4, 3, 2, 1]"
      ]
     },
     "execution_count": 61,
     "metadata": {},
     "output_type": "execute_result"
    }
   ],
   "source": [
    "numbers"
   ]
  },
  {
   "cell_type": "code",
   "execution_count": null,
   "id": "d8ed6ecc",
   "metadata": {},
   "outputs": [],
   "source": []
  },
  {
   "cell_type": "code",
   "execution_count": 62,
   "id": "2c522600",
   "metadata": {},
   "outputs": [],
   "source": [
    "y = sorted(numbers)"
   ]
  },
  {
   "cell_type": "code",
   "execution_count": 63,
   "id": "072a6ab5",
   "metadata": {},
   "outputs": [
    {
     "data": {
      "text/plain": [
       "[1, 2, 3, 4, 5]"
      ]
     },
     "execution_count": 63,
     "metadata": {},
     "output_type": "execute_result"
    }
   ],
   "source": [
    "y"
   ]
  },
  {
   "cell_type": "code",
   "execution_count": null,
   "id": "1ddc70f9",
   "metadata": {},
   "outputs": [],
   "source": []
  },
  {
   "cell_type": "code",
   "execution_count": 64,
   "id": "0367d37c",
   "metadata": {},
   "outputs": [
    {
     "data": {
      "text/plain": [
       "1"
      ]
     },
     "execution_count": 64,
     "metadata": {},
     "output_type": "execute_result"
    }
   ],
   "source": [
    "a = min(numbers)\n",
    "a"
   ]
  },
  {
   "cell_type": "code",
   "execution_count": null,
   "id": "88ea1572",
   "metadata": {},
   "outputs": [],
   "source": []
  },
  {
   "cell_type": "code",
   "execution_count": 65,
   "id": "5cd93041",
   "metadata": {},
   "outputs": [
    {
     "data": {
      "text/plain": [
       "5"
      ]
     },
     "execution_count": 65,
     "metadata": {},
     "output_type": "execute_result"
    }
   ],
   "source": [
    "b = max(numbers)\n",
    "b"
   ]
  },
  {
   "cell_type": "code",
   "execution_count": null,
   "id": "d2beeae6",
   "metadata": {},
   "outputs": [],
   "source": []
  },
  {
   "cell_type": "code",
   "execution_count": 66,
   "id": "9e8cfdd2",
   "metadata": {},
   "outputs": [
    {
     "data": {
      "text/plain": [
       "15"
      ]
     },
     "execution_count": 66,
     "metadata": {},
     "output_type": "execute_result"
    }
   ],
   "source": [
    "c = sum(numbers)\n",
    "c"
   ]
  },
  {
   "cell_type": "code",
   "execution_count": null,
   "id": "85a58486",
   "metadata": {},
   "outputs": [],
   "source": []
  },
  {
   "cell_type": "code",
   "execution_count": 67,
   "id": "430c6d83",
   "metadata": {},
   "outputs": [
    {
     "data": {
      "text/plain": [
       "4"
      ]
     },
     "execution_count": 67,
     "metadata": {},
     "output_type": "execute_result"
    }
   ],
   "source": [
    "numbers.index(1)"
   ]
  },
  {
   "cell_type": "code",
   "execution_count": null,
   "id": "5b5e67d4",
   "metadata": {},
   "outputs": [],
   "source": []
  },
  {
   "cell_type": "code",
   "execution_count": 29,
   "id": "b0fe623e",
   "metadata": {},
   "outputs": [],
   "source": [
    "courses = ['Statics','Dynamics','LA','CVT','NM']"
   ]
  },
  {
   "cell_type": "code",
   "execution_count": 30,
   "id": "c77d546a",
   "metadata": {},
   "outputs": [
    {
     "name": "stdout",
     "output_type": "stream",
     "text": [
      "0 Statics\n",
      "1 Dynamics\n",
      "2 LA\n",
      "3 CVT\n",
      "4 NM\n"
     ]
    }
   ],
   "source": [
    "for x,y in enumerate(courses):\n",
    "    print(f\"{x} {y}\")"
   ]
  },
  {
   "cell_type": "code",
   "execution_count": 31,
   "id": "35de0a06",
   "metadata": {},
   "outputs": [
    {
     "name": "stdout",
     "output_type": "stream",
     "text": [
      "1 Statics\n",
      "2 Dynamics\n",
      "3 LA\n",
      "4 CVT\n",
      "5 NM\n"
     ]
    }
   ],
   "source": [
    "for x,y in enumerate(courses,start = 1):\n",
    "    print(f\"{x} {y}\")"
   ]
  },
  {
   "cell_type": "code",
   "execution_count": null,
   "id": "e7e86b3d",
   "metadata": {},
   "outputs": [],
   "source": []
  },
  {
   "cell_type": "code",
   "execution_count": 32,
   "id": "f1b9ae31",
   "metadata": {},
   "outputs": [],
   "source": [
    "my_courses = ['LA', 'Calculus','Statistics','Probability']\n",
    "my_courses_string = (', ').join(my_courses)"
   ]
  },
  {
   "cell_type": "code",
   "execution_count": 33,
   "id": "7c56b75d",
   "metadata": {},
   "outputs": [
    {
     "data": {
      "text/plain": [
       "'LA, Calculus, Statistics, Probability'"
      ]
     },
     "execution_count": 33,
     "metadata": {},
     "output_type": "execute_result"
    }
   ],
   "source": [
    "my_courses_string"
   ]
  },
  {
   "cell_type": "code",
   "execution_count": 34,
   "id": "8cd8870b",
   "metadata": {},
   "outputs": [],
   "source": [
    "my_courses1 = my_courses_string.split(', ')"
   ]
  },
  {
   "cell_type": "code",
   "execution_count": 35,
   "id": "ace1af9d",
   "metadata": {},
   "outputs": [
    {
     "data": {
      "text/plain": [
       "['LA', 'Calculus', 'Statistics', 'Probability']"
      ]
     },
     "execution_count": 35,
     "metadata": {},
     "output_type": "execute_result"
    }
   ],
   "source": [
    "my_courses1"
   ]
  },
  {
   "cell_type": "code",
   "execution_count": null,
   "id": "c3cca8ba",
   "metadata": {},
   "outputs": [],
   "source": []
  },
  {
   "cell_type": "code",
   "execution_count": null,
   "id": "f2b6557a",
   "metadata": {},
   "outputs": [],
   "source": []
  },
  {
   "cell_type": "code",
   "execution_count": null,
   "id": "132020fc",
   "metadata": {},
   "outputs": [],
   "source": []
  },
  {
   "cell_type": "code",
   "execution_count": 34,
   "id": "fffee67b",
   "metadata": {},
   "outputs": [],
   "source": [
    "# a.extend(b)\n",
    "# a.append('g')\n",
    "# a.remove('b')\n",
    "# a.pop()\n",
    "# a.reverse()\n",
    "# a.count(3)\n",
    "# a.sort(reverse = True,False)\n",
    "# a.index(3)\n",
    "# x = min(a)\n",
    "# y = max(a)\n",
    "# z = sum(a)"
   ]
  },
  {
   "cell_type": "code",
   "execution_count": null,
   "id": "7bd44419",
   "metadata": {},
   "outputs": [],
   "source": []
  },
  {
   "cell_type": "code",
   "execution_count": null,
   "id": "07ce50d6",
   "metadata": {},
   "outputs": [],
   "source": []
  },
  {
   "cell_type": "code",
   "execution_count": 35,
   "id": "a20bb297",
   "metadata": {},
   "outputs": [],
   "source": [
    "# tuple are not mutable unlike list\n",
    "# tuple -> banking system , school grading system forexample"
   ]
  },
  {
   "cell_type": "code",
   "execution_count": 36,
   "id": "6dc6d40b",
   "metadata": {},
   "outputs": [],
   "source": [
    "a = 1,2,4,4,5"
   ]
  },
  {
   "cell_type": "code",
   "execution_count": 37,
   "id": "4878550c",
   "metadata": {},
   "outputs": [
    {
     "name": "stdout",
     "output_type": "stream",
     "text": [
      "(1, 2, 4, 4, 5)\n"
     ]
    }
   ],
   "source": [
    "print(a)"
   ]
  },
  {
   "cell_type": "code",
   "execution_count": 38,
   "id": "e751bb4d",
   "metadata": {},
   "outputs": [
    {
     "data": {
      "text/plain": [
       "tuple"
      ]
     },
     "execution_count": 38,
     "metadata": {},
     "output_type": "execute_result"
    }
   ],
   "source": [
    "type(a)"
   ]
  },
  {
   "cell_type": "code",
   "execution_count": 39,
   "id": "6d550370",
   "metadata": {},
   "outputs": [],
   "source": [
    "# it works like list which means ordered sequence of datatypes (i.e. elements)"
   ]
  },
  {
   "cell_type": "code",
   "execution_count": 40,
   "id": "239b15a5",
   "metadata": {},
   "outputs": [],
   "source": [
    "# but it is not mutable"
   ]
  },
  {
   "cell_type": "code",
   "execution_count": 41,
   "id": "8d0fb9fb",
   "metadata": {},
   "outputs": [],
   "source": [
    "b = (1,2,5)"
   ]
  },
  {
   "cell_type": "code",
   "execution_count": 42,
   "id": "c7150c05",
   "metadata": {},
   "outputs": [
    {
     "name": "stdout",
     "output_type": "stream",
     "text": [
      "(1, 2, 5)\n"
     ]
    }
   ],
   "source": [
    "print(b)"
   ]
  },
  {
   "cell_type": "code",
   "execution_count": 43,
   "id": "586b1838",
   "metadata": {},
   "outputs": [
    {
     "data": {
      "text/plain": [
       "tuple"
      ]
     },
     "execution_count": 43,
     "metadata": {},
     "output_type": "execute_result"
    }
   ],
   "source": [
    "type(b)"
   ]
  },
  {
   "cell_type": "code",
   "execution_count": 44,
   "id": "91fc0023",
   "metadata": {},
   "outputs": [
    {
     "data": {
      "text/plain": [
       "2"
      ]
     },
     "execution_count": 44,
     "metadata": {},
     "output_type": "execute_result"
    }
   ],
   "source": [
    "b.index(5)"
   ]
  },
  {
   "cell_type": "code",
   "execution_count": 45,
   "id": "845c99bd",
   "metadata": {},
   "outputs": [
    {
     "data": {
      "text/plain": [
       "1"
      ]
     },
     "execution_count": 45,
     "metadata": {},
     "output_type": "execute_result"
    }
   ],
   "source": [
    "b.count(2)"
   ]
  },
  {
   "cell_type": "code",
   "execution_count": 46,
   "id": "cfba0e53",
   "metadata": {},
   "outputs": [
    {
     "name": "stdout",
     "output_type": "stream",
     "text": [
      "(1, 2, 4, 4, 5, 1, 2, 5)\n"
     ]
    }
   ],
   "source": [
    "c = a + b\n",
    "print(c)"
   ]
  },
  {
   "cell_type": "code",
   "execution_count": 47,
   "id": "38e0ebb4",
   "metadata": {},
   "outputs": [
    {
     "name": "stdout",
     "output_type": "stream",
     "text": [
      "1 3\n",
      "4 5\n",
      "5 2\n"
     ]
    }
   ],
   "source": [
    "# tuple unpacking\n",
    "x = (1,4,5)\n",
    "y = (3,5,2)\n",
    "for i,j in zip(x,y):\n",
    "    print(i,j)"
   ]
  },
  {
   "cell_type": "code",
   "execution_count": 48,
   "id": "3ae4e00b",
   "metadata": {},
   "outputs": [],
   "source": [
    "# we can reassign value to tuple variable as a new tuple"
   ]
  },
  {
   "cell_type": "code",
   "execution_count": 49,
   "id": "b7d90653",
   "metadata": {},
   "outputs": [
    {
     "name": "stdout",
     "output_type": "stream",
     "text": [
      "[(1, 4, 5), (3, 5, 2)]\n",
      "1 4 5\n",
      "3 5 2\n"
     ]
    }
   ],
   "source": [
    "# tuple unpacking\n",
    "x = (1,4,5)\n",
    "y = (3,5,2)\n",
    "z = []\n",
    "z.append(x)\n",
    "z.append(y)\n",
    "print(z)\n",
    "for i,j,k in z:\n",
    "    print(i,j,k)"
   ]
  },
  {
   "cell_type": "code",
   "execution_count": null,
   "id": "3f41a41d",
   "metadata": {},
   "outputs": [],
   "source": []
  },
  {
   "cell_type": "code",
   "execution_count": 50,
   "id": "7fafe9cf",
   "metadata": {},
   "outputs": [],
   "source": [
    "# it impossible to make list upto some larger number. So we use range"
   ]
  },
  {
   "cell_type": "code",
   "execution_count": 51,
   "id": "b5aaf435",
   "metadata": {},
   "outputs": [
    {
     "name": "stdout",
     "output_type": "stream",
     "text": [
      "[0, 2, 4, 6, 8]\n"
     ]
    }
   ],
   "source": [
    "a = [x for x in range(0,100,2)]\n",
    "print(a[:5])"
   ]
  },
  {
   "cell_type": "code",
   "execution_count": 52,
   "id": "4aeefcc8",
   "metadata": {},
   "outputs": [
    {
     "data": {
      "text/plain": [
       "[0, 3, 6, 9, 12, 15, 18]"
      ]
     },
     "execution_count": 52,
     "metadata": {},
     "output_type": "execute_result"
    }
   ],
   "source": [
    "list(range(0,20,3))"
   ]
  },
  {
   "cell_type": "code",
   "execution_count": 55,
   "id": "536fdf9f",
   "metadata": {},
   "outputs": [
    {
     "data": {
      "text/plain": [
       "True"
      ]
     },
     "execution_count": 55,
     "metadata": {},
     "output_type": "execute_result"
    }
   ],
   "source": [
    "3 in list(range(3,13,2))"
   ]
  },
  {
   "cell_type": "code",
   "execution_count": null,
   "id": "29c6eba6",
   "metadata": {},
   "outputs": [],
   "source": []
  }
 ],
 "metadata": {
  "kernelspec": {
   "display_name": "Python 3 (ipykernel)",
   "language": "python",
   "name": "python3"
  },
  "language_info": {
   "codemirror_mode": {
    "name": "ipython",
    "version": 3
   },
   "file_extension": ".py",
   "mimetype": "text/x-python",
   "name": "python",
   "nbconvert_exporter": "python",
   "pygments_lexer": "ipython3",
   "version": "3.9.17"
  }
 },
 "nbformat": 4,
 "nbformat_minor": 5
}
