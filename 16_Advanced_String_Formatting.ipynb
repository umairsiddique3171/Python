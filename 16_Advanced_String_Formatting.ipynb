{
 "cells": [
  {
   "cell_type": "code",
   "execution_count": 11,
   "id": "0264568d",
   "metadata": {},
   "outputs": [],
   "source": [
    "person = {'name': 'Umair','age' : 20}"
   ]
  },
  {
   "cell_type": "code",
   "execution_count": 6,
   "id": "65245827",
   "metadata": {},
   "outputs": [
    {
     "name": "stdout",
     "output_type": "stream",
     "text": [
      "My name is Umair and I am 20 years old\n"
     ]
    }
   ],
   "source": [
    "print(\"My name is {0} and I am {1} years old\".format(person['name'],person['age']))"
   ]
  },
  {
   "cell_type": "code",
   "execution_count": 17,
   "id": "fda43423",
   "metadata": {},
   "outputs": [
    {
     "name": "stdout",
     "output_type": "stream",
     "text": [
      "My name is Umair and I am 20 years old\n"
     ]
    }
   ],
   "source": [
    "print(\"My name is {0[name]} and I am {0[age]} years old\".format(person))"
   ]
  },
  {
   "cell_type": "code",
   "execution_count": null,
   "id": "09e3dae1",
   "metadata": {},
   "outputs": [],
   "source": []
  },
  {
   "cell_type": "code",
   "execution_count": null,
   "id": "febf264e-de48-4a10-939c-0614c5672baa",
   "metadata": {},
   "outputs": [],
   "source": []
  },
  {
   "cell_type": "code",
   "execution_count": 7,
   "id": "272a61a3",
   "metadata": {},
   "outputs": [],
   "source": [
    "tag = 'hi'"
   ]
  },
  {
   "cell_type": "code",
   "execution_count": 8,
   "id": "16bae6c9",
   "metadata": {},
   "outputs": [],
   "source": [
    "text = 'This is headline'"
   ]
  },
  {
   "cell_type": "code",
   "execution_count": 10,
   "id": "2cea4aff",
   "metadata": {},
   "outputs": [
    {
     "name": "stdout",
     "output_type": "stream",
     "text": [
      "hi.This is headline.hi\n"
     ]
    }
   ],
   "source": [
    "print('{0}.{1}.{0}'.format(tag,text))"
   ]
  },
  {
   "cell_type": "code",
   "execution_count": null,
   "id": "eb0a2507",
   "metadata": {},
   "outputs": [],
   "source": []
  },
  {
   "cell_type": "code",
   "execution_count": null,
   "id": "2957a524-e728-4a5f-8512-13a0add300b4",
   "metadata": {},
   "outputs": [],
   "source": []
  },
  {
   "cell_type": "code",
   "execution_count": 1,
   "id": "073f1527-7a93-4e9b-8e87-e2f909f95044",
   "metadata": {},
   "outputs": [],
   "source": [
    "l = ['jenn',23]"
   ]
  },
  {
   "cell_type": "code",
   "execution_count": 3,
   "id": "444b33c4-8133-4a16-8572-ed076902b20c",
   "metadata": {},
   "outputs": [
    {
     "name": "stdout",
     "output_type": "stream",
     "text": [
      "My name is jenn and I am 23 years old\n"
     ]
    }
   ],
   "source": [
    "print(\"My name is {0[0]} and I am {0[1]} years old\".format(l))"
   ]
  },
  {
   "cell_type": "code",
   "execution_count": null,
   "id": "daa7d220-243f-467e-881c-22e19fb88e0e",
   "metadata": {},
   "outputs": [],
   "source": []
  },
  {
   "cell_type": "code",
   "execution_count": null,
   "id": "593ed7e8-1c9b-4339-9c60-6c18f1612fc3",
   "metadata": {},
   "outputs": [],
   "source": []
  },
  {
   "cell_type": "code",
   "execution_count": 4,
   "id": "81c81b55-b408-44e6-bc99-d85a41cf639e",
   "metadata": {},
   "outputs": [],
   "source": [
    "class Person():\n",
    "    \n",
    "    def __init__(self,name,age):\n",
    "        self.name = name\n",
    "        self.age = age"
   ]
  },
  {
   "cell_type": "code",
   "execution_count": 5,
   "id": "2f77edeb-cfac-4861-9837-4fb0bb1d6250",
   "metadata": {},
   "outputs": [],
   "source": [
    "pl = Person('Jack',24)"
   ]
  },
  {
   "cell_type": "code",
   "execution_count": 6,
   "id": "7c05e3ff-5ad0-4635-b7bc-5df66a3a0083",
   "metadata": {},
   "outputs": [
    {
     "name": "stdout",
     "output_type": "stream",
     "text": [
      "My name is Jack and I am 24 years old\n"
     ]
    }
   ],
   "source": [
    "print(\"My name is {0.name} and I am {0.age} years old\".format(pl))"
   ]
  },
  {
   "cell_type": "code",
   "execution_count": null,
   "id": "d0819a24-aba1-42a8-af3f-4da4ce286152",
   "metadata": {},
   "outputs": [],
   "source": []
  },
  {
   "cell_type": "code",
   "execution_count": null,
   "id": "f93811c9-4590-4669-a1b2-60ebf1f558b7",
   "metadata": {},
   "outputs": [],
   "source": []
  },
  {
   "cell_type": "code",
   "execution_count": 8,
   "id": "a668a5f8-c285-498c-8e9c-8f4a820f4260",
   "metadata": {},
   "outputs": [
    {
     "name": "stdout",
     "output_type": "stream",
     "text": [
      "My name is Umair and my age is 20\n"
     ]
    }
   ],
   "source": [
    "print('My name is {name} and my age is {age}'.format(name = 'Umair',age = 20))"
   ]
  },
  {
   "cell_type": "code",
   "execution_count": null,
   "id": "43060810-4b23-4fc1-bb71-fbf10fc8c730",
   "metadata": {},
   "outputs": [],
   "source": []
  },
  {
   "cell_type": "code",
   "execution_count": null,
   "id": "edf2963a-6d54-42ca-b462-c8a484a3bc1c",
   "metadata": {},
   "outputs": [],
   "source": []
  },
  {
   "cell_type": "code",
   "execution_count": 9,
   "id": "1db66264-a0f6-4399-9de2-272bb72899e9",
   "metadata": {},
   "outputs": [],
   "source": [
    "# using keyword arguments"
   ]
  },
  {
   "cell_type": "code",
   "execution_count": 12,
   "id": "eadc8d66-c36c-4b13-9840-a903c70778bc",
   "metadata": {},
   "outputs": [
    {
     "name": "stdout",
     "output_type": "stream",
     "text": [
      "My age is 20 and I am Umair\n"
     ]
    }
   ],
   "source": [
    "print(\"My age is {age} and I am {name}\".format(**person))"
   ]
  },
  {
   "cell_type": "code",
   "execution_count": null,
   "id": "b493822e-bc6c-4fcf-800b-4578f3b6a4f9",
   "metadata": {},
   "outputs": [],
   "source": []
  },
  {
   "cell_type": "code",
   "execution_count": null,
   "id": "f3879039-f898-46a7-842f-99a1660930e0",
   "metadata": {},
   "outputs": [],
   "source": []
  },
  {
   "cell_type": "code",
   "execution_count": 13,
   "id": "23c7e26a-d9d8-4eb7-9746-a3d9571e3141",
   "metadata": {},
   "outputs": [],
   "source": [
    "pi = 3.14159673039"
   ]
  },
  {
   "cell_type": "code",
   "execution_count": 23,
   "id": "7d2e00fe-4a5c-4d10-a45b-9e750a27132e",
   "metadata": {},
   "outputs": [
    {
     "name": "stdout",
     "output_type": "stream",
     "text": [
      "Pi is equal to 3.1416\n"
     ]
    }
   ],
   "source": [
    "print('Pi is equal to {:.4f}'.format(pi)) # colon specifies that we want to do some formatting"
   ]
  },
  {
   "cell_type": "code",
   "execution_count": 24,
   "id": "f0e052be-75ce-4f62-8434-91e8ff919318",
   "metadata": {},
   "outputs": [],
   "source": [
    "l = 2"
   ]
  },
  {
   "cell_type": "code",
   "execution_count": 26,
   "id": "1f1862d0-1f6c-407b-878b-d0c89da73d9a",
   "metadata": {},
   "outputs": [
    {
     "name": "stdout",
     "output_type": "stream",
     "text": [
      "Pi is equal to 002\n"
     ]
    }
   ],
   "source": [
    "print('Pi is equal to {:03}'.format(l)) # colon specifies that we want to do some formatting"
   ]
  },
  {
   "cell_type": "code",
   "execution_count": 29,
   "id": "4a58ce28-7a23-43a3-9bba-7ff2268895d3",
   "metadata": {},
   "outputs": [],
   "source": [
    " x = 20000000000"
   ]
  },
  {
   "cell_type": "code",
   "execution_count": 30,
   "id": "a0bc6a7a-41dc-4b5a-86ec-b8dc8d18afa3",
   "metadata": {},
   "outputs": [
    {
     "name": "stdout",
     "output_type": "stream",
     "text": [
      "Pi is equal to 20,000,000,000\n"
     ]
    }
   ],
   "source": [
    "print('Pi is equal to {:,}'.format(x)) # colon specifies that we want to do some formatting"
   ]
  },
  {
   "cell_type": "code",
   "execution_count": null,
   "id": "bced324a-cd69-4fe0-86cb-84d07dfc4a79",
   "metadata": {},
   "outputs": [],
   "source": []
  },
  {
   "cell_type": "code",
   "execution_count": null,
   "id": "f6e590a9-d114-4bf4-8121-9ed7d16b70f0",
   "metadata": {},
   "outputs": [],
   "source": []
  },
  {
   "cell_type": "code",
   "execution_count": null,
   "id": "567bb970-5fa4-4a0a-b9e1-37317c57c803",
   "metadata": {},
   "outputs": [],
   "source": []
  },
  {
   "cell_type": "code",
   "execution_count": 31,
   "id": "f23d4d4c-5225-44a0-adf5-0b9dcf6cd1f1",
   "metadata": {},
   "outputs": [],
   "source": [
    "import datetime"
   ]
  },
  {
   "cell_type": "code",
   "execution_count": 32,
   "id": "ae18f2bd-22d7-4974-8105-e4f2b6139104",
   "metadata": {},
   "outputs": [],
   "source": [
    "mydate = datetime.datetime(2016,9,24,12,30,45)"
   ]
  },
  {
   "cell_type": "code",
   "execution_count": 33,
   "id": "a67ea7f1-12ed-4625-b4e0-c3a2ad61acb8",
   "metadata": {},
   "outputs": [
    {
     "name": "stdout",
     "output_type": "stream",
     "text": [
      "2016-09-24 12:30:45\n"
     ]
    }
   ],
   "source": [
    "print(mydate)"
   ]
  },
  {
   "cell_type": "code",
   "execution_count": 34,
   "id": "bf51f871-31e2-46e4-9260-76029f945dc3",
   "metadata": {},
   "outputs": [
    {
     "data": {
      "text/plain": [
       "datetime.datetime"
      ]
     },
     "execution_count": 34,
     "metadata": {},
     "output_type": "execute_result"
    }
   ],
   "source": [
    "type(mydate)"
   ]
  },
  {
   "cell_type": "code",
   "execution_count": 37,
   "id": "5da37d55-0777-41cc-9d5e-96081f9a4cfc",
   "metadata": {},
   "outputs": [
    {
     "name": "stdout",
     "output_type": "stream",
     "text": [
      "Today is September 24, 2016\n"
     ]
    }
   ],
   "source": [
    "print(\"Today is {:%B %d, %Y}\".format(mydate))"
   ]
  },
  {
   "cell_type": "code",
   "execution_count": 38,
   "id": "573c51b3-6a68-4c4b-82b3-04ee938da0f6",
   "metadata": {},
   "outputs": [
    {
     "name": "stdout",
     "output_type": "stream",
     "text": [
      "Today is September 24, 2016 which is the most beautiful Saturday and is the 268 day of the year\n"
     ]
    }
   ],
   "source": [
    "print(\"Today is {0:%B %d, %Y} which is the most beautiful {0:%A} and is the {0:%j} day of the year\".format(mydate))"
   ]
  },
  {
   "cell_type": "code",
   "execution_count": null,
   "id": "ef3b32b4-e066-4424-a1b9-9c335ae9c8a9",
   "metadata": {},
   "outputs": [],
   "source": []
  }
 ],
 "metadata": {
  "kernelspec": {
   "display_name": "Python 3 (ipykernel)",
   "language": "python",
   "name": "python3"
  },
  "language_info": {
   "codemirror_mode": {
    "name": "ipython",
    "version": 3
   },
   "file_extension": ".py",
   "mimetype": "text/x-python",
   "name": "python",
   "nbconvert_exporter": "python",
   "pygments_lexer": "ipython3",
   "version": "3.9.13"
  }
 },
 "nbformat": 4,
 "nbformat_minor": 5
}
