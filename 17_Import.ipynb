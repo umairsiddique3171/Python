{
 "cells": [
  {
   "cell_type": "code",
   "execution_count": 1,
   "id": "21b7d940",
   "metadata": {},
   "outputs": [],
   "source": [
    "# from math import sqrt, pi\n",
    "# from math import pi, sqrt as s\n",
    "# from math import *\n",
    "# import math\n",
    "# import math as m"
   ]
  },
  {
   "cell_type": "code",
   "execution_count": 2,
   "id": "80eb0bcd",
   "metadata": {},
   "outputs": [],
   "source": [
    "import math"
   ]
  },
  {
   "cell_type": "code",
   "execution_count": 3,
   "id": "3359a4f2",
   "metadata": {},
   "outputs": [
    {
     "data": {
      "text/plain": [
       "['__doc__',\n",
       " '__loader__',\n",
       " '__name__',\n",
       " '__package__',\n",
       " '__spec__',\n",
       " 'acos',\n",
       " 'acosh',\n",
       " 'asin',\n",
       " 'asinh',\n",
       " 'atan',\n",
       " 'atan2',\n",
       " 'atanh',\n",
       " 'cbrt',\n",
       " 'ceil',\n",
       " 'comb',\n",
       " 'copysign',\n",
       " 'cos',\n",
       " 'cosh',\n",
       " 'degrees',\n",
       " 'dist',\n",
       " 'e',\n",
       " 'erf',\n",
       " 'erfc',\n",
       " 'exp',\n",
       " 'exp2',\n",
       " 'expm1',\n",
       " 'fabs',\n",
       " 'factorial',\n",
       " 'floor',\n",
       " 'fmod',\n",
       " 'frexp',\n",
       " 'fsum',\n",
       " 'gamma',\n",
       " 'gcd',\n",
       " 'hypot',\n",
       " 'inf',\n",
       " 'isclose',\n",
       " 'isfinite',\n",
       " 'isinf',\n",
       " 'isnan',\n",
       " 'isqrt',\n",
       " 'lcm',\n",
       " 'ldexp',\n",
       " 'lgamma',\n",
       " 'log',\n",
       " 'log10',\n",
       " 'log1p',\n",
       " 'log2',\n",
       " 'modf',\n",
       " 'nan',\n",
       " 'nextafter',\n",
       " 'perm',\n",
       " 'pi',\n",
       " 'pow',\n",
       " 'prod',\n",
       " 'radians',\n",
       " 'remainder',\n",
       " 'sin',\n",
       " 'sinh',\n",
       " 'sqrt',\n",
       " 'tan',\n",
       " 'tanh',\n",
       " 'tau',\n",
       " 'trunc',\n",
       " 'ulp']"
      ]
     },
     "execution_count": 3,
     "metadata": {},
     "output_type": "execute_result"
    }
   ],
   "source": [
    "dir(math)"
   ]
  },
  {
   "cell_type": "code",
   "execution_count": 4,
   "id": "cf4ac717",
   "metadata": {},
   "outputs": [
    {
     "data": {
      "text/plain": [
       "builtin_function_or_method"
      ]
     },
     "execution_count": 4,
     "metadata": {},
     "output_type": "execute_result"
    }
   ],
   "source": [
    "type(math.log)"
   ]
  },
  {
   "cell_type": "code",
   "execution_count": null,
   "id": "c2c84920",
   "metadata": {},
   "outputs": [],
   "source": []
  },
  {
   "cell_type": "code",
   "execution_count": null,
   "id": "d48e7bc2",
   "metadata": {},
   "outputs": [],
   "source": []
  },
  {
   "cell_type": "code",
   "execution_count": 5,
   "id": "f84e7ed3",
   "metadata": {},
   "outputs": [],
   "source": [
    "# if __name__ == \"__main__\" idiom is a common pattern used in Python scripts \n",
    "#to determine whether the script is being run direcly or being imported as a module into another script"
   ]
  },
  {
   "cell_type": "code",
   "execution_count": 6,
   "id": "4d452fb3",
   "metadata": {},
   "outputs": [],
   "source": [
    "# if __name__ == \"__main__\" will be true if the script is run directly otherwise false"
   ]
  },
  {
   "cell_type": "code",
   "execution_count": 7,
   "id": "8ea737a4",
   "metadata": {},
   "outputs": [],
   "source": [
    "# if you import some module in which some functions are executing\n",
    "# whenever you import module in main script, those functions will be executed automatically\n",
    "# so if you want to save yourself from that you can use if __name__ == \"__main__\" in the module you are importing\n",
    "# by using that in module you are importing python will check if __name__ of the script running is main or not.\n",
    "# if the script is main then it will execute all the commands mentioned under if statement\n",
    "# it can only be main when module you are importing is running itself as main\n",
    "# but when you will import module and run it another script as main , then that if statement condition will be False\n",
    "# it's because when the compiler will go on that module that __name__ will be the name of the module\n",
    "# so the commands written under if __name__ = \"__main__\" will not be executed"
   ]
  },
  {
   "cell_type": "code",
   "execution_count": 8,
   "id": "0ce66eb6",
   "metadata": {},
   "outputs": [],
   "source": [
    "# whenever you import modules of any repository or friend which is not recognizable or built-in module \n",
    "# you must always check that if there are any function which could be executed automatically when you will import the file\n",
    "# Forexample, if any of the function exist which can delete all your files, it will be executed automatically when you \n",
    "# will import the file and you are fucked!!"
   ]
  },
  {
   "cell_type": "code",
   "execution_count": null,
   "id": "341b4008",
   "metadata": {},
   "outputs": [],
   "source": []
  },
  {
   "cell_type": "code",
   "execution_count": null,
   "id": "b2ed1835",
   "metadata": {},
   "outputs": [],
   "source": []
  },
  {
   "cell_type": "code",
   "execution_count": null,
   "id": "fe5ae0af",
   "metadata": {},
   "outputs": [],
   "source": []
  }
 ],
 "metadata": {
  "kernelspec": {
   "display_name": "Python 3 (ipykernel)",
   "language": "python",
   "name": "python3"
  },
  "language_info": {
   "codemirror_mode": {
    "name": "ipython",
    "version": 3
   },
   "file_extension": ".py",
   "mimetype": "text/x-python",
   "name": "python",
   "nbconvert_exporter": "python",
   "pygments_lexer": "ipython3",
   "version": "3.11.5"
  }
 },
 "nbformat": 4,
 "nbformat_minor": 5
}
