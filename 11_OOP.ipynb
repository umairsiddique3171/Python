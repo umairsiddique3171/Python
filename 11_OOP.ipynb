{
 "cells": [
  {
   "cell_type": "code",
   "execution_count": 1,
   "id": "3cbea6c8-a39d-40ff-8ecd-f29da2b2313b",
   "metadata": {},
   "outputs": [],
   "source": [
    "# Tutorial 1 : instance attributes , instance methods"
   ]
  },
  {
   "cell_type": "code",
   "execution_count": 2,
   "id": "bd40fb54-e503-463d-bf97-b57355da0a85",
   "metadata": {},
   "outputs": [],
   "source": [
    "class Employee:\n",
    "    \n",
    "    def __init__(self,name,age,salary):\n",
    "        self.name = name\n",
    "        self.age = age\n",
    "        self.salary = salary\n",
    "        self.email = name + '@gmail.com'\n",
    "        \n",
    "    def full_name(self,lastname):\n",
    "        print(self.name + ' ' +  lastname)\n",
    "        "
   ]
  },
  {
   "cell_type": "code",
   "execution_count": 3,
   "id": "f54795f3-8718-4f25-958c-dbea71364221",
   "metadata": {},
   "outputs": [],
   "source": [
    "emp_1 = Employee('Ali',25,50000) # creating object or instance"
   ]
  },
  {
   "cell_type": "code",
   "execution_count": 4,
   "id": "10c4ae2f",
   "metadata": {},
   "outputs": [],
   "source": [
    "# dynamic nature of the attributes : we can create new instance variable or attributes independent of the class."
   ]
  },
  {
   "cell_type": "code",
   "execution_count": 5,
   "id": "fb3f3293",
   "metadata": {},
   "outputs": [],
   "source": [
    "# using self with function is because it refers the function as method of the class."
   ]
  },
  {
   "cell_type": "code",
   "execution_count": 6,
   "id": "fd761312",
   "metadata": {},
   "outputs": [],
   "source": [
    "# 1. Class : Template for creating objects, All objects created from same class will have same attributes\n",
    "# 2. Object : Is Instance of a Class\n",
    "# 3. Instentiate : Process of creating Instance\n",
    "# 4. Method : A function defined in class\n",
    "# 5. Attribute : A variable bound to an instance of a class"
   ]
  },
  {
   "cell_type": "code",
   "execution_count": 7,
   "id": "69e0de37-9357-4e47-8955-7d28cb8efe86",
   "metadata": {},
   "outputs": [
    {
     "data": {
      "text/plain": [
       "__main__.Employee"
      ]
     },
     "execution_count": 7,
     "metadata": {},
     "output_type": "execute_result"
    }
   ],
   "source": [
    "type(emp_1)"
   ]
  },
  {
   "cell_type": "code",
   "execution_count": 8,
   "id": "75c3519b-56be-4096-9480-8f505de5db7c",
   "metadata": {},
   "outputs": [
    {
     "data": {
      "text/plain": [
       "'Ali@gmail.com'"
      ]
     },
     "execution_count": 8,
     "metadata": {},
     "output_type": "execute_result"
    }
   ],
   "source": [
    "emp_1.email"
   ]
  },
  {
   "cell_type": "code",
   "execution_count": 9,
   "id": "9cd67479-322d-4c6a-a409-2c7daed17b78",
   "metadata": {},
   "outputs": [
    {
     "name": "stdout",
     "output_type": "stream",
     "text": [
      "Ali Zafar\n"
     ]
    }
   ],
   "source": [
    "emp_1.full_name('Zafar')"
   ]
  },
  {
   "cell_type": "code",
   "execution_count": 10,
   "id": "a4c3d83a-edee-48e6-9bb1-481f23feeb60",
   "metadata": {},
   "outputs": [
    {
     "name": "stdout",
     "output_type": "stream",
     "text": [
      "Ali Zafar\n"
     ]
    }
   ],
   "source": [
    "Employee.full_name(emp_1,'Zafar')"
   ]
  },
  {
   "cell_type": "code",
   "execution_count": null,
   "id": "1a70ef89-1313-4174-8f24-0f8683a38259",
   "metadata": {},
   "outputs": [],
   "source": []
  },
  {
   "cell_type": "code",
   "execution_count": null,
   "id": "24f9cdfa-e627-47d1-9cf4-07ed3ca5a0fd",
   "metadata": {},
   "outputs": [],
   "source": []
  },
  {
   "cell_type": "code",
   "execution_count": null,
   "id": "e85c4b31-8e3e-4175-af4b-fa1c397d771e",
   "metadata": {},
   "outputs": [],
   "source": []
  },
  {
   "cell_type": "code",
   "execution_count": null,
   "id": "62d8c68e-0109-402b-aeca-4cd2da700a64",
   "metadata": {},
   "outputs": [],
   "source": []
  },
  {
   "cell_type": "code",
   "execution_count": null,
   "id": "96d5dfa5-c551-45ad-a260-0dd52553c392",
   "metadata": {},
   "outputs": [],
   "source": []
  },
  {
   "cell_type": "code",
   "execution_count": 11,
   "id": "b80c9d48-8227-4d3f-a7bf-98733f44ded3",
   "metadata": {},
   "outputs": [],
   "source": [
    "# Tutorial 2 : class variables vs instance variables"
   ]
  },
  {
   "cell_type": "code",
   "execution_count": 12,
   "id": "d6be6b28-8e7b-49d9-af18-1380b71bd7d5",
   "metadata": {},
   "outputs": [],
   "source": [
    "class Employee:\n",
    "    \n",
    "    raise_amount = 1.15\n",
    "    num_of_emps = 0\n",
    "    \n",
    "    def __init__(self,name,age,pay):\n",
    "        self.name = name\n",
    "        self.age = age\n",
    "        self.pay = pay \n",
    "        self.email = name + '@gmail.com'\n",
    "        Employee.num_of_emps += 1\n",
    "        \n",
    "    def full_name(self,lastname):\n",
    "        print(self.name + ' ' +  lastname)\n",
    "        \n",
    "    def apply_raise(self):\n",
    "        self.pay = int(self.pay * self.raise_amount)\n",
    "        "
   ]
  },
  {
   "cell_type": "code",
   "execution_count": 13,
   "id": "f441efe4-499e-4a52-a67d-46617a5b2a12",
   "metadata": {},
   "outputs": [],
   "source": [
    "emp_1 = Employee('Ali',25,50000)"
   ]
  },
  {
   "cell_type": "code",
   "execution_count": 14,
   "id": "6e2d4fb2-7dee-4a6a-90e0-a652d12ea262",
   "metadata": {},
   "outputs": [
    {
     "data": {
      "text/plain": [
       "1.15"
      ]
     },
     "execution_count": 14,
     "metadata": {},
     "output_type": "execute_result"
    }
   ],
   "source": [
    "emp_1.raise_amount"
   ]
  },
  {
   "cell_type": "code",
   "execution_count": 15,
   "id": "a28ba5a0-48e9-403a-a56a-7bdb2802ba23",
   "metadata": {},
   "outputs": [],
   "source": [
    "emp_1.apply_raise()"
   ]
  },
  {
   "cell_type": "code",
   "execution_count": 16,
   "id": "8d2d4b40-b2ea-41a0-a1c0-c476c0e71268",
   "metadata": {},
   "outputs": [
    {
     "data": {
      "text/plain": [
       "57499"
      ]
     },
     "execution_count": 16,
     "metadata": {},
     "output_type": "execute_result"
    }
   ],
   "source": [
    "emp_1.pay"
   ]
  },
  {
   "cell_type": "code",
   "execution_count": 17,
   "id": "8e7142bb",
   "metadata": {},
   "outputs": [],
   "source": [
    "# to see class name space we use .__dict__ method\n",
    "# name space shows all the class variable\n",
    "# variable in main class is accessible to every instance\n",
    "# variable in defined separately in any instance is not accessible in main class"
   ]
  },
  {
   "cell_type": "code",
   "execution_count": 18,
   "id": "afaca16d-c0d6-401f-8924-76770352eaf1",
   "metadata": {},
   "outputs": [
    {
     "data": {
      "text/plain": [
       "{'name': 'Ali', 'age': 25, 'pay': 57499, 'email': 'Ali@gmail.com'}"
      ]
     },
     "execution_count": 18,
     "metadata": {},
     "output_type": "execute_result"
    }
   ],
   "source": [
    "emp_1.__dict__"
   ]
  },
  {
   "cell_type": "code",
   "execution_count": 19,
   "id": "aef562dd-1a63-44b7-848e-2416acae7b52",
   "metadata": {},
   "outputs": [
    {
     "data": {
      "text/plain": [
       "mappingproxy({'__module__': '__main__',\n",
       "              'raise_amount': 1.15,\n",
       "              'num_of_emps': 1,\n",
       "              '__init__': <function __main__.Employee.__init__(self, name, age, pay)>,\n",
       "              'full_name': <function __main__.Employee.full_name(self, lastname)>,\n",
       "              'apply_raise': <function __main__.Employee.apply_raise(self)>,\n",
       "              '__dict__': <attribute '__dict__' of 'Employee' objects>,\n",
       "              '__weakref__': <attribute '__weakref__' of 'Employee' objects>,\n",
       "              '__doc__': None})"
      ]
     },
     "execution_count": 19,
     "metadata": {},
     "output_type": "execute_result"
    }
   ],
   "source": [
    "Employee.__dict__"
   ]
  },
  {
   "cell_type": "code",
   "execution_count": 20,
   "id": "b974e63f-7511-4a39-867c-bb859a576b33",
   "metadata": {},
   "outputs": [],
   "source": [
    "Employee.raise_amount = 1.2"
   ]
  },
  {
   "cell_type": "code",
   "execution_count": 21,
   "id": "e6a53e47-f3ed-47bc-9975-fbbf9a5204d1",
   "metadata": {},
   "outputs": [
    {
     "name": "stdout",
     "output_type": "stream",
     "text": [
      "1.2\n",
      "1.2\n"
     ]
    }
   ],
   "source": [
    "print(Employee.raise_amount)\n",
    "print(emp_1.raise_amount)"
   ]
  },
  {
   "cell_type": "code",
   "execution_count": 22,
   "id": "22a97d44-aa75-4e4b-a5ac-55266aaf0e1a",
   "metadata": {},
   "outputs": [],
   "source": [
    "emp_1.raise_amount = 1.15"
   ]
  },
  {
   "cell_type": "code",
   "execution_count": 23,
   "id": "1f55a40c-83ad-4dbe-a786-2e40bc519873",
   "metadata": {},
   "outputs": [
    {
     "name": "stdout",
     "output_type": "stream",
     "text": [
      "1.2\n",
      "1.15\n"
     ]
    }
   ],
   "source": [
    "print(Employee.raise_amount)\n",
    "print(emp_1.raise_amount)"
   ]
  },
  {
   "cell_type": "code",
   "execution_count": 24,
   "id": "b944fc77-71c6-4a76-9618-62cff0f8ab13",
   "metadata": {},
   "outputs": [
    {
     "data": {
      "text/plain": [
       "{'name': 'Ali',\n",
       " 'age': 25,\n",
       " 'pay': 57499,\n",
       " 'email': 'Ali@gmail.com',\n",
       " 'raise_amount': 1.15}"
      ]
     },
     "execution_count": 24,
     "metadata": {},
     "output_type": "execute_result"
    }
   ],
   "source": [
    "emp_1.__dict__"
   ]
  },
  {
   "cell_type": "code",
   "execution_count": 25,
   "id": "a35f541f-8292-4d47-81fe-03fe03a64737",
   "metadata": {},
   "outputs": [
    {
     "data": {
      "text/plain": [
       "[('name', 'Ali'),\n",
       " ('age', 25),\n",
       " ('pay', 57499),\n",
       " ('email', 'Ali@gmail.com'),\n",
       " ('raise_amount', 1.15)]"
      ]
     },
     "execution_count": 25,
     "metadata": {},
     "output_type": "execute_result"
    }
   ],
   "source": [
    "list(emp_1.__dict__.items())"
   ]
  },
  {
   "cell_type": "code",
   "execution_count": 26,
   "id": "89998e06-e6e3-4ab7-b00b-533e177d884b",
   "metadata": {},
   "outputs": [
    {
     "data": {
      "text/plain": [
       "1"
      ]
     },
     "execution_count": 26,
     "metadata": {},
     "output_type": "execute_result"
    }
   ],
   "source": [
    "Employee.num_of_emps"
   ]
  },
  {
   "cell_type": "code",
   "execution_count": null,
   "id": "10a4eed6-e0b6-47ad-9881-cad0e4e2bb20",
   "metadata": {},
   "outputs": [],
   "source": []
  },
  {
   "cell_type": "code",
   "execution_count": null,
   "id": "21cef1b6-e9db-4114-85da-ff251855deb0",
   "metadata": {},
   "outputs": [],
   "source": []
  },
  {
   "cell_type": "code",
   "execution_count": null,
   "id": "4e646fd1-73c9-4348-a42f-f2ceafd4fd11",
   "metadata": {},
   "outputs": [],
   "source": []
  },
  {
   "cell_type": "code",
   "execution_count": null,
   "id": "3f7cf5f6-cbff-48af-99c1-1097642a7deb",
   "metadata": {},
   "outputs": [],
   "source": []
  },
  {
   "cell_type": "code",
   "execution_count": null,
   "id": "bf9b41b9-b381-46e3-97a2-9abf93b61be0",
   "metadata": {},
   "outputs": [],
   "source": []
  },
  {
   "cell_type": "code",
   "execution_count": 27,
   "id": "b1167438-e394-47e9-9c55-a75dedf78bea",
   "metadata": {},
   "outputs": [],
   "source": [
    "# Tutorial 3 : class methods , static methods"
   ]
  },
  {
   "cell_type": "code",
   "execution_count": 28,
   "id": "8ad80207-943e-4f30-b050-2a4316af2306",
   "metadata": {},
   "outputs": [],
   "source": [
    "class Employee:\n",
    "    \n",
    "    raise_amount = 1.15\n",
    "    num_of_emps = 0\n",
    "    \n",
    "    def __init__(self,name,age,pay):\n",
    "        self.name = name\n",
    "        self.age = age\n",
    "        self.pay = pay \n",
    "        self.email = name + '@gmail.com'\n",
    "        Employee.num_of_emps += 1\n",
    "        \n",
    "    def full_name(self,lastname):\n",
    "        print(self.name + ' ' +  lastname)\n",
    "        \n",
    "    def apply_raise(self):\n",
    "        self.pay = int(self.pay * self.raise_amount)\n",
    "        \n",
    "    @classmethod\n",
    "    def set_raise_amt(cls,amount):\n",
    "        cls.raise_amount = amount\n",
    "        \n",
    "    @classmethod # using a class method as an alternative constructor\n",
    "    def from_string(cls,emp_str,x):\n",
    "        name,age,pay = emp_str.split(x)\n",
    "        return cls(name,age,pay)\n",
    "    \n",
    "    @staticmethod # if you are not using a class (cls) or instance (self) within function then it probably should be a static method\n",
    "    def is_workday(day):\n",
    "        if day.weekday() == 5 or day.weekday() == 6:\n",
    "            return False\n",
    "        return True\n",
    "    \n",
    "        "
   ]
  },
  {
   "cell_type": "code",
   "execution_count": 29,
   "id": "c76aaef2-f4b0-4f71-8c7b-aa4ad9382f76",
   "metadata": {},
   "outputs": [],
   "source": [
    "Employee.set_raise_amt(1.2)"
   ]
  },
  {
   "cell_type": "code",
   "execution_count": 30,
   "id": "65f185f4-a1ef-40d6-8e7f-9abb294fccba",
   "metadata": {},
   "outputs": [
    {
     "data": {
      "text/plain": [
       "1.2"
      ]
     },
     "execution_count": 30,
     "metadata": {},
     "output_type": "execute_result"
    }
   ],
   "source": [
    "Employee.raise_amount"
   ]
  },
  {
   "cell_type": "code",
   "execution_count": 31,
   "id": "55c31c6e-9f88-478a-a52c-d038c67236b5",
   "metadata": {},
   "outputs": [],
   "source": [
    "emp_1 = Employee.from_string('Hassan,21,50000',',')"
   ]
  },
  {
   "cell_type": "code",
   "execution_count": 32,
   "id": "dc2b250d-80e6-4702-b413-fd50c958d483",
   "metadata": {},
   "outputs": [
    {
     "data": {
      "text/plain": [
       "{'name': 'Hassan', 'age': '21', 'pay': '50000', 'email': 'Hassan@gmail.com'}"
      ]
     },
     "execution_count": 32,
     "metadata": {},
     "output_type": "execute_result"
    }
   ],
   "source": [
    "emp_1.__dict__"
   ]
  },
  {
   "cell_type": "code",
   "execution_count": 33,
   "id": "7595532f-b6b2-43c5-9fec-2f17b581ae08",
   "metadata": {},
   "outputs": [],
   "source": [
    "import datetime\n",
    "mydate = datetime.date(2023,6,20)"
   ]
  },
  {
   "cell_type": "code",
   "execution_count": 34,
   "id": "6c1ebcd8-e684-42b5-b3dd-75dfea738277",
   "metadata": {},
   "outputs": [
    {
     "name": "stdout",
     "output_type": "stream",
     "text": [
      "True\n"
     ]
    }
   ],
   "source": [
    "print(Employee.is_workday(mydate))"
   ]
  },
  {
   "cell_type": "code",
   "execution_count": null,
   "id": "49771671-03dd-45fb-a020-bd885e53d86a",
   "metadata": {},
   "outputs": [],
   "source": []
  },
  {
   "cell_type": "code",
   "execution_count": null,
   "id": "846df196-11ec-4840-82f4-023ed207647d",
   "metadata": {},
   "outputs": [],
   "source": []
  },
  {
   "cell_type": "code",
   "execution_count": null,
   "id": "a9a41234-0c71-4d9b-8b7f-7d59456809f7",
   "metadata": {},
   "outputs": [],
   "source": []
  },
  {
   "cell_type": "code",
   "execution_count": null,
   "id": "3171a5ed-2281-45d8-bba5-f37661693956",
   "metadata": {},
   "outputs": [],
   "source": []
  },
  {
   "cell_type": "code",
   "execution_count": null,
   "id": "1aeacc32-2b08-42d2-95a5-efd854ec5cce",
   "metadata": {},
   "outputs": [],
   "source": []
  },
  {
   "cell_type": "code",
   "execution_count": 35,
   "id": "56c4cd50-dbfb-4304-847e-ca2e20e7b566",
   "metadata": {},
   "outputs": [],
   "source": [
    "# Tutorial 4 : inheritance"
   ]
  },
  {
   "cell_type": "code",
   "execution_count": 36,
   "id": "9b252640-a067-4add-9b2c-7fac3710ea30",
   "metadata": {},
   "outputs": [],
   "source": [
    "class Employee:\n",
    "    \n",
    "    raise_amount = 1.15\n",
    "    num_of_emps = 0\n",
    "    \n",
    "    def __init__(self,name,age,pay):\n",
    "        self.name = name\n",
    "        self.age = age\n",
    "        self.pay = pay \n",
    "        self.email = name + '@gmail.com'\n",
    "        Employee.num_of_emps += 1\n",
    "        \n",
    "    def full_name(self,lastname):\n",
    "        print(self.name + ' ' +  lastname)\n",
    "        \n",
    "    def apply_raise(self):\n",
    "        self.pay = int(self.pay * self.raise_amount)\n",
    "        "
   ]
  },
  {
   "cell_type": "code",
   "execution_count": 37,
   "id": "30a2b219-bd9b-4616-9c39-16bdeb710635",
   "metadata": {},
   "outputs": [],
   "source": [
    "class Developer(Employee):\n",
    "    raise_amount = 1.1\n",
    "    \n",
    "    def __init__(self,name,age,pay,prog_lang):\n",
    "        super().__init__(name,age,pay)\n",
    "        # Employee.__init__(self,name,age,pay)\n",
    "        self.prog_lang = prog_lang"
   ]
  },
  {
   "cell_type": "code",
   "execution_count": 38,
   "id": "bb747492-c4ef-427a-b118-acb590410f4d",
   "metadata": {},
   "outputs": [],
   "source": [
    "class Manager(Employee):\n",
    "    raise_amount = 1.1\n",
    "    \n",
    "    def __init__(self,name,age,pay,employees = None):\n",
    "        super().__init__(name,age,pay)\n",
    "        # Employee.__init__(self,name,age,pay)\n",
    "        if employees is None :\n",
    "            self.employees = []\n",
    "        else:\n",
    "            self.employees = employees\n",
    "            \n",
    "    def add_emp(self,emp):\n",
    "        if emp not in self.employees:\n",
    "            self.employees.append(emp)\n",
    "            \n",
    "    def remove_emp(self,emp):\n",
    "        if emp in self.employees:\n",
    "            self.employees.remove(emp)\n",
    "            \n",
    "    def print_emp(self):\n",
    "        for emp in self.employees:\n",
    "            print(emp.name)"
   ]
  },
  {
   "cell_type": "code",
   "execution_count": 39,
   "id": "2fc1b168-4695-44f9-8a54-6a6a5135d788",
   "metadata": {},
   "outputs": [],
   "source": [
    "dev_1 = Developer('Ammar',22,50000,'Python')"
   ]
  },
  {
   "cell_type": "code",
   "execution_count": 40,
   "id": "a4052d56-05de-4637-9eb3-7e8225adc6dc",
   "metadata": {},
   "outputs": [],
   "source": [
    "dev_2 = Developer('Ahsan',21,40000,'Java')"
   ]
  },
  {
   "cell_type": "code",
   "execution_count": 41,
   "id": "4dee7082-3b35-41ba-b579-0398192b020a",
   "metadata": {},
   "outputs": [
    {
     "data": {
      "text/plain": [
       "{'name': 'Ammar',\n",
       " 'age': 22,\n",
       " 'pay': 50000,\n",
       " 'email': 'Ammar@gmail.com',\n",
       " 'prog_lang': 'Python'}"
      ]
     },
     "execution_count": 41,
     "metadata": {},
     "output_type": "execute_result"
    }
   ],
   "source": [
    "dev_1.__dict__"
   ]
  },
  {
   "cell_type": "code",
   "execution_count": 42,
   "id": "7bccb167-110b-4337-9f6a-cd78171bb0a3",
   "metadata": {},
   "outputs": [
    {
     "name": "stdout",
     "output_type": "stream",
     "text": [
      "Help on class Developer in module __main__:\n",
      "\n",
      "class Developer(Employee)\n",
      " |  Developer(name, age, pay, prog_lang)\n",
      " |  \n",
      " |  Method resolution order:\n",
      " |      Developer\n",
      " |      Employee\n",
      " |      builtins.object\n",
      " |  \n",
      " |  Methods defined here:\n",
      " |  \n",
      " |  __init__(self, name, age, pay, prog_lang)\n",
      " |      Initialize self.  See help(type(self)) for accurate signature.\n",
      " |  \n",
      " |  ----------------------------------------------------------------------\n",
      " |  Data and other attributes defined here:\n",
      " |  \n",
      " |  raise_amount = 1.1\n",
      " |  \n",
      " |  ----------------------------------------------------------------------\n",
      " |  Methods inherited from Employee:\n",
      " |  \n",
      " |  apply_raise(self)\n",
      " |  \n",
      " |  full_name(self, lastname)\n",
      " |  \n",
      " |  ----------------------------------------------------------------------\n",
      " |  Data descriptors inherited from Employee:\n",
      " |  \n",
      " |  __dict__\n",
      " |      dictionary for instance variables (if defined)\n",
      " |  \n",
      " |  __weakref__\n",
      " |      list of weak references to the object (if defined)\n",
      " |  \n",
      " |  ----------------------------------------------------------------------\n",
      " |  Data and other attributes inherited from Employee:\n",
      " |  \n",
      " |  num_of_emps = 2\n",
      "\n",
      "None\n"
     ]
    }
   ],
   "source": [
    "print(help(Developer))"
   ]
  },
  {
   "cell_type": "code",
   "execution_count": 43,
   "id": "82864d7b-cac9-4358-a4b1-52385bf74e28",
   "metadata": {},
   "outputs": [
    {
     "data": {
      "text/plain": [
       "1.1"
      ]
     },
     "execution_count": 43,
     "metadata": {},
     "output_type": "execute_result"
    }
   ],
   "source": [
    "Developer.raise_amount"
   ]
  },
  {
   "cell_type": "code",
   "execution_count": 44,
   "id": "c1196afa-5426-4518-a4de-be57de974404",
   "metadata": {},
   "outputs": [],
   "source": [
    "mgr_1 = Manager('Umair',20,100000,[dev_1])"
   ]
  },
  {
   "cell_type": "code",
   "execution_count": 45,
   "id": "8e7e65e5-650d-42d5-8f6a-faac7858135a",
   "metadata": {},
   "outputs": [
    {
     "name": "stdout",
     "output_type": "stream",
     "text": [
      "Ammar\n"
     ]
    }
   ],
   "source": [
    "mgr_1.print_emp()"
   ]
  },
  {
   "cell_type": "code",
   "execution_count": 46,
   "id": "608287a6-5b08-4f9b-8501-e7060d2c2f6d",
   "metadata": {},
   "outputs": [],
   "source": [
    "mgr_1.add_emp(dev_2)"
   ]
  },
  {
   "cell_type": "code",
   "execution_count": 47,
   "id": "c453f896-4614-4b04-8c7d-88d30b7e32e9",
   "metadata": {},
   "outputs": [
    {
     "name": "stdout",
     "output_type": "stream",
     "text": [
      "Ammar\n",
      "Ahsan\n"
     ]
    }
   ],
   "source": [
    "mgr_1.print_emp()"
   ]
  },
  {
   "cell_type": "code",
   "execution_count": 48,
   "id": "cbccd403-a6a6-400d-8bdc-ea4208457488",
   "metadata": {},
   "outputs": [],
   "source": [
    "mgr_1.remove_emp(dev_2)"
   ]
  },
  {
   "cell_type": "code",
   "execution_count": 49,
   "id": "361ecfea-1448-41bb-a5de-ac1d5f6f85a4",
   "metadata": {},
   "outputs": [
    {
     "name": "stdout",
     "output_type": "stream",
     "text": [
      "Ammar\n"
     ]
    }
   ],
   "source": [
    "mgr_1.print_emp()"
   ]
  },
  {
   "cell_type": "code",
   "execution_count": 50,
   "id": "09964740-569f-431f-91bc-a139b4c5a56a",
   "metadata": {},
   "outputs": [
    {
     "data": {
      "text/plain": [
       "True"
      ]
     },
     "execution_count": 50,
     "metadata": {},
     "output_type": "execute_result"
    }
   ],
   "source": [
    "isinstance(mgr_1,Manager)"
   ]
  },
  {
   "cell_type": "code",
   "execution_count": 51,
   "id": "10e83bd4-4b3d-4537-b3cd-3b2228650368",
   "metadata": {},
   "outputs": [
    {
     "data": {
      "text/plain": [
       "True"
      ]
     },
     "execution_count": 51,
     "metadata": {},
     "output_type": "execute_result"
    }
   ],
   "source": [
    "isinstance(mgr_1,Employee)"
   ]
  },
  {
   "cell_type": "code",
   "execution_count": 52,
   "id": "d81598b4-c43c-4e83-83f6-2f29f425cc25",
   "metadata": {},
   "outputs": [
    {
     "data": {
      "text/plain": [
       "False"
      ]
     },
     "execution_count": 52,
     "metadata": {},
     "output_type": "execute_result"
    }
   ],
   "source": [
    "isinstance(mgr_1,Developer)"
   ]
  },
  {
   "cell_type": "code",
   "execution_count": 53,
   "id": "827e3c44-4917-43a7-94a5-7a67afb3a0e4",
   "metadata": {},
   "outputs": [
    {
     "data": {
      "text/plain": [
       "True"
      ]
     },
     "execution_count": 53,
     "metadata": {},
     "output_type": "execute_result"
    }
   ],
   "source": [
    "issubclass(Developer,Employee)"
   ]
  },
  {
   "cell_type": "code",
   "execution_count": 54,
   "id": "57340901-a07a-4aaa-98e3-3bd226b0d60c",
   "metadata": {},
   "outputs": [
    {
     "data": {
      "text/plain": [
       "False"
      ]
     },
     "execution_count": 54,
     "metadata": {},
     "output_type": "execute_result"
    }
   ],
   "source": [
    "issubclass(Developer,Manager)"
   ]
  },
  {
   "cell_type": "code",
   "execution_count": null,
   "id": "69eb715c-ef3b-4b93-bac0-c6e2200e9fe1",
   "metadata": {},
   "outputs": [],
   "source": []
  },
  {
   "cell_type": "code",
   "execution_count": null,
   "id": "cb0ef1bd",
   "metadata": {},
   "outputs": [],
   "source": []
  },
  {
   "cell_type": "code",
   "execution_count": null,
   "id": "60f55c3e",
   "metadata": {},
   "outputs": [],
   "source": []
  },
  {
   "cell_type": "code",
   "execution_count": null,
   "id": "b759c5d7",
   "metadata": {},
   "outputs": [],
   "source": []
  },
  {
   "cell_type": "code",
   "execution_count": null,
   "id": "d6c37017",
   "metadata": {},
   "outputs": [],
   "source": []
  },
  {
   "cell_type": "code",
   "execution_count": 55,
   "id": "7a6abe4d",
   "metadata": {},
   "outputs": [],
   "source": [
    "# Tutorial 5 : special(magic/dunder) methods"
   ]
  },
  {
   "cell_type": "code",
   "execution_count": 56,
   "id": "1505b2bd",
   "metadata": {},
   "outputs": [],
   "source": [
    "class Employee:\n",
    "    \n",
    "    raise_amount = 1.15\n",
    "    \n",
    "    def __init__(self,name,age,pay):\n",
    "        self.name = name\n",
    "        self.age = age\n",
    "        self.pay = pay \n",
    "        self.email = name + '@gmail.com'\n",
    "        \n",
    "    def full_name(self,lastname):\n",
    "        print(self.name + ' ' +  lastname)\n",
    "        \n",
    "    def apply_raise(self):\n",
    "        self.pay = int(self.pay * self.raise_amount)\n",
    "    \n",
    "    def __repr__(self):\n",
    "        return f\"Employee({self.name,self.age,self.pay})\"\n",
    "    \n",
    "    def __str__(self):\n",
    "        return f\"{self.name}-{self.email}\"\n",
    "    # if you don't add str dunder method, then it will fall back on repr dunder method while printing instance.\n",
    "    # but if you add str dunder method, then it will use that while printing instance.\n",
    "    \n",
    "    def __add__(self,other):\n",
    "        return self.pay + other.pay\n",
    "    \n",
    "    def __len__(self):\n",
    "        return len(self.name)"
   ]
  },
  {
   "cell_type": "code",
   "execution_count": 57,
   "id": "6450d3df",
   "metadata": {},
   "outputs": [],
   "source": [
    "emp_1 = Employee('Ali',19,30000)\n",
    "emp_2 = Employee('Ahmad',21,45000)"
   ]
  },
  {
   "cell_type": "code",
   "execution_count": 58,
   "id": "ce91aabe",
   "metadata": {},
   "outputs": [
    {
     "name": "stdout",
     "output_type": "stream",
     "text": [
      "Ali-Ali@gmail.com\n"
     ]
    }
   ],
   "source": [
    "print(emp_1)"
   ]
  },
  {
   "cell_type": "code",
   "execution_count": 59,
   "id": "53d9679f",
   "metadata": {},
   "outputs": [
    {
     "name": "stdout",
     "output_type": "stream",
     "text": [
      "Employee(('Ali', 19, 30000))\n",
      "Employee(('Ali', 19, 30000))\n"
     ]
    }
   ],
   "source": [
    "print(repr(emp_1))\n",
    "print(emp_1.__repr__())"
   ]
  },
  {
   "cell_type": "code",
   "execution_count": 60,
   "id": "172a73cd",
   "metadata": {},
   "outputs": [
    {
     "name": "stdout",
     "output_type": "stream",
     "text": [
      "Ali-Ali@gmail.com\n",
      "Ali-Ali@gmail.com\n"
     ]
    }
   ],
   "source": [
    "print(str(emp_1))\n",
    "print(emp_1.__str__())"
   ]
  },
  {
   "cell_type": "code",
   "execution_count": 61,
   "id": "778ab0a2",
   "metadata": {},
   "outputs": [
    {
     "name": "stdout",
     "output_type": "stream",
     "text": [
      "3\n",
      "3\n",
      "ab\n",
      "75000\n"
     ]
    }
   ],
   "source": [
    "print(1+2)\n",
    "print(int.__add__(1,2))\n",
    "print(str.__add__('a','b'))\n",
    "print(emp_1 + emp_2) # dunder add method\n",
    "# you can access so many dunder method syntax through documentation (i.e. python -> emulating numeric types)"
   ]
  },
  {
   "cell_type": "code",
   "execution_count": 62,
   "id": "e4185d04",
   "metadata": {},
   "outputs": [
    {
     "name": "stdout",
     "output_type": "stream",
     "text": [
      "5\n",
      "5\n",
      "3\n",
      "5\n"
     ]
    }
   ],
   "source": [
    "print(len('hello'))\n",
    "print('hello'.__len__())\n",
    "print(len(emp_1))\n",
    "print(len(emp_2))"
   ]
  },
  {
   "cell_type": "code",
   "execution_count": null,
   "id": "16a0921b",
   "metadata": {},
   "outputs": [],
   "source": []
  },
  {
   "cell_type": "code",
   "execution_count": null,
   "id": "eba41db3",
   "metadata": {},
   "outputs": [],
   "source": []
  },
  {
   "cell_type": "code",
   "execution_count": null,
   "id": "68812487",
   "metadata": {},
   "outputs": [],
   "source": []
  },
  {
   "cell_type": "code",
   "execution_count": null,
   "id": "776d1773",
   "metadata": {},
   "outputs": [],
   "source": []
  },
  {
   "cell_type": "code",
   "execution_count": null,
   "id": "0eeed2c2",
   "metadata": {},
   "outputs": [],
   "source": []
  },
  {
   "cell_type": "code",
   "execution_count": 63,
   "id": "016ea79c",
   "metadata": {},
   "outputs": [],
   "source": [
    "# Tutorial 6 : property decorators"
   ]
  },
  {
   "cell_type": "code",
   "execution_count": 64,
   "id": "81871aa8",
   "metadata": {},
   "outputs": [],
   "source": [
    "class Employee:\n",
    "    \n",
    "    def __init__(self,name,age):\n",
    "        self.name = name\n",
    "        self.age = age \n",
    "        # self.email = name + '@gmail.com'\n",
    "        \n",
    "        # whenever we change the any attribute, instance attribute made up by arguments doesn't change\n",
    "        # so we define any attribute made up arguments as a function and use property decorators\n",
    "        # which means that we define that attribute as a function and but we can access it as an attribute\n",
    "        \n",
    "    @property\n",
    "    def email(self):\n",
    "        return self.name + '@gmail.com'\n",
    "    \n",
    "    @property\n",
    "    def full_name(self):\n",
    "        return 'Muhammad ' + self.name\n",
    "    \n",
    "    @full_name.setter\n",
    "    def full_name(self,name):\n",
    "        self.name = name.split(' ')[1]\n",
    "        \n",
    "    @full_name.deleter\n",
    "    def full_name(self):\n",
    "        print('Delete Name!')\n",
    "        self.name = None"
   ]
  },
  {
   "cell_type": "code",
   "execution_count": 65,
   "id": "0c4ea81c",
   "metadata": {},
   "outputs": [],
   "source": [
    "emp_1 = Employee('Jahanzeb',21)"
   ]
  },
  {
   "cell_type": "code",
   "execution_count": 66,
   "id": "83fbe4ac",
   "metadata": {},
   "outputs": [
    {
     "name": "stdout",
     "output_type": "stream",
     "text": [
      "Jahanzeb\n",
      "21\n",
      "Jahanzeb@gmail.com\n",
      "Muhammad Jahanzeb\n"
     ]
    }
   ],
   "source": [
    "print(emp_1.name)\n",
    "print(emp_1.age)\n",
    "print(emp_1.email)\n",
    "print(emp_1.full_name)"
   ]
  },
  {
   "cell_type": "code",
   "execution_count": 67,
   "id": "b556f3f4",
   "metadata": {},
   "outputs": [],
   "source": [
    "emp_1.name = 'Faizan'"
   ]
  },
  {
   "cell_type": "code",
   "execution_count": 68,
   "id": "dbe14134",
   "metadata": {},
   "outputs": [
    {
     "name": "stdout",
     "output_type": "stream",
     "text": [
      "Faizan\n",
      "21\n",
      "Faizan@gmail.com\n",
      "Muhammad Faizan\n"
     ]
    }
   ],
   "source": [
    "print(emp_1.name)\n",
    "print(emp_1.age)\n",
    "print(emp_1.email) # so after using property decorator, email which is made up attribute by some arguments also changed.\n",
    "print(emp_1.full_name)"
   ]
  },
  {
   "cell_type": "code",
   "execution_count": 69,
   "id": "0cc34b96",
   "metadata": {},
   "outputs": [],
   "source": [
    "emp_1.full_name = 'Muhammad Umair'"
   ]
  },
  {
   "cell_type": "code",
   "execution_count": 70,
   "id": "47be822f",
   "metadata": {},
   "outputs": [
    {
     "name": "stdout",
     "output_type": "stream",
     "text": [
      "Umair\n",
      "21\n",
      "Umair@gmail.com\n",
      "Muhammad Umair\n"
     ]
    }
   ],
   "source": [
    "print(emp_1.name)\n",
    "print(emp_1.age)\n",
    "print(emp_1.email)\n",
    "print(emp_1.full_name)"
   ]
  },
  {
   "cell_type": "code",
   "execution_count": 71,
   "id": "1fde0cac",
   "metadata": {},
   "outputs": [
    {
     "name": "stdout",
     "output_type": "stream",
     "text": [
      "Delete Name!\n"
     ]
    }
   ],
   "source": [
    "del emp_1.full_name"
   ]
  },
  {
   "cell_type": "code",
   "execution_count": 72,
   "id": "3d8a6683",
   "metadata": {},
   "outputs": [
    {
     "name": "stdout",
     "output_type": "stream",
     "text": [
      "None\n"
     ]
    }
   ],
   "source": [
    "print(emp_1.name)"
   ]
  },
  {
   "cell_type": "code",
   "execution_count": null,
   "id": "22e825c7",
   "metadata": {},
   "outputs": [],
   "source": []
  },
  {
   "cell_type": "code",
   "execution_count": null,
   "id": "15495e8e",
   "metadata": {},
   "outputs": [],
   "source": []
  },
  {
   "cell_type": "code",
   "execution_count": null,
   "id": "d575515c",
   "metadata": {},
   "outputs": [],
   "source": []
  },
  {
   "cell_type": "code",
   "execution_count": null,
   "id": "75cdf677",
   "metadata": {},
   "outputs": [],
   "source": []
  },
  {
   "cell_type": "code",
   "execution_count": null,
   "id": "13b3a9e6",
   "metadata": {},
   "outputs": [],
   "source": []
  },
  {
   "cell_type": "code",
   "execution_count": 73,
   "id": "db76c0b0",
   "metadata": {},
   "outputs": [],
   "source": [
    "#Encapsulation refers to the bundling of attributes and methods inside a single class"
   ]
  },
  {
   "cell_type": "code",
   "execution_count": null,
   "id": "9ad0ea8a",
   "metadata": {},
   "outputs": [],
   "source": []
  },
  {
   "cell_type": "code",
   "execution_count": null,
   "id": "966254d3",
   "metadata": {},
   "outputs": [],
   "source": []
  },
  {
   "cell_type": "code",
   "execution_count": null,
   "id": "23eeea0a",
   "metadata": {},
   "outputs": [],
   "source": []
  },
  {
   "cell_type": "code",
   "execution_count": null,
   "id": "9660306c",
   "metadata": {},
   "outputs": [],
   "source": []
  },
  {
   "cell_type": "code",
   "execution_count": null,
   "id": "d1277c53",
   "metadata": {},
   "outputs": [],
   "source": []
  },
  {
   "cell_type": "code",
   "execution_count": 74,
   "id": "545b8157",
   "metadata": {},
   "outputs": [],
   "source": [
    "# Banking System using OOP"
   ]
  },
  {
   "cell_type": "code",
   "execution_count": 75,
   "id": "4d433944",
   "metadata": {},
   "outputs": [],
   "source": [
    "import datetime"
   ]
  },
  {
   "cell_type": "code",
   "execution_count": 76,
   "id": "7c4a948c",
   "metadata": {},
   "outputs": [],
   "source": [
    "class Account():\n",
    "    \n",
    "    no_of_accounts = 0\n",
    "    bank_open = True\n",
    "    bank_close = False\n",
    "    \n",
    "    def __init__(self,name,balance,transactions = None, dates = None):\n",
    "        self._name = name # indicated private\n",
    "        self.__balance = balance # name mangling, enforced private\n",
    "        print(f'Account created for {name}')\n",
    "        Account.no_of_accounts += 1\n",
    "        if transactions == None and dates == None:\n",
    "            self.transactions = []\n",
    "            self.transactions.append(balance)\n",
    "            self.dates = []\n",
    "            self.dates.append(datetime.datetime.now())\n",
    "            self.show()\n",
    "            \n",
    "    def deposit(self,amount):\n",
    "        if amount>0:\n",
    "            self.__balance += amount\n",
    "            self.transactions.append(amount)\n",
    "            self.dates.append(datetime.datetime.now())\n",
    "            self.show()\n",
    "            \n",
    "    def withdraw(self,amount):\n",
    "        if 0 < amount < self.__balance:\n",
    "            if self.__balance >= amount:\n",
    "                self.__balance -= amount\n",
    "                self.transactions.append(-amount)\n",
    "                self.dates.append(datetime.datetime.now())\n",
    "                self.show()\n",
    "        else:\n",
    "            print('You are bankrupt!!!')\n",
    "    \n",
    "    def show(self):\n",
    "        if self.transactions[-1] > 0 :\n",
    "            print(f' ${abs(self.transactions[-1])} deposited on {datetime.datetime.now()} --- {Account._current_day()}')\n",
    "        else :\n",
    "            print(f' ${abs(self.transactions[-1])} withdrawed on {datetime.datetime.now()} --- {Account._current_day()}')\n",
    "        print(f'{self._name} balance is {self.__balance} ------ {datetime.datetime.now()}')\n",
    "        \n",
    "    @staticmethod\n",
    "    def _current_day(): # indicated private by you so shouldnot be changed by anybody\n",
    "        now = datetime.datetime.now()\n",
    "        day = now.strftime(\"%a\")\n",
    "        return day\n",
    "        \n",
    "    @classmethod\n",
    "    def open(cls):\n",
    "        if cls.bank_open == True:\n",
    "            print('Bank is already open')\n",
    "        else:\n",
    "            cls.bank_open = True\n",
    "            cls.bank_close = False\n",
    "            \n",
    "    @classmethod\n",
    "    def close(cls):\n",
    "        if cls.bank_close == True:\n",
    "            print('Bank is already closed')\n",
    "        else:\n",
    "            cls.bank_close = True\n",
    "            cls.bank_open = False\n",
    "            \n",
    "    @property\n",
    "    def email(self):\n",
    "        return self._name + '@gmail.com'\n",
    "    \n",
    "    \n",
    "    def transaction_history(self):\n",
    "        print('dates --------------------- transactions------transaction_types')\n",
    "        for x,y in zip(self.dates,self.transactions):\n",
    "            if y>0:\n",
    "                print(x,'  ', y,'            ','deposit')\n",
    "            else :\n",
    "                print(x,'  ', y,'           ','withdraw')"
   ]
  },
  {
   "cell_type": "code",
   "execution_count": 77,
   "id": "02fb5566",
   "metadata": {},
   "outputs": [
    {
     "name": "stdout",
     "output_type": "stream",
     "text": [
      "Account created for Umair\n",
      " $110 deposited on 2023-10-10 19:31:38.405315 --- Tue\n",
      "Umair balance is 110 ------ 2023-10-10 19:31:38.405315\n"
     ]
    }
   ],
   "source": [
    "Umair = Account('Umair',110)"
   ]
  },
  {
   "cell_type": "code",
   "execution_count": 78,
   "id": "0d8f6e90",
   "metadata": {},
   "outputs": [
    {
     "name": "stdout",
     "output_type": "stream",
     "text": [
      " $110 deposited on 2023-10-10 19:31:38.433779 --- Tue\n",
      "Umair balance is 110 ------ 2023-10-10 19:31:38.433779\n"
     ]
    }
   ],
   "source": [
    "Umair.show()"
   ]
  },
  {
   "cell_type": "code",
   "execution_count": 79,
   "id": "04c7bacc",
   "metadata": {},
   "outputs": [
    {
     "name": "stdout",
     "output_type": "stream",
     "text": [
      " $20 deposited on 2023-10-10 19:31:38.462309 --- Tue\n",
      "Umair balance is 130 ------ 2023-10-10 19:31:38.462309\n"
     ]
    }
   ],
   "source": [
    "Umair.deposit(20)"
   ]
  },
  {
   "cell_type": "code",
   "execution_count": 80,
   "id": "3614bd89",
   "metadata": {},
   "outputs": [
    {
     "name": "stdout",
     "output_type": "stream",
     "text": [
      " $70 withdrawed on 2023-10-10 19:31:38.490202 --- Tue\n",
      "Umair balance is 60 ------ 2023-10-10 19:31:38.490202\n"
     ]
    }
   ],
   "source": [
    "Umair.withdraw(70)"
   ]
  },
  {
   "cell_type": "code",
   "execution_count": 81,
   "id": "520dca57",
   "metadata": {},
   "outputs": [
    {
     "name": "stdout",
     "output_type": "stream",
     "text": [
      "You are bankrupt!!!\n"
     ]
    }
   ],
   "source": [
    "Umair.withdraw(80)"
   ]
  },
  {
   "cell_type": "code",
   "execution_count": 82,
   "id": "d3e6d120",
   "metadata": {},
   "outputs": [
    {
     "data": {
      "text/plain": [
       "1"
      ]
     },
     "execution_count": 82,
     "metadata": {},
     "output_type": "execute_result"
    }
   ],
   "source": [
    "Umair.no_of_accounts"
   ]
  },
  {
   "cell_type": "code",
   "execution_count": 83,
   "id": "4414da02",
   "metadata": {},
   "outputs": [
    {
     "name": "stdout",
     "output_type": "stream",
     "text": [
      "dates --------------------- transactions------transaction_types\n",
      "2023-10-10 19:31:38.405315    110              deposit\n",
      "2023-10-10 19:31:38.462309    20              deposit\n",
      "2023-10-10 19:31:38.490202    -70             withdraw\n"
     ]
    }
   ],
   "source": [
    "Umair.transaction_history()"
   ]
  },
  {
   "cell_type": "code",
   "execution_count": 84,
   "id": "f09a201e",
   "metadata": {},
   "outputs": [
    {
     "name": "stdout",
     "output_type": "stream",
     "text": [
      " $1000 deposited on 2023-10-10 19:31:38.611217 --- Tue\n",
      "Umair balance is 1060 ------ 2023-10-10 19:31:38.611217\n"
     ]
    }
   ],
   "source": [
    "Umair.deposit(1000)"
   ]
  },
  {
   "cell_type": "code",
   "execution_count": 85,
   "id": "9f35a9f7",
   "metadata": {},
   "outputs": [
    {
     "name": "stdout",
     "output_type": "stream",
     "text": [
      "dates --------------------- transactions------transaction_types\n",
      "2023-10-10 19:31:38.405315    110              deposit\n",
      "2023-10-10 19:31:38.462309    20              deposit\n",
      "2023-10-10 19:31:38.490202    -70             withdraw\n",
      "2023-10-10 19:31:38.611217    1000              deposit\n"
     ]
    }
   ],
   "source": [
    "Umair.transaction_history()"
   ]
  },
  {
   "cell_type": "code",
   "execution_count": 86,
   "id": "9f2dc2c2",
   "metadata": {},
   "outputs": [],
   "source": [
    "Umair.close()"
   ]
  },
  {
   "cell_type": "code",
   "execution_count": 87,
   "id": "72e69bbb",
   "metadata": {},
   "outputs": [
    {
     "data": {
      "text/plain": [
       "False"
      ]
     },
     "execution_count": 87,
     "metadata": {},
     "output_type": "execute_result"
    }
   ],
   "source": [
    "Umair.bank_open"
   ]
  },
  {
   "cell_type": "code",
   "execution_count": 88,
   "id": "db0494e7",
   "metadata": {},
   "outputs": [],
   "source": [
    "Umair._name = 'Ali'\n",
    "Umair.__balance = -200"
   ]
  },
  {
   "cell_type": "code",
   "execution_count": 89,
   "id": "81584e2b",
   "metadata": {},
   "outputs": [
    {
     "data": {
      "text/plain": [
       "{'_name': 'Ali',\n",
       " '_Account__balance': 1060,\n",
       " 'transactions': [110, 20, -70, 1000],\n",
       " 'dates': [datetime.datetime(2023, 10, 10, 19, 31, 38, 405315),\n",
       "  datetime.datetime(2023, 10, 10, 19, 31, 38, 462309),\n",
       "  datetime.datetime(2023, 10, 10, 19, 31, 38, 490202),\n",
       "  datetime.datetime(2023, 10, 10, 19, 31, 38, 611217)],\n",
       " '__balance': -200}"
      ]
     },
     "execution_count": 89,
     "metadata": {},
     "output_type": "execute_result"
    }
   ],
   "source": [
    "Umair.__dict__"
   ]
  },
  {
   "cell_type": "code",
   "execution_count": 90,
   "id": "b61b5cc9",
   "metadata": {},
   "outputs": [],
   "source": [
    "# so value didn't assigned to real __balance in code because python change this name to _account__balance and assigned the changed value to new variable of name __balance"
   ]
  },
  {
   "cell_type": "code",
   "execution_count": null,
   "id": "8fe9408a",
   "metadata": {},
   "outputs": [],
   "source": []
  },
  {
   "cell_type": "code",
   "execution_count": 91,
   "id": "087f4441",
   "metadata": {},
   "outputs": [],
   "source": [
    "# PEP8 and meaning of underscores"
   ]
  },
  {
   "cell_type": "code",
   "execution_count": 92,
   "id": "665d565d",
   "metadata": {},
   "outputs": [],
   "source": [
    "# single leading underscore: _var : Private Method or Attribute\n",
    "# if you see this in someone's code, it means he is saying that don't change this thing otherwise the code with crasho or give unwanted results"
   ]
  },
  {
   "cell_type": "code",
   "execution_count": 93,
   "id": "3e21f06e",
   "metadata": {},
   "outputs": [],
   "source": [
    "# single trailing underscore : var_ : avoide over shading , avoid conflicts with python keywords"
   ]
  },
  {
   "cell_type": "code",
   "execution_count": 94,
   "id": "d2c0df4b",
   "metadata": {},
   "outputs": [],
   "source": [
    "# only underscore in python : _ : unused variables"
   ]
  },
  {
   "cell_type": "code",
   "execution_count": 95,
   "id": "c9141c0c",
   "metadata": {},
   "outputs": [],
   "source": [
    "# double leading underscore : __var : name mangling to avoid conflicts"
   ]
  },
  {
   "cell_type": "code",
   "execution_count": null,
   "id": "1b669da7",
   "metadata": {},
   "outputs": [],
   "source": []
  },
  {
   "cell_type": "code",
   "execution_count": 96,
   "id": "8beac771",
   "metadata": {},
   "outputs": [],
   "source": [
    "# single leading underscore is a polite way of asking that this variable shouldn't be change.\n",
    "# single leading underscore is an indication of private method or variable.\n",
    "# double leading underscore also called name mangling is the enforcement of private method or variable."
   ]
  },
  {
   "cell_type": "code",
   "execution_count": 1,
   "id": "3c8cafc1",
   "metadata": {},
   "outputs": [],
   "source": [
    "# name_mangling : name_mangled variable or function cannot be accessed directly and if assigned anyother value, python\n",
    "# will create another variable with name __mangledattributename and assign the assigned value to that variable and orginal mangled\n",
    "# variable will have name in the directory as _ClassName__mangledattributename"
   ]
  },
  {
   "cell_type": "code",
   "execution_count": null,
   "id": "cad7d796",
   "metadata": {},
   "outputs": [],
   "source": []
  },
  {
   "cell_type": "code",
   "execution_count": 4,
   "id": "f3cb1550",
   "metadata": {},
   "outputs": [],
   "source": [
    "# Access Modifiers are just conventions it's not something enforced by python\n",
    "# Public Access Modifier : can be access from anywhere\n",
    "# Private Access Modifier (double leading underscore (i.e. name mangaling)) : cannot be accessed directly\n",
    "# Protected Access Modifier (single leading underscore) : should not be accessed directly but it can be"
   ]
  },
  {
   "cell_type": "code",
   "execution_count": null,
   "id": "30af39c2",
   "metadata": {},
   "outputs": [],
   "source": []
  },
  {
   "cell_type": "code",
   "execution_count": 97,
   "id": "5e880be3",
   "metadata": {},
   "outputs": [
    {
     "name": "stdout",
     "output_type": "stream",
     "text": [
      "['__class__', '__delattr__', '__dict__', '__dir__', '__doc__', '__eq__', '__format__', '__ge__', '__getattribute__', '__getstate__', '__gt__', '__hash__', '__init__', '__init_subclass__', '__le__', '__lt__', '__module__', '__ne__', '__new__', '__reduce__', '__reduce_ex__', '__repr__', '__setattr__', '__sizeof__', '__str__', '__subclasshook__', '__weakref__', '_current_day', 'bank_close', 'bank_open', 'close', 'deposit', 'email', 'no_of_accounts', 'open', 'show', 'transaction_history', 'withdraw']\n"
     ]
    }
   ],
   "source": [
    "print(dir(Account))\n",
    "# first of methods with __var__ are magic dunder method used by python for correct functionality"
   ]
  },
  {
   "cell_type": "code",
   "execution_count": null,
   "id": "dce2ba6c",
   "metadata": {},
   "outputs": [],
   "source": []
  },
  {
   "cell_type": "code",
   "execution_count": null,
   "id": "e5fbb236",
   "metadata": {},
   "outputs": [],
   "source": []
  },
  {
   "cell_type": "code",
   "execution_count": null,
   "id": "0d1aa70d",
   "metadata": {},
   "outputs": [],
   "source": []
  },
  {
   "cell_type": "code",
   "execution_count": null,
   "id": "239dbd8d",
   "metadata": {},
   "outputs": [],
   "source": []
  },
  {
   "cell_type": "code",
   "execution_count": null,
   "id": "a61b3b98",
   "metadata": {},
   "outputs": [],
   "source": []
  },
  {
   "cell_type": "code",
   "execution_count": 98,
   "id": "65bbbb64",
   "metadata": {},
   "outputs": [],
   "source": [
    "# Zombie Game using OOP"
   ]
  },
  {
   "cell_type": "code",
   "execution_count": 99,
   "id": "31ec1698",
   "metadata": {},
   "outputs": [],
   "source": [
    "class Player():\n",
    "    \n",
    "    def __init__(self,name):\n",
    "        self.name = name\n",
    "        self._lives = 3 \n",
    "        self._level = 1\n",
    "        self.score = 0\n",
    "        \n",
    "    @property \n",
    "    def lives(self):\n",
    "        return self._lives\n",
    "    @lives.setter\n",
    "    def lives(self,new_lives):\n",
    "        if new_lives >= 0:\n",
    "            self._lives = new_lives\n",
    "        else :\n",
    "            print(\"Lives can't be below zero\")\n",
    "            self._lives = 0\n",
    "        \n",
    "    @lives.deleter\n",
    "    def lives(self):\n",
    "        del self._lives\n",
    "    \n",
    "    # Another way of using property and getter and setter method\n",
    "    # property combine two methods\n",
    "    # property take values from both method and convert them to attribute\n",
    "    # getter and setter method add an extra layer between object and class\n",
    "    # so it protect class attribute from changing when changing object attributes\n",
    "    \n",
    "    def _get_level(self):\n",
    "        return self._level\n",
    "    \n",
    "    def _set_level(self,level):\n",
    "        if level > 0:\n",
    "            delta = level - self._level\n",
    "            for x in range(delta):\n",
    "                self.score += 100\n",
    "            self._level = level\n",
    "        else:\n",
    "            print(\"Level can't be below One\")\n",
    "    \n",
    "    level = property(_get_level,_set_level)\n",
    "            \n",
    "    def __str__(self):\n",
    "        return f'Name : {self.name}, Lives : {self.lives}, Level : {self.level}, Score : {self.score}'\n",
    "        "
   ]
  },
  {
   "cell_type": "code",
   "execution_count": 100,
   "id": "fcf30508",
   "metadata": {},
   "outputs": [],
   "source": [
    "Umair = Player('Umair')"
   ]
  },
  {
   "cell_type": "code",
   "execution_count": 101,
   "id": "32d45e87",
   "metadata": {},
   "outputs": [
    {
     "name": "stdout",
     "output_type": "stream",
     "text": [
      "Name : Umair, Lives : 3, Level : 1, Score : 0\n"
     ]
    }
   ],
   "source": [
    "print(Umair)"
   ]
  },
  {
   "cell_type": "code",
   "execution_count": 102,
   "id": "a1b7e88a",
   "metadata": {},
   "outputs": [],
   "source": [
    "Umair._lives -= 1"
   ]
  },
  {
   "cell_type": "code",
   "execution_count": 103,
   "id": "96f4502e",
   "metadata": {},
   "outputs": [
    {
     "data": {
      "text/plain": [
       "<property at 0x211abc59ad0>"
      ]
     },
     "execution_count": 103,
     "metadata": {},
     "output_type": "execute_result"
    }
   ],
   "source": [
    "Player.lives"
   ]
  },
  {
   "cell_type": "code",
   "execution_count": 104,
   "id": "de2177e8",
   "metadata": {},
   "outputs": [
    {
     "data": {
      "text/plain": [
       "2"
      ]
     },
     "execution_count": 104,
     "metadata": {},
     "output_type": "execute_result"
    }
   ],
   "source": [
    "Umair.lives"
   ]
  },
  {
   "cell_type": "code",
   "execution_count": 105,
   "id": "75795b81",
   "metadata": {},
   "outputs": [
    {
     "data": {
      "text/plain": [
       "{'name': 'Umair', '_lives': 2, '_level': 1, 'score': 0}"
      ]
     },
     "execution_count": 105,
     "metadata": {},
     "output_type": "execute_result"
    }
   ],
   "source": [
    "Umair.__dict__"
   ]
  },
  {
   "cell_type": "code",
   "execution_count": 106,
   "id": "4e1b8f19",
   "metadata": {},
   "outputs": [
    {
     "data": {
      "text/plain": [
       "mappingproxy({'__module__': '__main__',\n",
       "              '__init__': <function __main__.Player.__init__(self, name)>,\n",
       "              'lives': <property at 0x211abc59ad0>,\n",
       "              '_get_level': <function __main__.Player._get_level(self)>,\n",
       "              '_set_level': <function __main__.Player._set_level(self, level)>,\n",
       "              'level': <property at 0x211abc63e20>,\n",
       "              '__str__': <function __main__.Player.__str__(self)>,\n",
       "              '__dict__': <attribute '__dict__' of 'Player' objects>,\n",
       "              '__weakref__': <attribute '__weakref__' of 'Player' objects>,\n",
       "              '__doc__': None})"
      ]
     },
     "execution_count": 106,
     "metadata": {},
     "output_type": "execute_result"
    }
   ],
   "source": [
    "Player.__dict__"
   ]
  },
  {
   "cell_type": "code",
   "execution_count": 107,
   "id": "49589501",
   "metadata": {},
   "outputs": [],
   "source": [
    "Umair.level = 3"
   ]
  },
  {
   "cell_type": "code",
   "execution_count": 108,
   "id": "4fd90e75",
   "metadata": {},
   "outputs": [
    {
     "data": {
      "text/plain": [
       "{'name': 'Umair', '_lives': 2, '_level': 3, 'score': 200}"
      ]
     },
     "execution_count": 108,
     "metadata": {},
     "output_type": "execute_result"
    }
   ],
   "source": [
    "Umair.__dict__"
   ]
  },
  {
   "cell_type": "code",
   "execution_count": null,
   "id": "f564e0f5",
   "metadata": {},
   "outputs": [],
   "source": []
  },
  {
   "cell_type": "code",
   "execution_count": 109,
   "id": "8a3651fe",
   "metadata": {},
   "outputs": [],
   "source": [
    "class Enemy:\n",
    "    \n",
    "    def __init__(self,name = 'Enemy',hit_point = 0, lives = 1):\n",
    "        self.name = name\n",
    "        self.hit_points = hit_point\n",
    "        self.lives = True\n",
    "        self.life = lives\n",
    "    \n",
    "    def take_damage(self,damage):\n",
    "        while self.life > 0 : \n",
    "            hit_points = self.hit_points\n",
    "            remaining_point = 100\n",
    "            while remaining_point >= 0:   \n",
    "                    remaining_point = hit_points - damage\n",
    "                    hit_points = remaining_point\n",
    "                    print(f'I took {damage}')\n",
    "                    print(f'My health is {hit_points}')\n",
    "            else:\n",
    "                print('I lost one life')\n",
    "                self.life -= 1\n",
    "        else:\n",
    "            print(f\"Augh!!! I am dead\")\n",
    "            self.lives = False\n",
    "            \n",
    "    def __str__(self):\n",
    "        return f'Enemy Name : {self.name}, Health : {self.hit_points}, Lives : {self.life}'\n",
    "            "
   ]
  },
  {
   "cell_type": "code",
   "execution_count": 110,
   "id": "1b2fd55b",
   "metadata": {},
   "outputs": [],
   "source": [
    "zombie1 = Enemy('Basic Enemy',12,1)"
   ]
  },
  {
   "cell_type": "code",
   "execution_count": 111,
   "id": "c78e448f",
   "metadata": {},
   "outputs": [
    {
     "name": "stdout",
     "output_type": "stream",
     "text": [
      "Enemy Name : Basic Enemy, Health : 12, Lives : 1\n"
     ]
    }
   ],
   "source": [
    "print(zombie1)"
   ]
  },
  {
   "cell_type": "code",
   "execution_count": 112,
   "id": "c34f4f04",
   "metadata": {},
   "outputs": [],
   "source": [
    " def __init__(self,name,age,pay,prog_lang):\n",
    "        super().__init__(name,age,pay)"
   ]
  },
  {
   "cell_type": "code",
   "execution_count": 113,
   "id": "d2d57357",
   "metadata": {},
   "outputs": [],
   "source": [
    "# inheritence - super-class and sub-classes"
   ]
  },
  {
   "cell_type": "code",
   "execution_count": 114,
   "id": "3d84a449",
   "metadata": {},
   "outputs": [],
   "source": [
    "class Bone_snatcher(Enemy): \n",
    "    def  __init__(self,name,hit_point,lives):\n",
    "        super().__init__(name,hit_point,lives)\n",
    "        \n",
    "    def saved_from_shot(self):\n",
    "        if random.randint(1,5) in [3,4]:\n",
    "            print(f\"{self.name} saved from bullets\")\n",
    "            return True\n",
    "        \n",
    "    def take_damage(self,damage):\n",
    "        if not self.saved_from_shot():\n",
    "            super().take_damage(damage) # asking python to call the method from super class\n",
    "    # function overloading -> here we defined function with same name as of super class. so python will prefer subclass function\n",
    "    "
   ]
  },
  {
   "cell_type": "code",
   "execution_count": 115,
   "id": "c642bce2",
   "metadata": {},
   "outputs": [],
   "source": [
    "class Blood_drinker(Enemy):\n",
    "    pass"
   ]
  },
  {
   "cell_type": "code",
   "execution_count": 116,
   "id": "fb298d31",
   "metadata": {},
   "outputs": [],
   "source": [
    "class Brain_eater(Enemy):\n",
    "    pass"
   ]
  },
  {
   "cell_type": "code",
   "execution_count": 117,
   "id": "49b73728",
   "metadata": {},
   "outputs": [],
   "source": [
    "class Big_enemy(Bone_snatcher): # creating further subclasses\n",
    "    \n",
    "    def __init__(self,name):\n",
    "        super().__init__(name)\n",
    "        self.hit_points = 150\n",
    "    \n",
    "    def take_damage(self,damage):\n",
    "        super().take_damage(damage//4)"
   ]
  },
  {
   "cell_type": "code",
   "execution_count": 118,
   "id": "ae41b071",
   "metadata": {},
   "outputs": [],
   "source": [
    "ugly_snatcher = Bone_snatcher('Bone_snatcher',18,3)"
   ]
  },
  {
   "cell_type": "code",
   "execution_count": 119,
   "id": "b25ed7e6",
   "metadata": {},
   "outputs": [
    {
     "name": "stdout",
     "output_type": "stream",
     "text": [
      "Enemy Name : Bone_snatcher, Health : 18, Lives : 3\n"
     ]
    }
   ],
   "source": [
    "print(ugly_snatcher)"
   ]
  },
  {
   "cell_type": "code",
   "execution_count": 120,
   "id": "dff45188",
   "metadata": {},
   "outputs": [],
   "source": [
    "# Method overloading is the priotizing of python for subclass method rather than super_class methods.\n",
    "# such as running sub_class method (if defined) rather than super_class methods having same names"
   ]
  },
  {
   "cell_type": "code",
   "execution_count": 121,
   "id": "a45e507e",
   "metadata": {},
   "outputs": [],
   "source": [
    "# ugly_snatcher.take_damage(5)"
   ]
  },
  {
   "cell_type": "code",
   "execution_count": null,
   "id": "22d70649",
   "metadata": {},
   "outputs": [],
   "source": []
  },
  {
   "cell_type": "code",
   "execution_count": null,
   "id": "78fb8fd6",
   "metadata": {},
   "outputs": [],
   "source": []
  },
  {
   "cell_type": "code",
   "execution_count": null,
   "id": "b6cfd3d8",
   "metadata": {},
   "outputs": [],
   "source": []
  },
  {
   "cell_type": "code",
   "execution_count": null,
   "id": "a54f150e",
   "metadata": {},
   "outputs": [],
   "source": []
  },
  {
   "cell_type": "code",
   "execution_count": null,
   "id": "1b1742ff",
   "metadata": {},
   "outputs": [],
   "source": []
  },
  {
   "cell_type": "code",
   "execution_count": 122,
   "id": "1e99da16",
   "metadata": {},
   "outputs": [],
   "source": [
    "# Polymorphism\n",
    "# Poly..many\n",
    "# morphism..shapes\n",
    "# Polymorphism lets us define methods in the child class that have the same name as the methods in the parent class."
   ]
  },
  {
   "cell_type": "code",
   "execution_count": null,
   "id": "fdb3be75",
   "metadata": {},
   "outputs": [],
   "source": []
  },
  {
   "cell_type": "code",
   "execution_count": null,
   "id": "14f5fe2d",
   "metadata": {},
   "outputs": [],
   "source": []
  },
  {
   "cell_type": "code",
   "execution_count": 123,
   "id": "e73b26d3",
   "metadata": {},
   "outputs": [],
   "source": [
    "# Imperative Programming in Python : It executes commands in a step-by-step manner, just like a series of verbal command."
   ]
  },
  {
   "cell_type": "code",
   "execution_count": 124,
   "id": "aebc67e3",
   "metadata": {},
   "outputs": [],
   "source": [
    "# Imperative Approach vs OOP Approach"
   ]
  },
  {
   "cell_type": "code",
   "execution_count": null,
   "id": "f460e561",
   "metadata": {},
   "outputs": [],
   "source": []
  },
  {
   "cell_type": "code",
   "execution_count": null,
   "id": "14b13934",
   "metadata": {},
   "outputs": [],
   "source": []
  },
  {
   "cell_type": "code",
   "execution_count": null,
   "id": "23edb246",
   "metadata": {},
   "outputs": [],
   "source": []
  }
 ],
 "metadata": {
  "kernelspec": {
   "display_name": "Python 3 (ipykernel)",
   "language": "python",
   "name": "python3"
  },
  "language_info": {
   "codemirror_mode": {
    "name": "ipython",
    "version": 3
   },
   "file_extension": ".py",
   "mimetype": "text/x-python",
   "name": "python",
   "nbconvert_exporter": "python",
   "pygments_lexer": "ipython3",
   "version": "3.11.5"
  }
 },
 "nbformat": 4,
 "nbformat_minor": 5
}
