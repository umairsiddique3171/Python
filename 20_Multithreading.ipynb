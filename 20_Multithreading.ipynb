{
 "cells": [
  {
   "cell_type": "code",
   "execution_count": 1,
   "id": "cd88fac7",
   "metadata": {},
   "outputs": [],
   "source": [
    "# Multithreading is used when you want to run multiple code simultaneously in single script\n",
    "# If not using threading, code runs in the main thread\n",
    "# when using it , threaded code runs in secondary thread"
   ]
  },
  {
   "cell_type": "code",
   "execution_count": 2,
   "id": "dbcbb5fc",
   "metadata": {},
   "outputs": [],
   "source": [
    "# Use cases :\n",
    "# e.g. downloading resources parallely from internet\n",
    "# e.g. performing concurrent tasks such as detecting people intrusion as well as directing security measures"
   ]
  },
  {
   "cell_type": "code",
   "execution_count": 3,
   "id": "250cc89b",
   "metadata": {},
   "outputs": [],
   "source": [
    "# Python runs code one by one\n",
    "# for concurrency we use multithreading"
   ]
  },
  {
   "cell_type": "markdown",
   "id": "5157cdd2",
   "metadata": {},
   "source": [
    "In Python's threading module, there is always one main thread, which is the initial thread that starts when you run a Python program. This main thread is responsible for creating additional threads and managing the overall flow of execution.\n",
    "\n",
    "The other threads created using the threading module are considered secondary threads. These threads are used to perform tasks concurrently with the main thread. They can execute code independently and concurrently, allowing for parallelism in your program"
   ]
  },
  {
   "cell_type": "code",
   "execution_count": 4,
   "id": "3f80da5e",
   "metadata": {},
   "outputs": [],
   "source": [
    "import threading\n",
    "import time"
   ]
  },
  {
   "cell_type": "code",
   "execution_count": 5,
   "id": "5e6a2a72",
   "metadata": {},
   "outputs": [],
   "source": [
    "# indicates some task being done\n",
    "def func(seconds):\n",
    "    print(f'Sleeping for {seconds} seconds')\n",
    "    time.sleep(seconds)\n",
    "    print(f'{seconds} seconds ended')"
   ]
  },
  {
   "cell_type": "code",
   "execution_count": 6,
   "id": "73e6d73c",
   "metadata": {},
   "outputs": [
    {
     "name": "stdout",
     "output_type": "stream",
     "text": [
      "Sleeping for 4 seconds\n",
      "4 seconds ended\n",
      "Sleeping for 2 seconds\n",
      "2 seconds ended\n",
      "Sleeping for 1 seconds\n",
      "1 seconds ended\n"
     ]
    }
   ],
   "source": [
    "func(4)\n",
    "func(2)\n",
    "func(1)"
   ]
  },
  {
   "cell_type": "code",
   "execution_count": 7,
   "id": "422cc5d9",
   "metadata": {},
   "outputs": [
    {
     "name": "stdout",
     "output_type": "stream",
     "text": [
      "Sleeping for 4 seconds\n",
      "Sleeping for 2 seconds\n",
      "Sleeping for 1 seconds\n",
      "end\n",
      "1 seconds ended\n",
      "2 seconds ended\n",
      "4 seconds ended\n"
     ]
    }
   ],
   "source": [
    "threading.Thread(target=func,args=(4,)).start() # secondary thread\n",
    "threading.Thread(target=func,args=(2,)).start() # secondary thread\n",
    "threading.Thread(target=func,args=(1,)).start() # secondary thread\n",
    "print('end') # main thread "
   ]
  },
  {
   "cell_type": "code",
   "execution_count": 8,
   "id": "7e23c98c",
   "metadata": {},
   "outputs": [
    {
     "name": "stdout",
     "output_type": "stream",
     "text": [
      "Sleeping for 5 seconds\n",
      "5 seconds ended\n",
      "Sleeping for 3 seconds\n",
      "3 seconds ended\n",
      "Sleeping for 2 seconds\n",
      "2 seconds ended\n",
      "10.003214399970602\n"
     ]
    }
   ],
   "source": [
    "# checking performance\n",
    "time1 = time.perf_counter() # performance counter\n",
    "func(5)\n",
    "func(3)\n",
    "func(2)\n",
    "time2 = time.perf_counter()\n",
    "print(time2-time1)"
   ]
  },
  {
   "cell_type": "code",
   "execution_count": 9,
   "id": "42afb10d",
   "metadata": {},
   "outputs": [
    {
     "name": "stdout",
     "output_type": "stream",
     "text": [
      "Sleeping for 5 seconds\n",
      "Sleeping for 3 seconds\n",
      "Sleeping for 2 seconds\n",
      "0.005616299982648343\n",
      "2 seconds ended\n",
      "3 seconds ended\n",
      "5 seconds ended\n"
     ]
    }
   ],
   "source": [
    "# checking performance using threading\n",
    "time1 = time.perf_counter()\n",
    "threading.Thread(target=func,args=[5]).start() # secondary thread\n",
    "threading.Thread(target=func,args=[3]).start() # secondary thread\n",
    "threading.Thread(target=func,args=[2]).start() # secondary thread\n",
    "time2 = time.perf_counter()\n",
    "print(time2-time1)"
   ]
  },
  {
   "cell_type": "markdown",
   "id": "3ca817eb",
   "metadata": {},
   "source": [
    "The problem in the above cell is that the performance counter gave almost 0 seconds. It's because when we run the code,main thread and secondary threads gets executed at the same time. We can use that join method to prevent this. Because when we call join method on secondary thread, main thread code below that thread start calling, will not run until and unless that secondary thread is finished"
   ]
  },
  {
   "cell_type": "code",
   "execution_count": 10,
   "id": "fcc87fdf",
   "metadata": {},
   "outputs": [
    {
     "name": "stdout",
     "output_type": "stream",
     "text": [
      "Sleeping for 5 seconds\n",
      "Sleeping for 3 seconds\n",
      "Sleeping for 2 seconds\n",
      "2 seconds ended\n",
      "3 seconds ended\n",
      "5 seconds ended\n",
      "5.00721979996888\n"
     ]
    }
   ],
   "source": [
    "# checking performance using threading again but now using join method\n",
    "time1 = time.perf_counter()\n",
    "thread1 = threading.Thread(target=func,args=[5])\n",
    "thread2 = threading.Thread(target=func,args=[3])\n",
    "thread3 = threading.Thread(target=func,args=[2])\n",
    "thread1.start()\n",
    "thread2.start()\n",
    "thread3.start()\n",
    "thread1.join()\n",
    "time2 = time.perf_counter()\n",
    "print(time2-time1)"
   ]
  },
  {
   "cell_type": "markdown",
   "id": "5628b575",
   "metadata": {},
   "source": [
    "so in above cell we used join method on that specific thread which ends at the end, we could also use join method on all secondary threads which means python scripts have to wait till all the secondary threads functionality ends and then execute the main thread code below those secondary threads start calling"
   ]
  },
  {
   "cell_type": "code",
   "execution_count": null,
   "id": "ec9a1653",
   "metadata": {},
   "outputs": [],
   "source": []
  },
  {
   "cell_type": "code",
   "execution_count": null,
   "id": "aff21cff",
   "metadata": {},
   "outputs": [],
   "source": []
  },
  {
   "cell_type": "code",
   "execution_count": null,
   "id": "2b2a5748",
   "metadata": {},
   "outputs": [],
   "source": []
  },
  {
   "cell_type": "code",
   "execution_count": null,
   "id": "f7c86602",
   "metadata": {},
   "outputs": [],
   "source": []
  },
  {
   "cell_type": "code",
   "execution_count": null,
   "id": "2736a489",
   "metadata": {},
   "outputs": [],
   "source": []
  },
  {
   "cell_type": "markdown",
   "id": "919c668f",
   "metadata": {},
   "source": [
    "when trying to run multiple threads on same code with different arguments threadpoolexecutor is a go"
   ]
  },
  {
   "cell_type": "code",
   "execution_count": 11,
   "id": "c6ceb401",
   "metadata": {},
   "outputs": [],
   "source": [
    "from concurrent.futures import ThreadPoolExecutor"
   ]
  },
  {
   "cell_type": "code",
   "execution_count": 12,
   "id": "3d27b648",
   "metadata": {},
   "outputs": [
    {
     "name": "stdout",
     "output_type": "stream",
     "text": [
      "Sleeping for 5 seconds\n",
      "Sleeping for 3 seconds\n",
      "Sleeping for 2 seconds\n",
      "2 seconds ended\n",
      "3 seconds ended\n",
      "5 seconds ended\n",
      "None\n",
      "None\n",
      "None\n"
     ]
    }
   ],
   "source": [
    "with ThreadPoolExecutor() as executor:\n",
    "    future1 = executor.submit(func,5)\n",
    "    future2 = executor.submit(func,3)\n",
    "    future3 = executor.submit(func,2)\n",
    "    print(future1.result())\n",
    "    print(future2.result())\n",
    "    print(future3.result())"
   ]
  },
  {
   "cell_type": "code",
   "execution_count": 13,
   "id": "3bbf3ce2",
   "metadata": {},
   "outputs": [
    {
     "name": "stdout",
     "output_type": "stream",
     "text": [
      "Sleeping for 5 seconds\n",
      "Sleeping for 3 seconds\n",
      "Sleeping for 2 seconds\n",
      "<generator object Executor.map.<locals>.result_iterator at 0x00000225FE595740>\n",
      "2 seconds ended\n",
      "3 seconds ended\n",
      "5 seconds ended\n"
     ]
    }
   ],
   "source": [
    "# you can do mapping as well using threadpoolexecutor\n",
    "with ThreadPoolExecutor() as executor:\n",
    "    l = [5,3,2]\n",
    "    results = executor.map(func,l)\n",
    "    print(results)"
   ]
  },
  {
   "cell_type": "code",
   "execution_count": 14,
   "id": "510f2bf8",
   "metadata": {},
   "outputs": [
    {
     "data": {
      "text/plain": [
       "generator"
      ]
     },
     "execution_count": 14,
     "metadata": {},
     "output_type": "execute_result"
    }
   ],
   "source": [
    "type(results)"
   ]
  },
  {
   "cell_type": "code",
   "execution_count": 15,
   "id": "f1e719f4",
   "metadata": {},
   "outputs": [
    {
     "name": "stdout",
     "output_type": "stream",
     "text": [
      "None\n",
      "None\n",
      "None\n"
     ]
    }
   ],
   "source": [
    "for result in results:\n",
    "    print(result)"
   ]
  },
  {
   "cell_type": "code",
   "execution_count": 16,
   "id": "138b0046",
   "metadata": {},
   "outputs": [],
   "source": [
    "# but if you return some value it will return that value"
   ]
  },
  {
   "cell_type": "code",
   "execution_count": 17,
   "id": "06306f5f",
   "metadata": {},
   "outputs": [],
   "source": [
    "def killer(seconds):\n",
    "    print(f'Target is required to be killed in {seconds} seconds')\n",
    "    time.sleep(seconds)\n",
    "    if seconds > 3 :\n",
    "        print(f'Target is killed in {seconds} seconds')\n",
    "        return True\n",
    "    return False"
   ]
  },
  {
   "cell_type": "code",
   "execution_count": 18,
   "id": "4423618f",
   "metadata": {},
   "outputs": [
    {
     "name": "stdout",
     "output_type": "stream",
     "text": [
      "Target is required to be killed in 5 seconds\n",
      "Target is required to be killed in 3 seconds\n",
      "Target is required to be killed in 2 seconds\n",
      "Target is killed in 5 seconds\n",
      "True\n",
      "False\n",
      "False\n"
     ]
    }
   ],
   "source": [
    "with ThreadPoolExecutor() as executor:\n",
    "    l = [5,3,2]\n",
    "    results = executor.map(killer,l)\n",
    "    for result in results:\n",
    "        print(result)"
   ]
  },
  {
   "cell_type": "code",
   "execution_count": null,
   "id": "6bf2709d",
   "metadata": {},
   "outputs": [],
   "source": []
  },
  {
   "cell_type": "code",
   "execution_count": null,
   "id": "d106cac5",
   "metadata": {},
   "outputs": [],
   "source": []
  },
  {
   "cell_type": "code",
   "execution_count": null,
   "id": "8f570036",
   "metadata": {},
   "outputs": [],
   "source": []
  },
  {
   "cell_type": "code",
   "execution_count": null,
   "id": "8f9b9c0a",
   "metadata": {},
   "outputs": [],
   "source": []
  },
  {
   "cell_type": "code",
   "execution_count": null,
   "id": "573169fd",
   "metadata": {},
   "outputs": [],
   "source": []
  },
  {
   "cell_type": "code",
   "execution_count": 19,
   "id": "a4bb402a",
   "metadata": {},
   "outputs": [],
   "source": [
    "# Running Synchronously means running everything in order (i.e. line by line code execution)"
   ]
  },
  {
   "cell_type": "code",
   "execution_count": 20,
   "id": "d54ee637",
   "metadata": {},
   "outputs": [],
   "source": [
    "# CPU-bound tasks vs IO-bound tasks"
   ]
  },
  {
   "cell_type": "code",
   "execution_count": 21,
   "id": "8b33442a",
   "metadata": {},
   "outputs": [],
   "source": [
    "# CPU-bound task --> Multiprocessing\n",
    "# IO-bound task --> Multithreading"
   ]
  },
  {
   "cell_type": "code",
   "execution_count": 22,
   "id": "7660f829",
   "metadata": {},
   "outputs": [],
   "source": [
    "import time\n",
    "import threading\n",
    "import concurrent.futures"
   ]
  },
  {
   "cell_type": "code",
   "execution_count": 23,
   "id": "0ce67391",
   "metadata": {},
   "outputs": [],
   "source": [
    "def do_something(seconds):\n",
    "    print(f'sleeping for {seconds} seconds ')\n",
    "    time.sleep(seconds)\n",
    "    print(f'Done {seconds}')\n",
    "    return f'result {seconds}'"
   ]
  },
  {
   "cell_type": "code",
   "execution_count": 24,
   "id": "4e06b60e",
   "metadata": {},
   "outputs": [
    {
     "name": "stdout",
     "output_type": "stream",
     "text": [
      "sleeping for 1 seconds \n",
      "sleeping for 1 seconds \n",
      "sleeping for 1 seconds \n",
      "sleeping for 1 seconds \n",
      "sleeping for 1 seconds \n",
      "sleeping for 1 seconds \n",
      "sleeping for 1 seconds \n",
      "sleeping for 1 seconds \n",
      "sleeping for 1 seconds \n",
      "sleeping for 1 seconds \n",
      "Done 1\n",
      "Done 1\n",
      "Done 1\n",
      "Done 1\n",
      "Done 1\n",
      "Done 1\n",
      "Done 1\n",
      "Done 1\n",
      "Done 1\n",
      "Done 1\n",
      "end\n",
      "1.012816800037399\n"
     ]
    }
   ],
   "source": [
    "t1 = time.perf_counter()\n",
    "threads = []\n",
    "for _ in range(10):  # running multiple threads using for loops \n",
    "    t = threading.Thread(target=do_something,args = [1])\n",
    "    t.start()\n",
    "    threads.append(t)\n",
    "for thread in threads:\n",
    "    thread.join()\n",
    "print('end')\n",
    "t2 = time.perf_counter()\n",
    "print(t2-t1)"
   ]
  },
  {
   "cell_type": "code",
   "execution_count": 25,
   "id": "825dd890",
   "metadata": {},
   "outputs": [],
   "source": [
    "# using list_comprehension for multiple threads although you can do same using map function"
   ]
  },
  {
   "cell_type": "code",
   "execution_count": 26,
   "id": "2711472e",
   "metadata": {},
   "outputs": [
    {
     "name": "stdout",
     "output_type": "stream",
     "text": [
      "sleeping for 1 seconds \n",
      "sleeping for 1 seconds \n",
      "sleeping for 1 seconds \n",
      "sleeping for 1 seconds \n",
      "sleeping for 1 seconds \n",
      "sleeping for 1 seconds \n",
      "sleeping for 1 seconds \n",
      "sleeping for 1 seconds \n",
      "sleeping for 1 seconds \n",
      "sleeping for 1 seconds \n",
      "Done 1\n",
      "result 1\n",
      "Done 1\n",
      "result 1\n",
      "Done 1\n",
      "result 1\n",
      "Done 1\n",
      "result 1\n",
      "Done 1\n",
      "result 1\n",
      "Done 1\n",
      "result 1\n",
      "Done 1\n",
      "result 1\n",
      "Done 1\n",
      "result 1\n",
      "Done 1\n",
      "result 1\n",
      "Done 1\n",
      "result 1\n"
     ]
    }
   ],
   "source": [
    "with concurrent.futures.ThreadPoolExecutor() as executor:\n",
    "    results = [executor.submit(do_something,1) for _ in range(10)]\n",
    "    for f in concurrent.futures.as_completed(results):\n",
    "        print(f.result())"
   ]
  },
  {
   "cell_type": "code",
   "execution_count": 27,
   "id": "2254973a",
   "metadata": {},
   "outputs": [
    {
     "name": "stdout",
     "output_type": "stream",
     "text": [
      "sleeping for 1 seconds \n",
      "sleeping for 2 seconds \n",
      "sleeping for 3 seconds \n",
      "sleeping for 4 seconds \n",
      "sleeping for 5 seconds \n",
      "Done 1\n",
      "result 1\n",
      "Done 2\n",
      "result 2\n",
      "Done 3\n",
      "result 3\n",
      "Done 4\n",
      "result 4\n",
      "Done 5\n",
      "result 5\n"
     ]
    }
   ],
   "source": [
    "with concurrent.futures.ThreadPoolExecutor() as executor:\n",
    "    secs = [1,2,3,4,5]\n",
    "    results = [executor.submit(do_something,sec) for sec in secs]\n",
    "    for f in concurrent.futures.as_completed(results):\n",
    "        print(f.result())"
   ]
  },
  {
   "cell_type": "code",
   "execution_count": 28,
   "id": "594369ca",
   "metadata": {},
   "outputs": [
    {
     "name": "stdout",
     "output_type": "stream",
     "text": [
      "sleeping for 5 seconds \n",
      "sleeping for 4 seconds \n",
      "sleeping for 3 seconds \n",
      "sleeping for 2 seconds \n",
      "sleeping for 1 seconds \n",
      "Done 1\n",
      "result 1\n",
      "Done 2\n",
      "result 2\n",
      "Done 3\n",
      "result 3\n",
      "Done 4\n",
      "result 4\n",
      "Done 5\n",
      "result 5\n",
      "5.009151200007182\n"
     ]
    }
   ],
   "source": [
    "t1 = time.perf_counter()\n",
    "with concurrent.futures.ThreadPoolExecutor() as executor:\n",
    "    secs = [5,4,3,2,1]\n",
    "    results = [executor.submit(do_something,sec) for sec in secs]\n",
    "    for f in concurrent.futures.as_completed(results):\n",
    "        print(f.result())\n",
    "t2 = time.perf_counter()\n",
    "print(t2-t1)"
   ]
  },
  {
   "cell_type": "code",
   "execution_count": 29,
   "id": "1203294f",
   "metadata": {},
   "outputs": [],
   "source": [
    "# using map function result will only be printed at the end , in the order in which inputs were fed in map function\n",
    "# also while running map function, python doesn't raise an error if exceptions exists\n",
    "# if exception exists, error will be raised while retrieving results using for loop"
   ]
  },
  {
   "cell_type": "code",
   "execution_count": 30,
   "id": "d5bab466",
   "metadata": {},
   "outputs": [
    {
     "name": "stdout",
     "output_type": "stream",
     "text": [
      "sleeping for 5 seconds \n",
      "sleeping for 4 seconds \n",
      "sleeping for 3 seconds \n",
      "sleeping for 2 seconds \n",
      "sleeping for 1 seconds \n",
      "Done 1\n",
      "Done 2\n",
      "Done 3\n",
      "Done 4\n",
      "Done 5\n",
      "result 5\n",
      "result 4\n",
      "result 3\n",
      "result 2\n",
      "result 1\n",
      "5.00681920000352\n"
     ]
    }
   ],
   "source": [
    "t1 = time.perf_counter()\n",
    "with concurrent.futures.ThreadPoolExecutor() as executor:\n",
    "    secs = [5,4,3,2,1]\n",
    "    results = executor.map(do_something,secs) \n",
    "    for result in results:\n",
    "        print(result)\n",
    "t2 = time.perf_counter()\n",
    "print(t2-t1)"
   ]
  },
  {
   "cell_type": "code",
   "execution_count": 31,
   "id": "33f54f4a",
   "metadata": {},
   "outputs": [],
   "source": [
    "# also you don't need to use join as well while using map func.\n",
    "# it's because python will wait till all the secondary threads of map func are complete to continue running main thread below it"
   ]
  },
  {
   "cell_type": "code",
   "execution_count": null,
   "id": "a8d0725a",
   "metadata": {},
   "outputs": [],
   "source": []
  },
  {
   "cell_type": "code",
   "execution_count": null,
   "id": "7c4a4753",
   "metadata": {},
   "outputs": [],
   "source": []
  },
  {
   "cell_type": "code",
   "execution_count": null,
   "id": "4f031ed1",
   "metadata": {},
   "outputs": [],
   "source": []
  }
 ],
 "metadata": {
  "kernelspec": {
   "display_name": "Python 3 (ipykernel)",
   "language": "python",
   "name": "python3"
  },
  "language_info": {
   "codemirror_mode": {
    "name": "ipython",
    "version": 3
   },
   "file_extension": ".py",
   "mimetype": "text/x-python",
   "name": "python",
   "nbconvert_exporter": "python",
   "pygments_lexer": "ipython3",
   "version": "3.11.5"
  }
 },
 "nbformat": 4,
 "nbformat_minor": 5
}
