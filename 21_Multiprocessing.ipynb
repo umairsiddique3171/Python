{
 "cells": [
  {
   "cell_type": "markdown",
   "id": "d97b26ef",
   "metadata": {},
   "source": [
    "Multiprocessing involves running separate processes, each with its own memory space and Python interpreter. It's good for CPU-intensive tasks and can utilize multiple CPU cores simultaneously.\n",
    "\n",
    "Multithreading involves running multiple threads within a single process, sharing the same memory space. However, due to the Global Interpreter Lock (GIL) in Python, threads struggle to fully utilize multiple CPU cores. It's more suitable for tasks involving waiting for external resources, like I/O operations."
   ]
  },
  {
   "cell_type": "code",
   "execution_count": 1,
   "id": "78f0e8a5",
   "metadata": {},
   "outputs": [],
   "source": [
    "import time\n",
    "import multiprocessing"
   ]
  },
  {
   "cell_type": "code",
   "execution_count": 2,
   "id": "dc8be37c",
   "metadata": {},
   "outputs": [],
   "source": [
    "def do_something(seconds):\n",
    "    \n",
    "    print(f\"Sleeping for {seconds} second\")\n",
    "    time.sleep(seconds)\n",
    "    print(f\"Done {seconds}\")\n",
    "    \n",
    "    return f\"result {seconds}\""
   ]
  },
  {
   "cell_type": "code",
   "execution_count": 3,
   "id": "05a2752f",
   "metadata": {},
   "outputs": [],
   "source": [
    "def do_something1():\n",
    "    print(f\"Sleeping for 2 second\")\n",
    "    time.sleep(2)\n",
    "    print(f\"Done\")"
   ]
  },
  {
   "cell_type": "markdown",
   "id": "11250825",
   "metadata": {},
   "source": [
    "In multithreading, multiple threads doesn't initiate at the same time; whereas for multiprocessing , multiple processes does initiate at the same time."
   ]
  },
  {
   "cell_type": "code",
   "execution_count": 4,
   "id": "fe8f137b",
   "metadata": {},
   "outputs": [
    {
     "name": "stdout",
     "output_type": "stream",
     "text": [
      "Sleeping for 1 second\n",
      "Done 1\n",
      "Sleeping for 1 second\n",
      "Done 1\n"
     ]
    },
    {
     "data": {
      "text/plain": [
       "2.0042014000064228"
      ]
     },
     "execution_count": 4,
     "metadata": {},
     "output_type": "execute_result"
    }
   ],
   "source": [
    "t1 = time.perf_counter()\n",
    "do_something(1)\n",
    "do_something(1)\n",
    "t2 = time.perf_counter()\n",
    "t2-t1"
   ]
  },
  {
   "cell_type": "code",
   "execution_count": 5,
   "id": "3a1ac69b",
   "metadata": {},
   "outputs": [
    {
     "data": {
      "text/plain": [
       "0.01612600000225939"
      ]
     },
     "execution_count": 5,
     "metadata": {},
     "output_type": "execute_result"
    }
   ],
   "source": [
    "t1 = time.perf_counter()\n",
    "p1 = multiprocessing.Process(target=do_something,args = (1,))\n",
    "p2 = multiprocessing.Process(target=do_something,args = (1,))\n",
    "p1.start()\n",
    "p2.start()\n",
    "t2 = time.perf_counter()\n",
    "t2-t1"
   ]
  },
  {
   "cell_type": "code",
   "execution_count": 6,
   "id": "073f6bc2",
   "metadata": {},
   "outputs": [
    {
     "data": {
      "text/plain": [
       "0.09653770001023076"
      ]
     },
     "execution_count": 6,
     "metadata": {},
     "output_type": "execute_result"
    }
   ],
   "source": [
    "t1 = time.perf_counter()\n",
    "p1 = multiprocessing.Process(target=do_something1)\n",
    "p2 = multiprocessing.Process(target=do_something1)\n",
    "p1.start()\n",
    "p2.start()\n",
    "p1.join()\n",
    "p2.join()\n",
    "t2 = time.perf_counter()\n",
    "t2-t1"
   ]
  },
  {
   "cell_type": "code",
   "execution_count": 11,
   "id": "9a72b90e",
   "metadata": {},
   "outputs": [
    {
     "data": {
      "text/plain": [
       "0.18050490001041908"
      ]
     },
     "execution_count": 11,
     "metadata": {},
     "output_type": "execute_result"
    }
   ],
   "source": [
    "t1 = time.perf_counter()\n",
    "processes = []\n",
    "for _ in range(10):\n",
    "    p = multiprocessing.Process(target=do_something1)\n",
    "    p.start()\n",
    "    processes.append(p)\n",
    "    \n",
    "for process in processes:\n",
    "    process.join()\n",
    "    \n",
    "t2 = time.perf_counter()\n",
    "t2-t1"
   ]
  },
  {
   "cell_type": "code",
   "execution_count": 12,
   "id": "2d8bebbe",
   "metadata": {},
   "outputs": [
    {
     "data": {
      "text/plain": [
       "12"
      ]
     },
     "execution_count": 12,
     "metadata": {},
     "output_type": "execute_result"
    }
   ],
   "source": [
    "multiprocessing.cpu_count()"
   ]
  },
  {
   "cell_type": "code",
   "execution_count": null,
   "id": "a516798e",
   "metadata": {},
   "outputs": [],
   "source": []
  },
  {
   "cell_type": "code",
   "execution_count": null,
   "id": "48b3f454",
   "metadata": {},
   "outputs": [],
   "source": []
  },
  {
   "cell_type": "code",
   "execution_count": null,
   "id": "f002bf00",
   "metadata": {},
   "outputs": [],
   "source": []
  },
  {
   "cell_type": "code",
   "execution_count": null,
   "id": "c8fa684f",
   "metadata": {},
   "outputs": [],
   "source": []
  },
  {
   "cell_type": "code",
   "execution_count": null,
   "id": "722efa35",
   "metadata": {},
   "outputs": [],
   "source": []
  },
  {
   "cell_type": "code",
   "execution_count": null,
   "id": "b7aba389",
   "metadata": {},
   "outputs": [],
   "source": [
    "from multiprocessing import Pool\n",
    "import time\n",
    "import os\n",
    "\n",
    "def downloading(seconds):\n",
    "    print(f'Sleeping {seconds} seconds')\n",
    "    time.sleep(seconds)\n",
    "    print(f'Done sleeping {seconds} seconds')\n",
    "\n",
    "if __name__ == '__main__':\n",
    "   pool = Pool(os.cpu_count()) \n",
    "   pool.map(do_something,[1,2,3] )"
   ]
  },
  {
   "cell_type": "code",
   "execution_count": null,
   "id": "fbf2b1f8",
   "metadata": {},
   "outputs": [],
   "source": []
  }
 ],
 "metadata": {
  "kernelspec": {
   "display_name": "Python 3 (ipykernel)",
   "language": "python",
   "name": "python3"
  },
  "language_info": {
   "codemirror_mode": {
    "name": "ipython",
    "version": 3
   },
   "file_extension": ".py",
   "mimetype": "text/x-python",
   "name": "python",
   "nbconvert_exporter": "python",
   "pygments_lexer": "ipython3",
   "version": "3.11.5"
  }
 },
 "nbformat": 4,
 "nbformat_minor": 5
}
