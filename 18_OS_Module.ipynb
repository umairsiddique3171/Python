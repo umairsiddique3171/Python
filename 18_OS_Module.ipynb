{
 "cells": [
  {
   "cell_type": "code",
   "execution_count": 1,
   "id": "3a1707e0",
   "metadata": {},
   "outputs": [],
   "source": [
    "import os"
   ]
  },
  {
   "cell_type": "code",
   "execution_count": 2,
   "id": "54629a66",
   "metadata": {},
   "outputs": [],
   "source": [
    "if not os.path.exists('os_module_practice'):\n",
    "    os.mkdir(\"os_module_practice\")"
   ]
  },
  {
   "cell_type": "code",
   "execution_count": 3,
   "id": "17dad330",
   "metadata": {},
   "outputs": [],
   "source": [
    "if not os.path.exists('os_module_practice/data1'):\n",
    "    os.mkdir(\"os_module_practice/data1\")"
   ]
  },
  {
   "cell_type": "code",
   "execution_count": 4,
   "id": "5507a061",
   "metadata": {},
   "outputs": [],
   "source": [
    "# for i in range(0,100):\n",
    "#     if not os.path.exists(f'os_module_practice/data1/Day{i+1}'):\n",
    "#         os.mkdir(f\"os_module_practice/data1/Day{i+1}\")"
   ]
  },
  {
   "cell_type": "code",
   "execution_count": 5,
   "id": "1baf23ee",
   "metadata": {},
   "outputs": [],
   "source": [
    "# for i in range(0,100):\n",
    "#     os.rename(f\"os_module_practice/data1/Day{i+1}\",f\"os_module_practice/data1/Tutorial{i+1}\")"
   ]
  },
  {
   "cell_type": "code",
   "execution_count": 6,
   "id": "97f16a44",
   "metadata": {},
   "outputs": [
    {
     "name": "stdout",
     "output_type": "stream",
     "text": [
      "Help on built-in function rename in module nt:\n",
      "\n",
      "rename(src, dst, *, src_dir_fd=None, dst_dir_fd=None)\n",
      "    Rename a file or directory.\n",
      "    \n",
      "    If either src_dir_fd or dst_dir_fd is not None, it should be a file\n",
      "      descriptor open to a directory, and the respective path string (src or dst)\n",
      "      should be relative; the path will then be relative to that directory.\n",
      "    src_dir_fd and dst_dir_fd, may not be implemented on your platform.\n",
      "      If they are unavailable, using them will raise a NotImplementedError.\n",
      "\n"
     ]
    }
   ],
   "source": [
    "help(os.rename)"
   ]
  },
  {
   "cell_type": "code",
   "execution_count": 7,
   "id": "d1d60e41",
   "metadata": {},
   "outputs": [
    {
     "name": "stdout",
     "output_type": "stream",
     "text": [
      "['Tutorial1', 'Tutorial10', 'Tutorial100', 'Tutorial11', 'Tutorial12', 'Tutorial13', 'Tutorial14', 'Tutorial15', 'Tutorial16', 'Tutorial17', 'Tutorial18', 'Tutorial19', 'Tutorial2', 'Tutorial20', 'Tutorial21', 'Tutorial22', 'Tutorial23', 'Tutorial24', 'Tutorial25', 'Tutorial26', 'Tutorial27', 'Tutorial28', 'Tutorial29', 'Tutorial3', 'Tutorial30', 'Tutorial31', 'Tutorial32', 'Tutorial33', 'Tutorial34', 'Tutorial35', 'Tutorial36', 'Tutorial37', 'Tutorial38', 'Tutorial39', 'Tutorial4', 'Tutorial40', 'Tutorial41', 'Tutorial42', 'Tutorial43', 'Tutorial44', 'Tutorial45', 'Tutorial46', 'Tutorial47', 'Tutorial48', 'Tutorial49', 'Tutorial5', 'Tutorial50', 'Tutorial51', 'Tutorial52', 'Tutorial53', 'Tutorial54', 'Tutorial55', 'Tutorial56', 'Tutorial57', 'Tutorial58', 'Tutorial59', 'Tutorial6', 'Tutorial60', 'Tutorial61', 'Tutorial62', 'Tutorial63', 'Tutorial64', 'Tutorial65', 'Tutorial66', 'Tutorial67', 'Tutorial68', 'Tutorial69', 'Tutorial7', 'Tutorial70', 'Tutorial71', 'Tutorial72', 'Tutorial73', 'Tutorial74', 'Tutorial75', 'Tutorial76', 'Tutorial77', 'Tutorial78', 'Tutorial79', 'Tutorial8', 'Tutorial80', 'Tutorial81', 'Tutorial82', 'Tutorial83', 'Tutorial84', 'Tutorial85', 'Tutorial86', 'Tutorial87', 'Tutorial88', 'Tutorial89', 'Tutorial9', 'Tutorial90', 'Tutorial91', 'Tutorial92', 'Tutorial93', 'Tutorial94', 'Tutorial95', 'Tutorial96', 'Tutorial97', 'Tutorial98', 'Tutorial99']\n"
     ]
    }
   ],
   "source": [
    "folders = os.listdir(\"os_module_practice/data1\")\n",
    "print(folders)"
   ]
  },
  {
   "cell_type": "code",
   "execution_count": 8,
   "id": "bd13c7d8",
   "metadata": {},
   "outputs": [
    {
     "name": "stdout",
     "output_type": "stream",
     "text": [
      "Tutorial1\n",
      "[]\n",
      "Tutorial10\n",
      "[]\n",
      "Tutorial100\n",
      "[]\n",
      "Tutorial11\n",
      "[]\n",
      "Tutorial12\n",
      "[]\n",
      "Tutorial13\n",
      "[]\n",
      "Tutorial14\n",
      "[]\n",
      "Tutorial15\n",
      "[]\n",
      "Tutorial16\n",
      "[]\n",
      "Tutorial17\n",
      "[]\n",
      "Tutorial18\n",
      "[]\n",
      "Tutorial19\n",
      "[]\n",
      "Tutorial2\n",
      "[]\n",
      "Tutorial20\n",
      "[]\n",
      "Tutorial21\n",
      "[]\n",
      "Tutorial22\n",
      "[]\n",
      "Tutorial23\n",
      "[]\n",
      "Tutorial24\n",
      "[]\n",
      "Tutorial25\n",
      "[]\n",
      "Tutorial26\n",
      "[]\n",
      "Tutorial27\n",
      "[]\n",
      "Tutorial28\n",
      "[]\n",
      "Tutorial29\n",
      "[]\n",
      "Tutorial3\n",
      "[]\n",
      "Tutorial30\n",
      "[]\n",
      "Tutorial31\n",
      "[]\n",
      "Tutorial32\n",
      "[]\n",
      "Tutorial33\n",
      "[]\n",
      "Tutorial34\n",
      "[]\n",
      "Tutorial35\n",
      "[]\n",
      "Tutorial36\n",
      "[]\n",
      "Tutorial37\n",
      "[]\n",
      "Tutorial38\n",
      "[]\n",
      "Tutorial39\n",
      "[]\n",
      "Tutorial4\n",
      "[]\n",
      "Tutorial40\n",
      "[]\n",
      "Tutorial41\n",
      "[]\n",
      "Tutorial42\n",
      "[]\n",
      "Tutorial43\n",
      "[]\n",
      "Tutorial44\n",
      "[]\n",
      "Tutorial45\n",
      "[]\n",
      "Tutorial46\n",
      "[]\n",
      "Tutorial47\n",
      "[]\n",
      "Tutorial48\n",
      "[]\n",
      "Tutorial49\n",
      "[]\n",
      "Tutorial5\n",
      "[]\n",
      "Tutorial50\n",
      "[]\n",
      "Tutorial51\n",
      "[]\n",
      "Tutorial52\n",
      "[]\n",
      "Tutorial53\n",
      "[]\n",
      "Tutorial54\n",
      "[]\n",
      "Tutorial55\n",
      "[]\n",
      "Tutorial56\n",
      "[]\n",
      "Tutorial57\n",
      "[]\n",
      "Tutorial58\n",
      "[]\n",
      "Tutorial59\n",
      "[]\n",
      "Tutorial6\n",
      "[]\n",
      "Tutorial60\n",
      "[]\n",
      "Tutorial61\n",
      "[]\n",
      "Tutorial62\n",
      "[]\n",
      "Tutorial63\n",
      "[]\n",
      "Tutorial64\n",
      "[]\n",
      "Tutorial65\n",
      "[]\n",
      "Tutorial66\n",
      "[]\n",
      "Tutorial67\n",
      "[]\n",
      "Tutorial68\n",
      "[]\n",
      "Tutorial69\n",
      "[]\n",
      "Tutorial7\n",
      "[]\n",
      "Tutorial70\n",
      "[]\n",
      "Tutorial71\n",
      "[]\n",
      "Tutorial72\n",
      "[]\n",
      "Tutorial73\n",
      "[]\n",
      "Tutorial74\n",
      "[]\n",
      "Tutorial75\n",
      "[]\n",
      "Tutorial76\n",
      "[]\n",
      "Tutorial77\n",
      "[]\n",
      "Tutorial78\n",
      "[]\n",
      "Tutorial79\n",
      "[]\n",
      "Tutorial8\n",
      "[]\n",
      "Tutorial80\n",
      "[]\n",
      "Tutorial81\n",
      "[]\n",
      "Tutorial82\n",
      "[]\n",
      "Tutorial83\n",
      "[]\n",
      "Tutorial84\n",
      "[]\n",
      "Tutorial85\n",
      "[]\n",
      "Tutorial86\n",
      "[]\n",
      "Tutorial87\n",
      "[]\n",
      "Tutorial88\n",
      "[]\n",
      "Tutorial89\n",
      "[]\n",
      "Tutorial9\n",
      "[]\n",
      "Tutorial90\n",
      "[]\n",
      "Tutorial91\n",
      "[]\n",
      "Tutorial92\n",
      "[]\n",
      "Tutorial93\n",
      "[]\n",
      "Tutorial94\n",
      "[]\n",
      "Tutorial95\n",
      "[]\n",
      "Tutorial96\n",
      "[]\n",
      "Tutorial97\n",
      "[]\n",
      "Tutorial98\n",
      "[]\n",
      "Tutorial99\n",
      "[]\n"
     ]
    }
   ],
   "source": [
    "for folder in folders:\n",
    "    print(folder)\n",
    "    print(os.listdir(f\"os_module_practice/data1/{folder}\"))"
   ]
  },
  {
   "cell_type": "code",
   "execution_count": 9,
   "id": "06ccf5f5",
   "metadata": {},
   "outputs": [
    {
     "data": {
      "text/plain": [
       "'C:\\\\Users\\\\US593\\\\AI\\\\02_ML\\\\01_Python'"
      ]
     },
     "execution_count": 9,
     "metadata": {},
     "output_type": "execute_result"
    }
   ],
   "source": [
    "pwd"
   ]
  },
  {
   "cell_type": "code",
   "execution_count": 10,
   "id": "3234b363",
   "metadata": {},
   "outputs": [
    {
     "data": {
      "text/plain": [
       "'C:\\\\Users\\\\US593\\\\AI\\\\02_ML\\\\01_Python'"
      ]
     },
     "execution_count": 10,
     "metadata": {},
     "output_type": "execute_result"
    }
   ],
   "source": [
    "os.getcwd()"
   ]
  },
  {
   "cell_type": "code",
   "execution_count": 11,
   "id": "a181db37",
   "metadata": {},
   "outputs": [],
   "source": [
    "# os.chdir(\"C:\\\\Users\")"
   ]
  },
  {
   "cell_type": "code",
   "execution_count": 12,
   "id": "a462cd85",
   "metadata": {},
   "outputs": [],
   "source": [
    "# os.remove() # remove a file\n",
    "# os.rmdir() # removes an emtry directory"
   ]
  },
  {
   "cell_type": "code",
   "execution_count": null,
   "id": "82b7366d",
   "metadata": {},
   "outputs": [],
   "source": []
  },
  {
   "cell_type": "code",
   "execution_count": null,
   "id": "37308bba",
   "metadata": {},
   "outputs": [],
   "source": []
  },
  {
   "cell_type": "code",
   "execution_count": 13,
   "id": "ec1fa555",
   "metadata": {},
   "outputs": [],
   "source": [
    "if not os.path.exists('Exercises'):\n",
    "    os.mkdir('Exercises')"
   ]
  },
  {
   "cell_type": "code",
   "execution_count": 14,
   "id": "ca0cdc85",
   "metadata": {},
   "outputs": [],
   "source": [
    "if not os.path.exists('Exercises/Exercise 1'):\n",
    "    os.mkdir('Exercises/Exercise 1')"
   ]
  },
  {
   "cell_type": "code",
   "execution_count": 15,
   "id": "1bdd3167",
   "metadata": {},
   "outputs": [],
   "source": [
    "# os.remove('Exercise 1')"
   ]
  },
  {
   "cell_type": "code",
   "execution_count": 16,
   "id": "f0889f63",
   "metadata": {},
   "outputs": [
    {
     "name": "stdout",
     "output_type": "stream",
     "text": [
      "Help on built-in function remove in module nt:\n",
      "\n",
      "remove(path, *, dir_fd=None)\n",
      "    Remove a file (same as unlink()).\n",
      "    \n",
      "    If dir_fd is not None, it should be a file descriptor open to a directory,\n",
      "      and path should be relative; path will then be relative to that directory.\n",
      "    dir_fd may not be implemented on your platform.\n",
      "      If it is unavailable, using it will raise a NotImplementedError.\n",
      "\n"
     ]
    }
   ],
   "source": [
    "help(os.remove)"
   ]
  },
  {
   "cell_type": "code",
   "execution_count": null,
   "id": "6f63bda6",
   "metadata": {},
   "outputs": [],
   "source": []
  },
  {
   "cell_type": "code",
   "execution_count": null,
   "id": "c2218b1f",
   "metadata": {},
   "outputs": [],
   "source": []
  }
 ],
 "metadata": {
  "kernelspec": {
   "display_name": "Python 3 (ipykernel)",
   "language": "python",
   "name": "python3"
  },
  "language_info": {
   "codemirror_mode": {
    "name": "ipython",
    "version": 3
   },
   "file_extension": ".py",
   "mimetype": "text/x-python",
   "name": "python",
   "nbconvert_exporter": "python",
   "pygments_lexer": "ipython3",
   "version": "3.11.5"
  }
 },
 "nbformat": 4,
 "nbformat_minor": 5
}
